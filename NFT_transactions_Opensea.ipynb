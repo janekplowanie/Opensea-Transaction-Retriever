{
 "cells": [
  {
   "cell_type": "code",
   "execution_count": 2,
   "outputs": [],
   "source": [
    "import json\n",
    "import pandas as pd\n",
    "from useful_functions import get_opsea_trans_by_collec, extract_asset_events, combine_json_files, get_traits_collection, get_nft_traits"
   ],
   "metadata": {
    "collapsed": false,
    "ExecuteTime": {
     "end_time": "2024-03-14T01:04:32.240453Z",
     "start_time": "2024-03-14T01:04:31.877489Z"
    }
   },
   "id": "79193caaece06328"
  },
  {
   "cell_type": "markdown",
   "source": [
    "### 0. Parameter Specification"
   ],
   "metadata": {
    "collapsed": false
   },
   "id": "f08ea1aeea90aa04"
  },
  {
   "cell_type": "code",
   "outputs": [],
   "source": [
    "data = \"boredapeyachtclub, mutant-ape-yacht-club, bored-ape-kennel-club\"\n",
    "\n",
    "words = data.split(',')  # Returns a list\n",
    "collection_list = ['' + word.strip() + '' for word in words]  # I split it at , and then append to the list\n",
    "after = '2020-01-01 01:00:00'  # 1st of January 2020 01:00:00 am\n",
    "before = '2023-12-01 01:00:00'  # 1st of December 2023 01:00:00 am\n",
    "event_type = 'sale'  # Other types: all, cancel, redemption, transfer"
   ],
   "metadata": {
    "collapsed": false,
    "ExecuteTime": {
     "end_time": "2024-03-14T01:04:33.997831Z",
     "start_time": "2024-03-14T01:04:33.995276Z"
    }
   },
   "id": "3cfaa4f2c8f17821",
   "execution_count": 3
  },
  {
   "cell_type": "markdown",
   "source": [
    "### 1. Downloading transactions"
   ],
   "metadata": {
    "collapsed": false
   },
   "id": "3c2f5a2accd209e0"
  },
  {
   "cell_type": "code",
   "outputs": [],
   "source": [
    "for collection in collection_list:\n",
    "    get_opsea_trans_by_collec(collection, before, after, event_type, collection)"
   ],
   "metadata": {
    "collapsed": false
   },
   "id": "b79665017355d413"
  },
  {
   "cell_type": "markdown",
   "source": [
    "### 2. Combine the JSON files fo transactions into one"
   ],
   "metadata": {
    "collapsed": false
   },
   "id": "b2d58f7593c5748"
  },
  {
   "cell_type": "code",
   "outputs": [],
   "source": [
    "# Combine the JSON files into one\n",
    "combine_json_files(collection_list, 'combined_transactions')"
   ],
   "metadata": {
    "collapsed": false
   },
   "id": "453701ff873cc012"
  },
  {
   "cell_type": "markdown",
   "source": [
    "### 3. Add to a dataframe"
   ],
   "metadata": {
    "collapsed": false
   },
   "id": "ebf5c826781eeeba"
  },
  {
   "cell_type": "code",
   "outputs": [],
   "source": [
    "with open('Transaction_files/combined_transactions.json') as z:\n",
    "    trans_3years = json.load(z)"
   ],
   "metadata": {
    "collapsed": false,
    "ExecuteTime": {
     "end_time": "2024-03-14T01:04:54.509801Z",
     "start_time": "2024-03-14T01:04:53.400434Z"
    }
   },
   "id": "c6d3d32a432d2ebc",
   "execution_count": 4
  },
  {
   "cell_type": "code",
   "outputs": [],
   "source": [
    "# Extract list of transactions from transaction blocks and append to a list\n",
    "list_of_transactions_clean = extract_asset_events(trans_3years)"
   ],
   "metadata": {
    "collapsed": false,
    "ExecuteTime": {
     "end_time": "2024-03-14T01:04:55.940397Z",
     "start_time": "2024-03-14T01:04:55.932809Z"
    }
   },
   "id": "e57ca3ffbf18590b",
   "execution_count": 5
  },
  {
   "cell_type": "code",
   "outputs": [
    {
     "data": {
      "text/plain": "  event_type order_hash     chain protocol_address  closing_date  quantity  \\\n0       sale             ethereum                     1701378215         1   \n1       sale             ethereum                     1701378179         1   \n2       sale             ethereum                     1701378179         1   \n3       sale             ethereum                     1701378179         1   \n4       sale             ethereum                     1701378179         1   \n\n                                       seller  \\\n0  0x29469395eaf6f95920e59f858042f0e28d98a20b   \n1  0x29469395eaf6f95920e59f858042f0e28d98a20b   \n2  0x29469395eaf6f95920e59f858042f0e28d98a20b   \n3  0x29469395eaf6f95920e59f858042f0e28d98a20b   \n4  0x29469395eaf6f95920e59f858042f0e28d98a20b   \n\n                                        buyer  \\\n0  0xae7fca4f38a28fe3580d42d7a56190ff4b80dc65   \n1  0x458dbf62e68463fe0b14c0f8dd69e695d23ca0cb   \n2  0x9afef7dac35f070dc3976f0597b8c872f6b19d1d   \n3  0x458dbf62e68463fe0b14c0f8dd69e695d23ca0cb   \n4  0x458dbf62e68463fe0b14c0f8dd69e695d23ca0cb   \n\n                                         transaction  event_timestamp  ...  \\\n0  0xb085fc8e1fa7518ced3c411a9184551138db03c75a53...       1701378215  ...   \n1  0x46667400bc0225903e71d4f16f1625b239c72617a326...       1701378179  ...   \n2  0x998eac1b78861ce9ba700003b21582f3d31d4d9b12e1...       1701378179  ...   \n3  0x50f53f1b2900bbdb10fa54e29817eb0a12f21739d8c3...       1701378179  ...   \n4  0x157175e7dee4ed8269415be4cf7c52fbbaa3eb113656...       1701378179  ...   \n\n                                     nft.opensea_url  \\\n0  https://opensea.io/assets/ethereum/0xbc4ca0eda...   \n1  https://opensea.io/assets/ethereum/0xbc4ca0eda...   \n2  https://opensea.io/assets/ethereum/0xbc4ca0eda...   \n3  https://opensea.io/assets/ethereum/0xbc4ca0eda...   \n4  https://opensea.io/assets/ethereum/0xbc4ca0eda...   \n\n               nft.updated_at nft.is_disabled nft.is_nsfw  \\\n0  2024-01-13T02:50:25.797011           False       False   \n1  2023-12-27T06:22:13.050808           False       False   \n2  2023-12-02T07:21:27.507469           False       False   \n3  2024-01-26T08:08:15.693777           False       False   \n4  2024-01-26T17:09:27.131954           False       False   \n\n       payment.quantity                       payment.token_address  \\\n0  28250000000000000000  0xc02aaa39b223fe8d0a0e5c4f27ead9083c756cc2   \n1  28300000000000000000  0xc02aaa39b223fe8d0a0e5c4f27ead9083c756cc2   \n2  28300000000000000000  0xc02aaa39b223fe8d0a0e5c4f27ead9083c756cc2   \n3  28300000000000000000  0xc02aaa39b223fe8d0a0e5c4f27ead9083c756cc2   \n4  28300000000000000000  0xc02aaa39b223fe8d0a0e5c4f27ead9083c756cc2   \n\n  payment.decimals payment.symbol nft payment  \n0             18.0           WETH NaN     NaN  \n1             18.0           WETH NaN     NaN  \n2             18.0           WETH NaN     NaN  \n3             18.0           WETH NaN     NaN  \n4             18.0           WETH NaN     NaN  \n\n[5 rows x 28 columns]",
      "text/html": "<div>\n<style scoped>\n    .dataframe tbody tr th:only-of-type {\n        vertical-align: middle;\n    }\n\n    .dataframe tbody tr th {\n        vertical-align: top;\n    }\n\n    .dataframe thead th {\n        text-align: right;\n    }\n</style>\n<table border=\"1\" class=\"dataframe\">\n  <thead>\n    <tr style=\"text-align: right;\">\n      <th></th>\n      <th>event_type</th>\n      <th>order_hash</th>\n      <th>chain</th>\n      <th>protocol_address</th>\n      <th>closing_date</th>\n      <th>quantity</th>\n      <th>seller</th>\n      <th>buyer</th>\n      <th>transaction</th>\n      <th>event_timestamp</th>\n      <th>...</th>\n      <th>nft.opensea_url</th>\n      <th>nft.updated_at</th>\n      <th>nft.is_disabled</th>\n      <th>nft.is_nsfw</th>\n      <th>payment.quantity</th>\n      <th>payment.token_address</th>\n      <th>payment.decimals</th>\n      <th>payment.symbol</th>\n      <th>nft</th>\n      <th>payment</th>\n    </tr>\n  </thead>\n  <tbody>\n    <tr>\n      <th>0</th>\n      <td>sale</td>\n      <td></td>\n      <td>ethereum</td>\n      <td></td>\n      <td>1701378215</td>\n      <td>1</td>\n      <td>0x29469395eaf6f95920e59f858042f0e28d98a20b</td>\n      <td>0xae7fca4f38a28fe3580d42d7a56190ff4b80dc65</td>\n      <td>0xb085fc8e1fa7518ced3c411a9184551138db03c75a53...</td>\n      <td>1701378215</td>\n      <td>...</td>\n      <td>https://opensea.io/assets/ethereum/0xbc4ca0eda...</td>\n      <td>2024-01-13T02:50:25.797011</td>\n      <td>False</td>\n      <td>False</td>\n      <td>28250000000000000000</td>\n      <td>0xc02aaa39b223fe8d0a0e5c4f27ead9083c756cc2</td>\n      <td>18.0</td>\n      <td>WETH</td>\n      <td>NaN</td>\n      <td>NaN</td>\n    </tr>\n    <tr>\n      <th>1</th>\n      <td>sale</td>\n      <td></td>\n      <td>ethereum</td>\n      <td></td>\n      <td>1701378179</td>\n      <td>1</td>\n      <td>0x29469395eaf6f95920e59f858042f0e28d98a20b</td>\n      <td>0x458dbf62e68463fe0b14c0f8dd69e695d23ca0cb</td>\n      <td>0x46667400bc0225903e71d4f16f1625b239c72617a326...</td>\n      <td>1701378179</td>\n      <td>...</td>\n      <td>https://opensea.io/assets/ethereum/0xbc4ca0eda...</td>\n      <td>2023-12-27T06:22:13.050808</td>\n      <td>False</td>\n      <td>False</td>\n      <td>28300000000000000000</td>\n      <td>0xc02aaa39b223fe8d0a0e5c4f27ead9083c756cc2</td>\n      <td>18.0</td>\n      <td>WETH</td>\n      <td>NaN</td>\n      <td>NaN</td>\n    </tr>\n    <tr>\n      <th>2</th>\n      <td>sale</td>\n      <td></td>\n      <td>ethereum</td>\n      <td></td>\n      <td>1701378179</td>\n      <td>1</td>\n      <td>0x29469395eaf6f95920e59f858042f0e28d98a20b</td>\n      <td>0x9afef7dac35f070dc3976f0597b8c872f6b19d1d</td>\n      <td>0x998eac1b78861ce9ba700003b21582f3d31d4d9b12e1...</td>\n      <td>1701378179</td>\n      <td>...</td>\n      <td>https://opensea.io/assets/ethereum/0xbc4ca0eda...</td>\n      <td>2023-12-02T07:21:27.507469</td>\n      <td>False</td>\n      <td>False</td>\n      <td>28300000000000000000</td>\n      <td>0xc02aaa39b223fe8d0a0e5c4f27ead9083c756cc2</td>\n      <td>18.0</td>\n      <td>WETH</td>\n      <td>NaN</td>\n      <td>NaN</td>\n    </tr>\n    <tr>\n      <th>3</th>\n      <td>sale</td>\n      <td></td>\n      <td>ethereum</td>\n      <td></td>\n      <td>1701378179</td>\n      <td>1</td>\n      <td>0x29469395eaf6f95920e59f858042f0e28d98a20b</td>\n      <td>0x458dbf62e68463fe0b14c0f8dd69e695d23ca0cb</td>\n      <td>0x50f53f1b2900bbdb10fa54e29817eb0a12f21739d8c3...</td>\n      <td>1701378179</td>\n      <td>...</td>\n      <td>https://opensea.io/assets/ethereum/0xbc4ca0eda...</td>\n      <td>2024-01-26T08:08:15.693777</td>\n      <td>False</td>\n      <td>False</td>\n      <td>28300000000000000000</td>\n      <td>0xc02aaa39b223fe8d0a0e5c4f27ead9083c756cc2</td>\n      <td>18.0</td>\n      <td>WETH</td>\n      <td>NaN</td>\n      <td>NaN</td>\n    </tr>\n    <tr>\n      <th>4</th>\n      <td>sale</td>\n      <td></td>\n      <td>ethereum</td>\n      <td></td>\n      <td>1701378179</td>\n      <td>1</td>\n      <td>0x29469395eaf6f95920e59f858042f0e28d98a20b</td>\n      <td>0x458dbf62e68463fe0b14c0f8dd69e695d23ca0cb</td>\n      <td>0x157175e7dee4ed8269415be4cf7c52fbbaa3eb113656...</td>\n      <td>1701378179</td>\n      <td>...</td>\n      <td>https://opensea.io/assets/ethereum/0xbc4ca0eda...</td>\n      <td>2024-01-26T17:09:27.131954</td>\n      <td>False</td>\n      <td>False</td>\n      <td>28300000000000000000</td>\n      <td>0xc02aaa39b223fe8d0a0e5c4f27ead9083c756cc2</td>\n      <td>18.0</td>\n      <td>WETH</td>\n      <td>NaN</td>\n      <td>NaN</td>\n    </tr>\n  </tbody>\n</table>\n<p>5 rows × 28 columns</p>\n</div>"
     },
     "execution_count": 6,
     "metadata": {},
     "output_type": "execute_result"
    }
   ],
   "source": [
    "df = pd.json_normalize(list_of_transactions_clean)\n",
    "df.head()  # 28 columns"
   ],
   "metadata": {
    "collapsed": false,
    "ExecuteTime": {
     "end_time": "2024-03-14T01:04:58.677961Z",
     "start_time": "2024-03-14T01:04:56.734196Z"
    }
   },
   "id": "c9620508575d9f2d",
   "execution_count": 6
  },
  {
   "cell_type": "markdown",
   "source": [
    "### 4. Number of unique NFTs"
   ],
   "metadata": {
    "collapsed": false
   },
   "id": "49a47e1d79f9f2f0"
  },
  {
   "cell_type": "code",
   "outputs": [
    {
     "data": {
      "text/plain": "(30860, 15644)"
     },
     "execution_count": 8,
     "metadata": {},
     "output_type": "execute_result"
    }
   ],
   "source": [
    "df[\"nft.metadata_url\"].nunique(), df[\"nft.identifier\"].nunique() # Only urls are truly unique 30860 is the correct number"
   ],
   "metadata": {
    "collapsed": false,
    "ExecuteTime": {
     "end_time": "2024-03-14T01:07:02.561032Z",
     "start_time": "2024-03-14T01:07:02.437028Z"
    }
   },
   "id": "86469f432c50f3",
   "execution_count": 8
  },
  {
   "cell_type": "markdown",
   "source": [
    "### 5. Extracting traits from metadata_url for every transaction"
   ],
   "metadata": {
    "collapsed": false
   },
   "id": "c9d5e853cd28bf76"
  },
  {
   "cell_type": "code",
   "outputs": [
    {
     "name": "stdout",
     "output_type": "stream",
     "text": [
      "Error extracting traits from https://boredapeyachtclub.com/api/mutants/10236: Status Code 429\n",
      "Error extracting traits from https://boredapeyachtclub.com/api/mutants/10238: Status Code 429\n",
      "Error extracting traits from https://boredapeyachtclub.com/api/mutants/1024: Status Code 429\n",
      "Error extracting traits from https://boredapeyachtclub.com/api/mutants/10240: Status Code 429\n",
      "Error extracting traits from https://boredapeyachtclub.com/api/mutants/10248: Status Code 429\n",
      "Error extracting traits from https://boredapeyachtclub.com/api/mutants/1025: Status Code 429\n",
      "Error extracting traits from https://boredapeyachtclub.com/api/mutants/10250: Status Code 429\n",
      "Error extracting traits from https://boredapeyachtclub.com/api/mutants/10252: Status Code 429\n",
      "Error extracting traits from https://boredapeyachtclub.com/api/mutants/10256: Status Code 429\n",
      "Error extracting traits from https://boredapeyachtclub.com/api/mutants/10257: Status Code 429\n",
      "Error extracting traits from https://boredapeyachtclub.com/api/mutants/1026: Status Code 429\n",
      "Error extracting traits from https://boredapeyachtclub.com/api/mutants/10264: Status Code 429\n",
      "Error extracting traits from https://boredapeyachtclub.com/api/mutants/10265: Status Code 429\n",
      "Error extracting traits from https://boredapeyachtclub.com/api/mutants/10268: Status Code 429\n",
      "Error extracting traits from https://boredapeyachtclub.com/api/mutants/10269: Status Code 429\n",
      "Error extracting traits from https://boredapeyachtclub.com/api/mutants/1027: Status Code 429\n",
      "Error extracting traits from https://boredapeyachtclub.com/api/mutants/10270: Status Code 429\n",
      "Error extracting traits from https://boredapeyachtclub.com/api/mutants/10273: Status Code 429\n",
      "Error extracting traits from https://boredapeyachtclub.com/api/mutants/10274: Status Code 429\n",
      "Error extracting traits from https://boredapeyachtclub.com/api/mutants/10276: Status Code 429\n",
      "Error extracting traits from https://boredapeyachtclub.com/api/mutants/10278: Status Code 429\n",
      "Error extracting traits from https://boredapeyachtclub.com/api/mutants/10279: Status Code 429\n",
      "Error extracting traits from https://boredapeyachtclub.com/api/mutants/1028: Status Code 429\n",
      "Error extracting traits from https://boredapeyachtclub.com/api/mutants/10284: Status Code 429\n",
      "Error extracting traits from https://boredapeyachtclub.com/api/mutants/1029: Status Code 429\n",
      "Error extracting traits from https://boredapeyachtclub.com/api/mutants/10294: Status Code 429\n",
      "Error extracting traits from https://boredapeyachtclub.com/api/mutants/103: Status Code 429\n",
      "Error extracting traits from https://boredapeyachtclub.com/api/mutants/1030: Status Code 429\n",
      "Error extracting traits from https://boredapeyachtclub.com/api/mutants/10306: Status Code 429\n",
      "Error extracting traits from https://boredapeyachtclub.com/api/mutants/10308: Status Code 429\n",
      "Error extracting traits from https://boredapeyachtclub.com/api/mutants/1031: Status Code 429\n",
      "Error extracting traits from https://boredapeyachtclub.com/api/mutants/10318: Status Code 429\n",
      "Error extracting traits from https://boredapeyachtclub.com/api/mutants/1032: Status Code 429\n",
      "Error extracting traits from https://boredapeyachtclub.com/api/mutants/10324: Status Code 429\n",
      "Error extracting traits from https://boredapeyachtclub.com/api/mutants/10325: Status Code 429\n",
      "Error extracting traits from https://boredapeyachtclub.com/api/mutants/10326: Status Code 429\n",
      "Error extracting traits from https://boredapeyachtclub.com/api/mutants/10328: Status Code 429\n",
      "Error extracting traits from https://boredapeyachtclub.com/api/mutants/1033: Status Code 429\n",
      "Error extracting traits from https://boredapeyachtclub.com/api/mutants/10330: Status Code 429\n",
      "Error extracting traits from https://boredapeyachtclub.com/api/mutants/10332: Status Code 429\n",
      "Error extracting traits from https://boredapeyachtclub.com/api/mutants/1034: Status Code 429\n",
      "Error extracting traits from https://boredapeyachtclub.com/api/mutants/10340: Status Code 429\n",
      "Error extracting traits from https://boredapeyachtclub.com/api/mutants/10342: Status Code 429\n",
      "Error extracting traits from https://boredapeyachtclub.com/api/mutants/10344: Status Code 429\n",
      "Error extracting traits from https://boredapeyachtclub.com/api/mutants/10346: Status Code 429\n",
      "Error extracting traits from https://boredapeyachtclub.com/api/mutants/1035: Status Code 429\n",
      "Error extracting traits from https://boredapeyachtclub.com/api/mutants/10350: Status Code 429\n",
      "Error extracting traits from https://boredapeyachtclub.com/api/mutants/10354: Status Code 429\n",
      "Error extracting traits from https://boredapeyachtclub.com/api/mutants/10356: Status Code 429\n",
      "Error extracting traits from https://boredapeyachtclub.com/api/mutants/10358: Status Code 429\n",
      "Error extracting traits from https://boredapeyachtclub.com/api/mutants/1036: Status Code 429\n",
      "Error extracting traits from https://boredapeyachtclub.com/api/mutants/10360: Status Code 429\n",
      "Error extracting traits from https://boredapeyachtclub.com/api/mutants/10362: Status Code 429\n",
      "Error extracting traits from https://boredapeyachtclub.com/api/mutants/10368: Status Code 429\n",
      "Error extracting traits from https://boredapeyachtclub.com/api/mutants/1037: Status Code 429\n",
      "Error extracting traits from https://boredapeyachtclub.com/api/mutants/10370: Status Code 429\n",
      "Error extracting traits from https://boredapeyachtclub.com/api/mutants/10372: Status Code 429\n",
      "Error extracting traits from https://boredapeyachtclub.com/api/mutants/10374: Status Code 429\n",
      "Error extracting traits from https://boredapeyachtclub.com/api/mutants/10379: Status Code 429\n",
      "Error extracting traits from https://boredapeyachtclub.com/api/mutants/1038: Status Code 429\n",
      "Error extracting traits from https://boredapeyachtclub.com/api/mutants/10384: Status Code 429\n",
      "Error extracting traits from https://boredapeyachtclub.com/api/mutants/10386: Status Code 429\n",
      "Error extracting traits from https://boredapeyachtclub.com/api/mutants/10387: Status Code 429\n",
      "Error extracting traits from https://boredapeyachtclub.com/api/mutants/10390: Status Code 429\n",
      "Error extracting traits from https://boredapeyachtclub.com/api/mutants/10392: Status Code 429\n",
      "Error extracting traits from https://boredapeyachtclub.com/api/mutants/10395: Status Code 429\n",
      "Error extracting traits from https://boredapeyachtclub.com/api/mutants/10398: Status Code 429\n",
      "Error extracting traits from https://boredapeyachtclub.com/api/mutants/104: Status Code 429\n",
      "Error extracting traits from https://boredapeyachtclub.com/api/mutants/1040: Status Code 429\n",
      "Error extracting traits from https://boredapeyachtclub.com/api/mutants/10400: Status Code 429\n",
      "Error extracting traits from https://boredapeyachtclub.com/api/mutants/10402: Status Code 429\n",
      "Error extracting traits from https://boredapeyachtclub.com/api/mutants/10404: Status Code 429\n",
      "Error extracting traits from https://boredapeyachtclub.com/api/mutants/10405: Status Code 429\n",
      "Error extracting traits from https://boredapeyachtclub.com/api/mutants/10406: Status Code 429\n",
      "Error extracting traits from https://boredapeyachtclub.com/api/mutants/1041: Status Code 429\n",
      "Error extracting traits from https://boredapeyachtclub.com/api/mutants/10410: Status Code 429\n",
      "Error extracting traits from https://boredapeyachtclub.com/api/mutants/10416: Status Code 429\n",
      "Error extracting traits from https://boredapeyachtclub.com/api/mutants/10417: Status Code 429\n",
      "Error extracting traits from https://boredapeyachtclub.com/api/mutants/10418: Status Code 429\n",
      "Error extracting traits from https://boredapeyachtclub.com/api/mutants/1042: Status Code 429\n",
      "Error extracting traits from https://boredapeyachtclub.com/api/mutants/10420: Status Code 429\n",
      "Error extracting traits from https://boredapeyachtclub.com/api/mutants/10422: Status Code 429\n",
      "Error extracting traits from https://boredapeyachtclub.com/api/mutants/10423: Status Code 429\n",
      "Error extracting traits from https://boredapeyachtclub.com/api/mutants/10424: Status Code 429\n",
      "Error extracting traits from https://boredapeyachtclub.com/api/mutants/10426: Status Code 429\n",
      "Error extracting traits from https://boredapeyachtclub.com/api/mutants/10428: Status Code 429\n",
      "Error extracting traits from https://boredapeyachtclub.com/api/mutants/1043: Status Code 429\n",
      "Error extracting traits from https://boredapeyachtclub.com/api/mutants/10430: Status Code 429\n",
      "Error extracting traits from https://boredapeyachtclub.com/api/mutants/10432: Status Code 429\n",
      "Error extracting traits from https://boredapeyachtclub.com/api/mutants/10434: Status Code 429\n",
      "Error extracting traits from https://boredapeyachtclub.com/api/mutants/10438: Status Code 429\n",
      "Error extracting traits from https://boredapeyachtclub.com/api/mutants/1044: Status Code 429\n",
      "Error extracting traits from https://boredapeyachtclub.com/api/mutants/10440: Status Code 429\n",
      "Error extracting traits from https://boredapeyachtclub.com/api/mutants/10444: Status Code 429\n",
      "Error extracting traits from https://boredapeyachtclub.com/api/mutants/10445: Status Code 429\n",
      "Error extracting traits from https://boredapeyachtclub.com/api/mutants/10446: Status Code 429\n",
      "Error extracting traits from https://boredapeyachtclub.com/api/mutants/1045: Status Code 429\n",
      "Error extracting traits from https://boredapeyachtclub.com/api/mutants/10450: Status Code 429\n",
      "Error extracting traits from https://boredapeyachtclub.com/api/mutants/10451: Status Code 429\n",
      "Error extracting traits from https://boredapeyachtclub.com/api/mutants/10452: Status Code 429\n",
      "Error extracting traits from https://boredapeyachtclub.com/api/mutants/10455: Status Code 429\n",
      "Error extracting traits from https://boredapeyachtclub.com/api/mutants/10464: Status Code 429\n",
      "Error extracting traits from https://boredapeyachtclub.com/api/mutants/1047: Status Code 429\n",
      "Error extracting traits from https://boredapeyachtclub.com/api/mutants/1048: Status Code 429\n"
     ]
    },
    {
     "ename": "KeyboardInterrupt",
     "evalue": "",
     "output_type": "error",
     "traceback": [
      "\u001B[0;31m---------------------------------------------------------------------------\u001B[0m",
      "\u001B[0;31mKeyboardInterrupt\u001B[0m                         Traceback (most recent call last)",
      "Cell \u001B[0;32mIn[9], line 2\u001B[0m\n\u001B[1;32m      1\u001B[0m \u001B[38;5;66;03m# Get DataFrame with added nft.traits column\u001B[39;00m\n\u001B[0;32m----> 2\u001B[0m df \u001B[38;5;241m=\u001B[39m \u001B[43mget_nft_traits\u001B[49m\u001B[43m(\u001B[49m\u001B[43mdf\u001B[49m\u001B[43m)\u001B[49m\n",
      "File \u001B[0;32m~/Desktop/All Folders/Education/School/UNI/Research Asistant scheme/Daniele Bianchi/Transaction_Retriever_Opensea/Opensea-Transaction-Retriever/useful_functions.py:279\u001B[0m, in \u001B[0;36mget_nft_traits\u001B[0;34m(transactions)\u001B[0m\n\u001B[1;32m    275\u001B[0m \u001B[38;5;66;03m# Iterate over each group\u001B[39;00m\n\u001B[1;32m    276\u001B[0m \u001B[38;5;28;01mfor\u001B[39;00m url, group \u001B[38;5;129;01min\u001B[39;00m grouped:\n\u001B[1;32m    277\u001B[0m     \u001B[38;5;66;03m# Extract traits for the current NFT\u001B[39;00m\n\u001B[1;32m    278\u001B[0m     \u001B[38;5;66;03m# Each group corresponds to transactions associated with a unique NFT metadata URL\u001B[39;00m\n\u001B[0;32m--> 279\u001B[0m     traits \u001B[38;5;241m=\u001B[39m \u001B[43mextract_traits\u001B[49m\u001B[43m(\u001B[49m\u001B[43murl\u001B[49m\u001B[43m)\u001B[49m\n\u001B[1;32m    280\u001B[0m     \u001B[38;5;66;03m# Store traits for the current NFT\u001B[39;00m\n\u001B[1;32m    281\u001B[0m     nft_traits[url] \u001B[38;5;241m=\u001B[39m traits\n",
      "File \u001B[0;32m~/Desktop/All Folders/Education/School/UNI/Research Asistant scheme/Daniele Bianchi/Transaction_Retriever_Opensea/Opensea-Transaction-Retriever/useful_functions.py:250\u001B[0m, in \u001B[0;36mextract_traits\u001B[0;34m(url)\u001B[0m\n\u001B[1;32m    242\u001B[0m \u001B[38;5;28;01mdef\u001B[39;00m \u001B[38;5;21mextract_traits\u001B[39m(url):\n\u001B[1;32m    243\u001B[0m \u001B[38;5;250m    \u001B[39m\u001B[38;5;124;03m\"\"\"\u001B[39;00m\n\u001B[1;32m    244\u001B[0m \u001B[38;5;124;03m    Extracts NFT traits from a given URL containing NFT metadata.\u001B[39;00m\n\u001B[1;32m    245\u001B[0m \n\u001B[1;32m    246\u001B[0m \u001B[38;5;124;03m    :param url: A string representing the URL containing NFT metadata.\u001B[39;00m\n\u001B[1;32m    247\u001B[0m \u001B[38;5;124;03m    :return: A list of dictionaries representing the traits extracted from the metadata.\u001B[39;00m\n\u001B[1;32m    248\u001B[0m \u001B[38;5;124;03m    \"\"\"\u001B[39;00m\n\u001B[0;32m--> 250\u001B[0m     response \u001B[38;5;241m=\u001B[39m \u001B[43mrequests\u001B[49m\u001B[38;5;241;43m.\u001B[39;49m\u001B[43mget\u001B[49m\u001B[43m(\u001B[49m\u001B[43murl\u001B[49m\u001B[43m)\u001B[49m\n\u001B[1;32m    251\u001B[0m     \u001B[38;5;28;01mif\u001B[39;00m response\u001B[38;5;241m.\u001B[39mstatus_code \u001B[38;5;241m==\u001B[39m \u001B[38;5;241m200\u001B[39m:\n\u001B[1;32m    252\u001B[0m         metadata \u001B[38;5;241m=\u001B[39m response\u001B[38;5;241m.\u001B[39mjson()\n",
      "File \u001B[0;32m~/anaconda3/envs/Research_NFTs_DB/lib/python3.10/site-packages/requests/api.py:73\u001B[0m, in \u001B[0;36mget\u001B[0;34m(url, params, **kwargs)\u001B[0m\n\u001B[1;32m     62\u001B[0m \u001B[38;5;28;01mdef\u001B[39;00m \u001B[38;5;21mget\u001B[39m(url, params\u001B[38;5;241m=\u001B[39m\u001B[38;5;28;01mNone\u001B[39;00m, \u001B[38;5;241m*\u001B[39m\u001B[38;5;241m*\u001B[39mkwargs):\n\u001B[1;32m     63\u001B[0m \u001B[38;5;250m    \u001B[39m\u001B[38;5;124mr\u001B[39m\u001B[38;5;124;03m\"\"\"Sends a GET request.\u001B[39;00m\n\u001B[1;32m     64\u001B[0m \n\u001B[1;32m     65\u001B[0m \u001B[38;5;124;03m    :param url: URL for the new :class:`Request` object.\u001B[39;00m\n\u001B[0;32m   (...)\u001B[0m\n\u001B[1;32m     70\u001B[0m \u001B[38;5;124;03m    :rtype: requests.Response\u001B[39;00m\n\u001B[1;32m     71\u001B[0m \u001B[38;5;124;03m    \"\"\"\u001B[39;00m\n\u001B[0;32m---> 73\u001B[0m     \u001B[38;5;28;01mreturn\u001B[39;00m \u001B[43mrequest\u001B[49m\u001B[43m(\u001B[49m\u001B[38;5;124;43m\"\u001B[39;49m\u001B[38;5;124;43mget\u001B[39;49m\u001B[38;5;124;43m\"\u001B[39;49m\u001B[43m,\u001B[49m\u001B[43m \u001B[49m\u001B[43murl\u001B[49m\u001B[43m,\u001B[49m\u001B[43m \u001B[49m\u001B[43mparams\u001B[49m\u001B[38;5;241;43m=\u001B[39;49m\u001B[43mparams\u001B[49m\u001B[43m,\u001B[49m\u001B[43m \u001B[49m\u001B[38;5;241;43m*\u001B[39;49m\u001B[38;5;241;43m*\u001B[39;49m\u001B[43mkwargs\u001B[49m\u001B[43m)\u001B[49m\n",
      "File \u001B[0;32m~/anaconda3/envs/Research_NFTs_DB/lib/python3.10/site-packages/requests/api.py:59\u001B[0m, in \u001B[0;36mrequest\u001B[0;34m(method, url, **kwargs)\u001B[0m\n\u001B[1;32m     55\u001B[0m \u001B[38;5;66;03m# By using the 'with' statement we are sure the session is closed, thus we\u001B[39;00m\n\u001B[1;32m     56\u001B[0m \u001B[38;5;66;03m# avoid leaving sockets open which can trigger a ResourceWarning in some\u001B[39;00m\n\u001B[1;32m     57\u001B[0m \u001B[38;5;66;03m# cases, and look like a memory leak in others.\u001B[39;00m\n\u001B[1;32m     58\u001B[0m \u001B[38;5;28;01mwith\u001B[39;00m sessions\u001B[38;5;241m.\u001B[39mSession() \u001B[38;5;28;01mas\u001B[39;00m session:\n\u001B[0;32m---> 59\u001B[0m     \u001B[38;5;28;01mreturn\u001B[39;00m \u001B[43msession\u001B[49m\u001B[38;5;241;43m.\u001B[39;49m\u001B[43mrequest\u001B[49m\u001B[43m(\u001B[49m\u001B[43mmethod\u001B[49m\u001B[38;5;241;43m=\u001B[39;49m\u001B[43mmethod\u001B[49m\u001B[43m,\u001B[49m\u001B[43m \u001B[49m\u001B[43murl\u001B[49m\u001B[38;5;241;43m=\u001B[39;49m\u001B[43murl\u001B[49m\u001B[43m,\u001B[49m\u001B[43m \u001B[49m\u001B[38;5;241;43m*\u001B[39;49m\u001B[38;5;241;43m*\u001B[39;49m\u001B[43mkwargs\u001B[49m\u001B[43m)\u001B[49m\n",
      "File \u001B[0;32m~/anaconda3/envs/Research_NFTs_DB/lib/python3.10/site-packages/requests/sessions.py:589\u001B[0m, in \u001B[0;36mSession.request\u001B[0;34m(self, method, url, params, data, headers, cookies, files, auth, timeout, allow_redirects, proxies, hooks, stream, verify, cert, json)\u001B[0m\n\u001B[1;32m    584\u001B[0m send_kwargs \u001B[38;5;241m=\u001B[39m {\n\u001B[1;32m    585\u001B[0m     \u001B[38;5;124m\"\u001B[39m\u001B[38;5;124mtimeout\u001B[39m\u001B[38;5;124m\"\u001B[39m: timeout,\n\u001B[1;32m    586\u001B[0m     \u001B[38;5;124m\"\u001B[39m\u001B[38;5;124mallow_redirects\u001B[39m\u001B[38;5;124m\"\u001B[39m: allow_redirects,\n\u001B[1;32m    587\u001B[0m }\n\u001B[1;32m    588\u001B[0m send_kwargs\u001B[38;5;241m.\u001B[39mupdate(settings)\n\u001B[0;32m--> 589\u001B[0m resp \u001B[38;5;241m=\u001B[39m \u001B[38;5;28;43mself\u001B[39;49m\u001B[38;5;241;43m.\u001B[39;49m\u001B[43msend\u001B[49m\u001B[43m(\u001B[49m\u001B[43mprep\u001B[49m\u001B[43m,\u001B[49m\u001B[43m \u001B[49m\u001B[38;5;241;43m*\u001B[39;49m\u001B[38;5;241;43m*\u001B[39;49m\u001B[43msend_kwargs\u001B[49m\u001B[43m)\u001B[49m\n\u001B[1;32m    591\u001B[0m \u001B[38;5;28;01mreturn\u001B[39;00m resp\n",
      "File \u001B[0;32m~/anaconda3/envs/Research_NFTs_DB/lib/python3.10/site-packages/requests/sessions.py:703\u001B[0m, in \u001B[0;36mSession.send\u001B[0;34m(self, request, **kwargs)\u001B[0m\n\u001B[1;32m    700\u001B[0m start \u001B[38;5;241m=\u001B[39m preferred_clock()\n\u001B[1;32m    702\u001B[0m \u001B[38;5;66;03m# Send the request\u001B[39;00m\n\u001B[0;32m--> 703\u001B[0m r \u001B[38;5;241m=\u001B[39m \u001B[43madapter\u001B[49m\u001B[38;5;241;43m.\u001B[39;49m\u001B[43msend\u001B[49m\u001B[43m(\u001B[49m\u001B[43mrequest\u001B[49m\u001B[43m,\u001B[49m\u001B[43m \u001B[49m\u001B[38;5;241;43m*\u001B[39;49m\u001B[38;5;241;43m*\u001B[39;49m\u001B[43mkwargs\u001B[49m\u001B[43m)\u001B[49m\n\u001B[1;32m    705\u001B[0m \u001B[38;5;66;03m# Total elapsed time of the request (approximately)\u001B[39;00m\n\u001B[1;32m    706\u001B[0m elapsed \u001B[38;5;241m=\u001B[39m preferred_clock() \u001B[38;5;241m-\u001B[39m start\n",
      "File \u001B[0;32m~/anaconda3/envs/Research_NFTs_DB/lib/python3.10/site-packages/requests/adapters.py:486\u001B[0m, in \u001B[0;36mHTTPAdapter.send\u001B[0;34m(self, request, stream, timeout, verify, cert, proxies)\u001B[0m\n\u001B[1;32m    483\u001B[0m     timeout \u001B[38;5;241m=\u001B[39m TimeoutSauce(connect\u001B[38;5;241m=\u001B[39mtimeout, read\u001B[38;5;241m=\u001B[39mtimeout)\n\u001B[1;32m    485\u001B[0m \u001B[38;5;28;01mtry\u001B[39;00m:\n\u001B[0;32m--> 486\u001B[0m     resp \u001B[38;5;241m=\u001B[39m \u001B[43mconn\u001B[49m\u001B[38;5;241;43m.\u001B[39;49m\u001B[43murlopen\u001B[49m\u001B[43m(\u001B[49m\n\u001B[1;32m    487\u001B[0m \u001B[43m        \u001B[49m\u001B[43mmethod\u001B[49m\u001B[38;5;241;43m=\u001B[39;49m\u001B[43mrequest\u001B[49m\u001B[38;5;241;43m.\u001B[39;49m\u001B[43mmethod\u001B[49m\u001B[43m,\u001B[49m\n\u001B[1;32m    488\u001B[0m \u001B[43m        \u001B[49m\u001B[43murl\u001B[49m\u001B[38;5;241;43m=\u001B[39;49m\u001B[43murl\u001B[49m\u001B[43m,\u001B[49m\n\u001B[1;32m    489\u001B[0m \u001B[43m        \u001B[49m\u001B[43mbody\u001B[49m\u001B[38;5;241;43m=\u001B[39;49m\u001B[43mrequest\u001B[49m\u001B[38;5;241;43m.\u001B[39;49m\u001B[43mbody\u001B[49m\u001B[43m,\u001B[49m\n\u001B[1;32m    490\u001B[0m \u001B[43m        \u001B[49m\u001B[43mheaders\u001B[49m\u001B[38;5;241;43m=\u001B[39;49m\u001B[43mrequest\u001B[49m\u001B[38;5;241;43m.\u001B[39;49m\u001B[43mheaders\u001B[49m\u001B[43m,\u001B[49m\n\u001B[1;32m    491\u001B[0m \u001B[43m        \u001B[49m\u001B[43mredirect\u001B[49m\u001B[38;5;241;43m=\u001B[39;49m\u001B[38;5;28;43;01mFalse\u001B[39;49;00m\u001B[43m,\u001B[49m\n\u001B[1;32m    492\u001B[0m \u001B[43m        \u001B[49m\u001B[43massert_same_host\u001B[49m\u001B[38;5;241;43m=\u001B[39;49m\u001B[38;5;28;43;01mFalse\u001B[39;49;00m\u001B[43m,\u001B[49m\n\u001B[1;32m    493\u001B[0m \u001B[43m        \u001B[49m\u001B[43mpreload_content\u001B[49m\u001B[38;5;241;43m=\u001B[39;49m\u001B[38;5;28;43;01mFalse\u001B[39;49;00m\u001B[43m,\u001B[49m\n\u001B[1;32m    494\u001B[0m \u001B[43m        \u001B[49m\u001B[43mdecode_content\u001B[49m\u001B[38;5;241;43m=\u001B[39;49m\u001B[38;5;28;43;01mFalse\u001B[39;49;00m\u001B[43m,\u001B[49m\n\u001B[1;32m    495\u001B[0m \u001B[43m        \u001B[49m\u001B[43mretries\u001B[49m\u001B[38;5;241;43m=\u001B[39;49m\u001B[38;5;28;43mself\u001B[39;49m\u001B[38;5;241;43m.\u001B[39;49m\u001B[43mmax_retries\u001B[49m\u001B[43m,\u001B[49m\n\u001B[1;32m    496\u001B[0m \u001B[43m        \u001B[49m\u001B[43mtimeout\u001B[49m\u001B[38;5;241;43m=\u001B[39;49m\u001B[43mtimeout\u001B[49m\u001B[43m,\u001B[49m\n\u001B[1;32m    497\u001B[0m \u001B[43m        \u001B[49m\u001B[43mchunked\u001B[49m\u001B[38;5;241;43m=\u001B[39;49m\u001B[43mchunked\u001B[49m\u001B[43m,\u001B[49m\n\u001B[1;32m    498\u001B[0m \u001B[43m    \u001B[49m\u001B[43m)\u001B[49m\n\u001B[1;32m    500\u001B[0m \u001B[38;5;28;01mexcept\u001B[39;00m (ProtocolError, \u001B[38;5;167;01mOSError\u001B[39;00m) \u001B[38;5;28;01mas\u001B[39;00m err:\n\u001B[1;32m    501\u001B[0m     \u001B[38;5;28;01mraise\u001B[39;00m \u001B[38;5;167;01mConnectionError\u001B[39;00m(err, request\u001B[38;5;241m=\u001B[39mrequest)\n",
      "File \u001B[0;32m~/anaconda3/envs/Research_NFTs_DB/lib/python3.10/site-packages/urllib3/connectionpool.py:715\u001B[0m, in \u001B[0;36mHTTPConnectionPool.urlopen\u001B[0;34m(self, method, url, body, headers, retries, redirect, assert_same_host, timeout, pool_timeout, release_conn, chunked, body_pos, **response_kw)\u001B[0m\n\u001B[1;32m    712\u001B[0m     \u001B[38;5;28mself\u001B[39m\u001B[38;5;241m.\u001B[39m_prepare_proxy(conn)\n\u001B[1;32m    714\u001B[0m \u001B[38;5;66;03m# Make the request on the httplib connection object.\u001B[39;00m\n\u001B[0;32m--> 715\u001B[0m httplib_response \u001B[38;5;241m=\u001B[39m \u001B[38;5;28;43mself\u001B[39;49m\u001B[38;5;241;43m.\u001B[39;49m\u001B[43m_make_request\u001B[49m\u001B[43m(\u001B[49m\n\u001B[1;32m    716\u001B[0m \u001B[43m    \u001B[49m\u001B[43mconn\u001B[49m\u001B[43m,\u001B[49m\n\u001B[1;32m    717\u001B[0m \u001B[43m    \u001B[49m\u001B[43mmethod\u001B[49m\u001B[43m,\u001B[49m\n\u001B[1;32m    718\u001B[0m \u001B[43m    \u001B[49m\u001B[43murl\u001B[49m\u001B[43m,\u001B[49m\n\u001B[1;32m    719\u001B[0m \u001B[43m    \u001B[49m\u001B[43mtimeout\u001B[49m\u001B[38;5;241;43m=\u001B[39;49m\u001B[43mtimeout_obj\u001B[49m\u001B[43m,\u001B[49m\n\u001B[1;32m    720\u001B[0m \u001B[43m    \u001B[49m\u001B[43mbody\u001B[49m\u001B[38;5;241;43m=\u001B[39;49m\u001B[43mbody\u001B[49m\u001B[43m,\u001B[49m\n\u001B[1;32m    721\u001B[0m \u001B[43m    \u001B[49m\u001B[43mheaders\u001B[49m\u001B[38;5;241;43m=\u001B[39;49m\u001B[43mheaders\u001B[49m\u001B[43m,\u001B[49m\n\u001B[1;32m    722\u001B[0m \u001B[43m    \u001B[49m\u001B[43mchunked\u001B[49m\u001B[38;5;241;43m=\u001B[39;49m\u001B[43mchunked\u001B[49m\u001B[43m,\u001B[49m\n\u001B[1;32m    723\u001B[0m \u001B[43m\u001B[49m\u001B[43m)\u001B[49m\n\u001B[1;32m    725\u001B[0m \u001B[38;5;66;03m# If we're going to release the connection in ``finally:``, then\u001B[39;00m\n\u001B[1;32m    726\u001B[0m \u001B[38;5;66;03m# the response doesn't need to know about the connection. Otherwise\u001B[39;00m\n\u001B[1;32m    727\u001B[0m \u001B[38;5;66;03m# it will also try to release it and we'll have a double-release\u001B[39;00m\n\u001B[1;32m    728\u001B[0m \u001B[38;5;66;03m# mess.\u001B[39;00m\n\u001B[1;32m    729\u001B[0m response_conn \u001B[38;5;241m=\u001B[39m conn \u001B[38;5;28;01mif\u001B[39;00m \u001B[38;5;129;01mnot\u001B[39;00m release_conn \u001B[38;5;28;01melse\u001B[39;00m \u001B[38;5;28;01mNone\u001B[39;00m\n",
      "File \u001B[0;32m~/anaconda3/envs/Research_NFTs_DB/lib/python3.10/site-packages/urllib3/connectionpool.py:467\u001B[0m, in \u001B[0;36mHTTPConnectionPool._make_request\u001B[0;34m(self, conn, method, url, timeout, chunked, **httplib_request_kw)\u001B[0m\n\u001B[1;32m    462\u001B[0m             httplib_response \u001B[38;5;241m=\u001B[39m conn\u001B[38;5;241m.\u001B[39mgetresponse()\n\u001B[1;32m    463\u001B[0m         \u001B[38;5;28;01mexcept\u001B[39;00m \u001B[38;5;167;01mBaseException\u001B[39;00m \u001B[38;5;28;01mas\u001B[39;00m e:\n\u001B[1;32m    464\u001B[0m             \u001B[38;5;66;03m# Remove the TypeError from the exception chain in\u001B[39;00m\n\u001B[1;32m    465\u001B[0m             \u001B[38;5;66;03m# Python 3 (including for exceptions like SystemExit).\u001B[39;00m\n\u001B[1;32m    466\u001B[0m             \u001B[38;5;66;03m# Otherwise it looks like a bug in the code.\u001B[39;00m\n\u001B[0;32m--> 467\u001B[0m             \u001B[43msix\u001B[49m\u001B[38;5;241;43m.\u001B[39;49m\u001B[43mraise_from\u001B[49m\u001B[43m(\u001B[49m\u001B[43me\u001B[49m\u001B[43m,\u001B[49m\u001B[43m \u001B[49m\u001B[38;5;28;43;01mNone\u001B[39;49;00m\u001B[43m)\u001B[49m\n\u001B[1;32m    468\u001B[0m \u001B[38;5;28;01mexcept\u001B[39;00m (SocketTimeout, BaseSSLError, SocketError) \u001B[38;5;28;01mas\u001B[39;00m e:\n\u001B[1;32m    469\u001B[0m     \u001B[38;5;28mself\u001B[39m\u001B[38;5;241m.\u001B[39m_raise_timeout(err\u001B[38;5;241m=\u001B[39me, url\u001B[38;5;241m=\u001B[39murl, timeout_value\u001B[38;5;241m=\u001B[39mread_timeout)\n",
      "File \u001B[0;32m<string>:3\u001B[0m, in \u001B[0;36mraise_from\u001B[0;34m(value, from_value)\u001B[0m\n",
      "File \u001B[0;32m~/anaconda3/envs/Research_NFTs_DB/lib/python3.10/site-packages/urllib3/connectionpool.py:462\u001B[0m, in \u001B[0;36mHTTPConnectionPool._make_request\u001B[0;34m(self, conn, method, url, timeout, chunked, **httplib_request_kw)\u001B[0m\n\u001B[1;32m    459\u001B[0m \u001B[38;5;28;01mexcept\u001B[39;00m \u001B[38;5;167;01mTypeError\u001B[39;00m:\n\u001B[1;32m    460\u001B[0m     \u001B[38;5;66;03m# Python 3\u001B[39;00m\n\u001B[1;32m    461\u001B[0m     \u001B[38;5;28;01mtry\u001B[39;00m:\n\u001B[0;32m--> 462\u001B[0m         httplib_response \u001B[38;5;241m=\u001B[39m \u001B[43mconn\u001B[49m\u001B[38;5;241;43m.\u001B[39;49m\u001B[43mgetresponse\u001B[49m\u001B[43m(\u001B[49m\u001B[43m)\u001B[49m\n\u001B[1;32m    463\u001B[0m     \u001B[38;5;28;01mexcept\u001B[39;00m \u001B[38;5;167;01mBaseException\u001B[39;00m \u001B[38;5;28;01mas\u001B[39;00m e:\n\u001B[1;32m    464\u001B[0m         \u001B[38;5;66;03m# Remove the TypeError from the exception chain in\u001B[39;00m\n\u001B[1;32m    465\u001B[0m         \u001B[38;5;66;03m# Python 3 (including for exceptions like SystemExit).\u001B[39;00m\n\u001B[1;32m    466\u001B[0m         \u001B[38;5;66;03m# Otherwise it looks like a bug in the code.\u001B[39;00m\n\u001B[1;32m    467\u001B[0m         six\u001B[38;5;241m.\u001B[39mraise_from(e, \u001B[38;5;28;01mNone\u001B[39;00m)\n",
      "File \u001B[0;32m~/anaconda3/envs/Research_NFTs_DB/lib/python3.10/http/client.py:1375\u001B[0m, in \u001B[0;36mHTTPConnection.getresponse\u001B[0;34m(self)\u001B[0m\n\u001B[1;32m   1373\u001B[0m \u001B[38;5;28;01mtry\u001B[39;00m:\n\u001B[1;32m   1374\u001B[0m     \u001B[38;5;28;01mtry\u001B[39;00m:\n\u001B[0;32m-> 1375\u001B[0m         \u001B[43mresponse\u001B[49m\u001B[38;5;241;43m.\u001B[39;49m\u001B[43mbegin\u001B[49m\u001B[43m(\u001B[49m\u001B[43m)\u001B[49m\n\u001B[1;32m   1376\u001B[0m     \u001B[38;5;28;01mexcept\u001B[39;00m \u001B[38;5;167;01mConnectionError\u001B[39;00m:\n\u001B[1;32m   1377\u001B[0m         \u001B[38;5;28mself\u001B[39m\u001B[38;5;241m.\u001B[39mclose()\n",
      "File \u001B[0;32m~/anaconda3/envs/Research_NFTs_DB/lib/python3.10/http/client.py:318\u001B[0m, in \u001B[0;36mHTTPResponse.begin\u001B[0;34m(self)\u001B[0m\n\u001B[1;32m    316\u001B[0m \u001B[38;5;66;03m# read until we get a non-100 response\u001B[39;00m\n\u001B[1;32m    317\u001B[0m \u001B[38;5;28;01mwhile\u001B[39;00m \u001B[38;5;28;01mTrue\u001B[39;00m:\n\u001B[0;32m--> 318\u001B[0m     version, status, reason \u001B[38;5;241m=\u001B[39m \u001B[38;5;28;43mself\u001B[39;49m\u001B[38;5;241;43m.\u001B[39;49m\u001B[43m_read_status\u001B[49m\u001B[43m(\u001B[49m\u001B[43m)\u001B[49m\n\u001B[1;32m    319\u001B[0m     \u001B[38;5;28;01mif\u001B[39;00m status \u001B[38;5;241m!=\u001B[39m CONTINUE:\n\u001B[1;32m    320\u001B[0m         \u001B[38;5;28;01mbreak\u001B[39;00m\n",
      "File \u001B[0;32m~/anaconda3/envs/Research_NFTs_DB/lib/python3.10/http/client.py:279\u001B[0m, in \u001B[0;36mHTTPResponse._read_status\u001B[0;34m(self)\u001B[0m\n\u001B[1;32m    278\u001B[0m \u001B[38;5;28;01mdef\u001B[39;00m \u001B[38;5;21m_read_status\u001B[39m(\u001B[38;5;28mself\u001B[39m):\n\u001B[0;32m--> 279\u001B[0m     line \u001B[38;5;241m=\u001B[39m \u001B[38;5;28mstr\u001B[39m(\u001B[38;5;28;43mself\u001B[39;49m\u001B[38;5;241;43m.\u001B[39;49m\u001B[43mfp\u001B[49m\u001B[38;5;241;43m.\u001B[39;49m\u001B[43mreadline\u001B[49m\u001B[43m(\u001B[49m\u001B[43m_MAXLINE\u001B[49m\u001B[43m \u001B[49m\u001B[38;5;241;43m+\u001B[39;49m\u001B[43m \u001B[49m\u001B[38;5;241;43m1\u001B[39;49m\u001B[43m)\u001B[49m, \u001B[38;5;124m\"\u001B[39m\u001B[38;5;124miso-8859-1\u001B[39m\u001B[38;5;124m\"\u001B[39m)\n\u001B[1;32m    280\u001B[0m     \u001B[38;5;28;01mif\u001B[39;00m \u001B[38;5;28mlen\u001B[39m(line) \u001B[38;5;241m>\u001B[39m _MAXLINE:\n\u001B[1;32m    281\u001B[0m         \u001B[38;5;28;01mraise\u001B[39;00m LineTooLong(\u001B[38;5;124m\"\u001B[39m\u001B[38;5;124mstatus line\u001B[39m\u001B[38;5;124m\"\u001B[39m)\n",
      "File \u001B[0;32m~/anaconda3/envs/Research_NFTs_DB/lib/python3.10/socket.py:705\u001B[0m, in \u001B[0;36mSocketIO.readinto\u001B[0;34m(self, b)\u001B[0m\n\u001B[1;32m    703\u001B[0m \u001B[38;5;28;01mwhile\u001B[39;00m \u001B[38;5;28;01mTrue\u001B[39;00m:\n\u001B[1;32m    704\u001B[0m     \u001B[38;5;28;01mtry\u001B[39;00m:\n\u001B[0;32m--> 705\u001B[0m         \u001B[38;5;28;01mreturn\u001B[39;00m \u001B[38;5;28;43mself\u001B[39;49m\u001B[38;5;241;43m.\u001B[39;49m\u001B[43m_sock\u001B[49m\u001B[38;5;241;43m.\u001B[39;49m\u001B[43mrecv_into\u001B[49m\u001B[43m(\u001B[49m\u001B[43mb\u001B[49m\u001B[43m)\u001B[49m\n\u001B[1;32m    706\u001B[0m     \u001B[38;5;28;01mexcept\u001B[39;00m timeout:\n\u001B[1;32m    707\u001B[0m         \u001B[38;5;28mself\u001B[39m\u001B[38;5;241m.\u001B[39m_timeout_occurred \u001B[38;5;241m=\u001B[39m \u001B[38;5;28;01mTrue\u001B[39;00m\n",
      "File \u001B[0;32m~/anaconda3/envs/Research_NFTs_DB/lib/python3.10/ssl.py:1307\u001B[0m, in \u001B[0;36mSSLSocket.recv_into\u001B[0;34m(self, buffer, nbytes, flags)\u001B[0m\n\u001B[1;32m   1303\u001B[0m     \u001B[38;5;28;01mif\u001B[39;00m flags \u001B[38;5;241m!=\u001B[39m \u001B[38;5;241m0\u001B[39m:\n\u001B[1;32m   1304\u001B[0m         \u001B[38;5;28;01mraise\u001B[39;00m \u001B[38;5;167;01mValueError\u001B[39;00m(\n\u001B[1;32m   1305\u001B[0m           \u001B[38;5;124m\"\u001B[39m\u001B[38;5;124mnon-zero flags not allowed in calls to recv_into() on \u001B[39m\u001B[38;5;132;01m%s\u001B[39;00m\u001B[38;5;124m\"\u001B[39m \u001B[38;5;241m%\u001B[39m\n\u001B[1;32m   1306\u001B[0m           \u001B[38;5;28mself\u001B[39m\u001B[38;5;241m.\u001B[39m\u001B[38;5;18m__class__\u001B[39m)\n\u001B[0;32m-> 1307\u001B[0m     \u001B[38;5;28;01mreturn\u001B[39;00m \u001B[38;5;28;43mself\u001B[39;49m\u001B[38;5;241;43m.\u001B[39;49m\u001B[43mread\u001B[49m\u001B[43m(\u001B[49m\u001B[43mnbytes\u001B[49m\u001B[43m,\u001B[49m\u001B[43m \u001B[49m\u001B[43mbuffer\u001B[49m\u001B[43m)\u001B[49m\n\u001B[1;32m   1308\u001B[0m \u001B[38;5;28;01melse\u001B[39;00m:\n\u001B[1;32m   1309\u001B[0m     \u001B[38;5;28;01mreturn\u001B[39;00m \u001B[38;5;28msuper\u001B[39m()\u001B[38;5;241m.\u001B[39mrecv_into(buffer, nbytes, flags)\n",
      "File \u001B[0;32m~/anaconda3/envs/Research_NFTs_DB/lib/python3.10/ssl.py:1163\u001B[0m, in \u001B[0;36mSSLSocket.read\u001B[0;34m(self, len, buffer)\u001B[0m\n\u001B[1;32m   1161\u001B[0m \u001B[38;5;28;01mtry\u001B[39;00m:\n\u001B[1;32m   1162\u001B[0m     \u001B[38;5;28;01mif\u001B[39;00m buffer \u001B[38;5;129;01mis\u001B[39;00m \u001B[38;5;129;01mnot\u001B[39;00m \u001B[38;5;28;01mNone\u001B[39;00m:\n\u001B[0;32m-> 1163\u001B[0m         \u001B[38;5;28;01mreturn\u001B[39;00m \u001B[38;5;28;43mself\u001B[39;49m\u001B[38;5;241;43m.\u001B[39;49m\u001B[43m_sslobj\u001B[49m\u001B[38;5;241;43m.\u001B[39;49m\u001B[43mread\u001B[49m\u001B[43m(\u001B[49m\u001B[38;5;28;43mlen\u001B[39;49m\u001B[43m,\u001B[49m\u001B[43m \u001B[49m\u001B[43mbuffer\u001B[49m\u001B[43m)\u001B[49m\n\u001B[1;32m   1164\u001B[0m     \u001B[38;5;28;01melse\u001B[39;00m:\n\u001B[1;32m   1165\u001B[0m         \u001B[38;5;28;01mreturn\u001B[39;00m \u001B[38;5;28mself\u001B[39m\u001B[38;5;241m.\u001B[39m_sslobj\u001B[38;5;241m.\u001B[39mread(\u001B[38;5;28mlen\u001B[39m)\n",
      "\u001B[0;31mKeyboardInterrupt\u001B[0m: "
     ]
    }
   ],
   "source": [
    "# Get DataFrame with added nft.traits column\n",
    "df = get_nft_traits(df)"
   ],
   "metadata": {
    "collapsed": false,
    "ExecuteTime": {
     "end_time": "2024-03-14T01:08:55.897410Z",
     "start_time": "2024-03-14T01:08:22.453508Z"
    }
   },
   "id": "700876865462f616",
   "execution_count": 9
  },
  {
   "cell_type": "code",
   "outputs": [],
   "source": [
    "df"
   ],
   "metadata": {
    "collapsed": false,
    "ExecuteTime": {
     "end_time": "2024-03-14T01:08:55.898631Z",
     "start_time": "2024-03-14T01:08:55.898567Z"
    }
   },
   "id": "83ef4bb3af6cb8f8",
   "execution_count": null
  },
  {
   "cell_type": "markdown",
   "source": [
    "### 6. Getting traits statistics for a collection"
   ],
   "metadata": {
    "collapsed": false
   },
   "id": "6906ce437f1a2724"
  },
  {
   "cell_type": "code",
   "outputs": [],
   "source": [
    "for collection in collection_list:\n",
    "    get_traits_collection(collection)"
   ],
   "metadata": {
    "collapsed": false
   },
   "id": "607057361d5e144e",
   "execution_count": 3
  },
  {
   "cell_type": "code",
   "outputs": [],
   "source": [
    "with open('Collection_traits/bored-ape-kennel-club_traits.json') as z:\n",
    "    traits_bakc = json.load(z)"
   ],
   "metadata": {
    "collapsed": false
   },
   "id": "bcebc01e43e9387a",
   "execution_count": 4
  },
  {
   "cell_type": "code",
   "outputs": [
    {
     "data": {
      "text/plain": "dict_keys(['categories', 'counts'])"
     },
     "execution_count": 21,
     "metadata": {},
     "output_type": "execute_result"
    }
   ],
   "source": [
    "traits_bakc.keys()"
   ],
   "metadata": {
    "collapsed": false
   },
   "id": "64822fd898302cf7",
   "execution_count": 21
  },
  {
   "cell_type": "code",
   "outputs": [
    {
     "data": {
      "text/plain": "{'Background': {'Outhouse': 2413,\n  'SS Monke Biz': 2337,\n  'Swamp': 2426,\n  'Club Exterior': 1640,\n  'Bar': 786},\n 'Fur': {'Radioactive': 188,\n  'Brown': 1522,\n  'Tan': 2325,\n  'Robot': 383,\n  'Black': 1568,\n  'Zombie': 390,\n  'Noise': 181,\n  'Pink': 1008,\n  'Death Bot': 261,\n  'Galaxy': 221,\n  'Mega Death Bot': 171,\n  'Cheetah': 611,\n  'Cyberpunk': 271,\n  'Trippy': 110,\n  'DMT': 294,\n  'Solid Gold': 98},\n 'Neck': {'Japan Bandana': 110,\n  'Christmas Wreath': 181,\n  'Plaid Bowtie': 197,\n  'BAYC Collar': 907,\n  'Glow Necklace': 168,\n  'Red BAYC Bandana': 55,\n  'Whiskey Barrel': 84,\n  'Camo Bandana': 117,\n  'Pink Collar': 281,\n  'Spiked Collar': 134,\n  'Pinstripe Bandana': 180,\n  'Red Collar With Bone': 260,\n  'Life Preserver': 143,\n  'Ribbon': 165,\n  'Black BAYC Bandana': 129,\n  'Hawaiian Bandana': 221,\n  'Beer Can Necklace': 199,\n  'Lei': 85,\n  'Golden Bone Necklace': 197,\n  'Flamingo Bandana': 114,\n  'Gold Links': 178,\n  'USA Bandana': 97,\n  'Japanese Bandana': 92},\n 'Mouth': {'Hot Dog': 471,\n  'Bone': 298,\n  'Smiling': 1774,\n  'Diamond Teeth': 120,\n  'Cigar': 188,\n  'Beer Can': 300,\n  'Slippers': 260,\n  'Frog Legs': 262,\n  'Tennis Ball': 265,\n  'Golden Hot Dog': 83,\n  'Drooling': 199,\n  'Growl': 210,\n  'Ape Hand': 284,\n  'Cyberjaw': 249,\n  'Kazoo': 164,\n  'Goofball': 370,\n  'Foaming': 180,\n  'Gold Teeth': 137,\n  'Red Raybeam': 108,\n  'Rainbow Teeth': 134,\n  'Rose': 245,\n  'Fish': 307,\n  'Loogie': 204,\n  'Bored': 350,\n  'Cigarette': 233,\n  'Cute Smile': 303,\n  'Confused': 205,\n  'Happy': 221,\n  'Bubblegum': 120,\n  'Bloody': 315,\n  'Heavy Drooling': 190,\n  'Blep': 178,\n  'Stache': 172,\n  'Bloody Fangs': 181,\n  'Panting': 201,\n  'Fire Breath': 121},\n 'Eyes': {'Happy': 1296,\n  'Hypnotized': 180,\n  'Hero Mask': 132,\n  'Cyberpunk Visor': 110,\n  'X Eyes': 193,\n  'Pilot Goggles': 189,\n  'Closed': 1694,\n  'Mystic Eye': 154,\n  'Bloodshot': 339,\n  'Confused': 310,\n  'Zombie': 236,\n  'Heart Eyes': 304,\n  'Shutter Shades': 192,\n  'Whatever': 355,\n  'Suspicious': 351,\n  'Sunglasses': 302,\n  'Cyborg': 68,\n  'Radioactive': 170,\n  'Anime': 395,\n  'Sad': 389,\n  'Goofy': 365,\n  'Angry': 323,\n  'Wide': 337,\n  'Holographic Visor': 114,\n  'Laser': 72,\n  'Robot': 238,\n  'Cyberware': 68,\n  'Glowing Red': 147,\n  '3D Glasses': 306,\n  'Blue Beams': 64,\n  'Snorkel Gear': 93,\n  'Cyclops': 116},\n 'Head': {'Pimp Hat': 69,\n  'Rat': 131,\n  'Beer Helmet': 160,\n  'Purple Headband': 196,\n  'White Headband': 219,\n  'Bow': 266,\n  'Missile Launcher': 237,\n  'Halo': 136,\n  'Banana Peel': 282,\n  'BAYC Flipped Brim Hat': 183,\n  'Swamp Turtle': 61,\n  'Sushi Chef Headband': 131,\n  'BAYC Logo Hat Red': 80,\n  'Fez': 271,\n  'Earbuds': 177,\n  'Hermit Crab': 132,\n  'Bird': 219,\n  'Bowler': 205,\n  'BAYC Logo Hat Black': 128,\n  'Spinner Hat': 115,\n  'Santa Hat': 130,\n  'Cowboy Hat': 269,\n  'Rain Hat': 145,\n  'Beanie': 384,\n  'Tie': 202,\n  \"Trippy Captain's Hat\": 51,\n  \"Pirate Captain's Hat\": 143,\n  \"Sea Captain's Hat\": 298,\n  \"Fisherman's Hat\": 198,\n  'Shrunken Head': 86,\n  \"King's Crown\": 62,\n  'Party Hat': 33},\n 'Feet': {'Rollerblades': 180,\n  'Rain Boots': 350,\n  'Cast': 450,\n  'Flask': 302,\n  'Cyberpunk Boots': 130,\n  'Old Laces': 243,\n  'Fresh Laces': 236,\n  'High Tops': 280,\n  'Gold Kicks': 102,\n  'Kicks': 236,\n  'Flippers': 275,\n  'Pink Combat Boots': 205,\n  '80s Kicks': 93,\n  'Combat Boots': 326,\n  'Leg Knife': 236,\n  'Boots': 368,\n  'Space Boots': 139},\n 'Back': {'Basketball Hoop': 235,\n  'Service Vest': 430,\n  'Camo Pack': 280,\n  'Beer Saddle': 333,\n  'Rocket Launcher': 154,\n  'Fishing Lures': 174,\n  'Jetpack': 200,\n  'Beer Kegs': 399,\n  'Doggie Pack': 148,\n  'Demon Wings': 78,\n  'Cyberpunk Pack': 170,\n  'Blue Pack': 395,\n  'Ninja Kunai': 185,\n  'Mega Rocket Launcher': 118,\n  'Toilet Paper Dispenser': 111,\n  'Space Pack': 57}}"
     },
     "execution_count": 22,
     "metadata": {},
     "output_type": "execute_result"
    }
   ],
   "source": [
    "traits_bakc[\"counts\"]"
   ],
   "metadata": {
    "collapsed": false
   },
   "id": "a7b771566c60dc50",
   "execution_count": 22
  },
  {
   "cell_type": "code",
   "outputs": [],
   "source": [
    "df_traits = pd.DataFrame(traits_bakc[\"counts\"])"
   ],
   "metadata": {
    "collapsed": false
   },
   "id": "244a5fa00118ec8a",
   "execution_count": 25
  },
  {
   "cell_type": "code",
   "outputs": [
    {
     "data": {
      "text/plain": "                        Background  Fur  Neck  Mouth  Eyes  Head  Feet   Back\nOuthouse                    2413.0  NaN   NaN    NaN   NaN   NaN   NaN    NaN\nSS Monke Biz                2337.0  NaN   NaN    NaN   NaN   NaN   NaN    NaN\nSwamp                       2426.0  NaN   NaN    NaN   NaN   NaN   NaN    NaN\nClub Exterior               1640.0  NaN   NaN    NaN   NaN   NaN   NaN    NaN\nBar                          786.0  NaN   NaN    NaN   NaN   NaN   NaN    NaN\n...                            ...  ...   ...    ...   ...   ...   ...    ...\nBlue Pack                      NaN  NaN   NaN    NaN   NaN   NaN   NaN  395.0\nNinja Kunai                    NaN  NaN   NaN    NaN   NaN   NaN   NaN  185.0\nMega Rocket Launcher           NaN  NaN   NaN    NaN   NaN   NaN   NaN  118.0\nToilet Paper Dispenser         NaN  NaN   NaN    NaN   NaN   NaN   NaN  111.0\nSpace Pack                     NaN  NaN   NaN    NaN   NaN   NaN   NaN   57.0\n\n[172 rows x 8 columns]",
      "text/html": "<div>\n<style scoped>\n    .dataframe tbody tr th:only-of-type {\n        vertical-align: middle;\n    }\n\n    .dataframe tbody tr th {\n        vertical-align: top;\n    }\n\n    .dataframe thead th {\n        text-align: right;\n    }\n</style>\n<table border=\"1\" class=\"dataframe\">\n  <thead>\n    <tr style=\"text-align: right;\">\n      <th></th>\n      <th>Background</th>\n      <th>Fur</th>\n      <th>Neck</th>\n      <th>Mouth</th>\n      <th>Eyes</th>\n      <th>Head</th>\n      <th>Feet</th>\n      <th>Back</th>\n    </tr>\n  </thead>\n  <tbody>\n    <tr>\n      <th>Outhouse</th>\n      <td>2413.0</td>\n      <td>NaN</td>\n      <td>NaN</td>\n      <td>NaN</td>\n      <td>NaN</td>\n      <td>NaN</td>\n      <td>NaN</td>\n      <td>NaN</td>\n    </tr>\n    <tr>\n      <th>SS Monke Biz</th>\n      <td>2337.0</td>\n      <td>NaN</td>\n      <td>NaN</td>\n      <td>NaN</td>\n      <td>NaN</td>\n      <td>NaN</td>\n      <td>NaN</td>\n      <td>NaN</td>\n    </tr>\n    <tr>\n      <th>Swamp</th>\n      <td>2426.0</td>\n      <td>NaN</td>\n      <td>NaN</td>\n      <td>NaN</td>\n      <td>NaN</td>\n      <td>NaN</td>\n      <td>NaN</td>\n      <td>NaN</td>\n    </tr>\n    <tr>\n      <th>Club Exterior</th>\n      <td>1640.0</td>\n      <td>NaN</td>\n      <td>NaN</td>\n      <td>NaN</td>\n      <td>NaN</td>\n      <td>NaN</td>\n      <td>NaN</td>\n      <td>NaN</td>\n    </tr>\n    <tr>\n      <th>Bar</th>\n      <td>786.0</td>\n      <td>NaN</td>\n      <td>NaN</td>\n      <td>NaN</td>\n      <td>NaN</td>\n      <td>NaN</td>\n      <td>NaN</td>\n      <td>NaN</td>\n    </tr>\n    <tr>\n      <th>...</th>\n      <td>...</td>\n      <td>...</td>\n      <td>...</td>\n      <td>...</td>\n      <td>...</td>\n      <td>...</td>\n      <td>...</td>\n      <td>...</td>\n    </tr>\n    <tr>\n      <th>Blue Pack</th>\n      <td>NaN</td>\n      <td>NaN</td>\n      <td>NaN</td>\n      <td>NaN</td>\n      <td>NaN</td>\n      <td>NaN</td>\n      <td>NaN</td>\n      <td>395.0</td>\n    </tr>\n    <tr>\n      <th>Ninja Kunai</th>\n      <td>NaN</td>\n      <td>NaN</td>\n      <td>NaN</td>\n      <td>NaN</td>\n      <td>NaN</td>\n      <td>NaN</td>\n      <td>NaN</td>\n      <td>185.0</td>\n    </tr>\n    <tr>\n      <th>Mega Rocket Launcher</th>\n      <td>NaN</td>\n      <td>NaN</td>\n      <td>NaN</td>\n      <td>NaN</td>\n      <td>NaN</td>\n      <td>NaN</td>\n      <td>NaN</td>\n      <td>118.0</td>\n    </tr>\n    <tr>\n      <th>Toilet Paper Dispenser</th>\n      <td>NaN</td>\n      <td>NaN</td>\n      <td>NaN</td>\n      <td>NaN</td>\n      <td>NaN</td>\n      <td>NaN</td>\n      <td>NaN</td>\n      <td>111.0</td>\n    </tr>\n    <tr>\n      <th>Space Pack</th>\n      <td>NaN</td>\n      <td>NaN</td>\n      <td>NaN</td>\n      <td>NaN</td>\n      <td>NaN</td>\n      <td>NaN</td>\n      <td>NaN</td>\n      <td>57.0</td>\n    </tr>\n  </tbody>\n</table>\n<p>172 rows × 8 columns</p>\n</div>"
     },
     "execution_count": 26,
     "metadata": {},
     "output_type": "execute_result"
    }
   ],
   "source": [
    "df_traits"
   ],
   "metadata": {
    "collapsed": false
   },
   "id": "5ca087f999dcb268",
   "execution_count": 26
  }
 ],
 "metadata": {
  "kernelspec": {
   "display_name": "Python 3",
   "language": "python",
   "name": "python3"
  },
  "language_info": {
   "codemirror_mode": {
    "name": "ipython",
    "version": 2
   },
   "file_extension": ".py",
   "mimetype": "text/x-python",
   "name": "python",
   "nbconvert_exporter": "python",
   "pygments_lexer": "ipython2",
   "version": "2.7.6"
  }
 },
 "nbformat": 4,
 "nbformat_minor": 5
}
