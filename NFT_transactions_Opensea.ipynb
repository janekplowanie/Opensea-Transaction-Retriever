{
 "cells": [
  {
   "cell_type": "code",
   "execution_count": 19,
   "outputs": [],
   "source": [
    "import requests\n",
    "import json\n",
    "import pandas as pd\n",
    "import matplotlib.pyplot as plt\n",
    "from useful_functions import get_opsea_trans_by_collec, list_of, extract_and_print_keys_from_dict, how_long, extract_asset_events"
   ],
   "metadata": {
    "collapsed": false,
    "ExecuteTime": {
     "end_time": "2023-12-12T15:12:44.018876Z",
     "start_time": "2023-12-12T15:12:44.012789Z"
    }
   },
   "id": "79193caaece06328"
  },
  {
   "cell_type": "markdown",
   "source": [
    "## Test Run from June to October\n",
    "### Parameter Specification"
   ],
   "metadata": {
    "collapsed": false
   },
   "id": "f08ea1aeea90aa04"
  },
  {
   "cell_type": "code",
   "execution_count": 23,
   "outputs": [],
   "source": [
    "# api_key has to be specified in the .env file as API_KEY = \"your API key\"\n",
    "collection_slug = 'cryptopunks'\n",
    "after = '2023-06-30 12:00:00' # Friday, 30 June 2023 12:00:00 \n",
    "before = '2023-10-30 12:00:00' # Monday, 30 October 2023 12:00:00  \n",
    "event_type = 'sale' # Other types: all, cancel, redemption, transfer\n",
    "file_name = 'Crypto_Punks_Transactions_June_October'"
   ],
   "metadata": {
    "collapsed": false,
    "ExecuteTime": {
     "end_time": "2023-12-12T15:20:34.444446Z",
     "start_time": "2023-12-12T15:20:34.440717Z"
    }
   },
   "id": "7af1cc59bedaebbb"
  },
  {
   "cell_type": "markdown",
   "source": [
    "### Calling the main function"
   ],
   "metadata": {
    "collapsed": false
   },
   "id": "3c2f5a2accd209e0"
  },
  {
   "cell_type": "code",
   "execution_count": 24,
   "outputs": [
    {
     "name": "stdout",
     "output_type": "stream",
     "text": [
      "The function took 0.1763136347134908 minutes to run\n"
     ]
    }
   ],
   "source": [
    "# This creates a .json file in the Transaction_files folder\n",
    "get_opsea_trans_by_collec(collection_slug, before, after, event_type, file_name) "
   ],
   "metadata": {
    "collapsed": false,
    "ExecuteTime": {
     "end_time": "2023-12-12T15:20:57.739773Z",
     "start_time": "2023-12-12T15:20:47.155512Z"
    }
   },
   "id": "818cc40a5664da74"
  },
  {
   "cell_type": "code",
   "execution_count": 25,
   "outputs": [],
   "source": [
    "with open('Transaction_files/Crypto_Punks_Transactions_June_October.json') as x:\n",
    "    trans_Jun_Oct = json.load(x)"
   ],
   "metadata": {
    "collapsed": false,
    "ExecuteTime": {
     "end_time": "2023-12-12T15:21:56.636051Z",
     "start_time": "2023-12-12T15:21:56.618444Z"
    }
   },
   "id": "314510e90a4d7cd2"
  },
  {
   "cell_type": "code",
   "execution_count": 26,
   "outputs": [
    {
     "name": "stdout",
     "output_type": "stream",
     "text": [
      "{'event_type': 'sale', 'order_hash': '', 'chain': 'ethereum', 'protocol_address': '', 'closing_date': 1698664475, 'nft': {'identifier': '4947', 'collection': 'cryptopunks', 'contract': '0xb47e3cd837ddf8e4c57f05d70ab865de6e193bbb', 'token_standard': 'cryptopunks', 'name': 'CryptoPunk #4947', 'description': None, 'image_url': 'https://i.seadn.io/gae/17XxeXy3hvE-FCa_7xqqQOpq9iUL5Nc2REDjhg5YsXWq4rOb4YVGpNIYVCjdxSfAvIZuZGS2iGu4P7tCo1J-VD7FPiL8PwSrjw1Z?w=500&auto=format', 'metadata_url': None, 'created_at': ' ', 'updated_at': '2023-12-10T10:42:16.878052', 'is_disabled': False, 'is_nsfw': False}, 'quantity': 1, 'seller': '0x0c4b65beadb705b927ab68a1b00055f74579f997', 'buyer': '0x83e551e48158136df20eaf9554a669a2dba574ba', 'payment': {'quantity': 46000000000000000000, 'token_address': '0x0000000000000000000000000000000000000000', 'decimals': 18, 'symbol': 'ETH'}, 'transaction': '0xd315bae7022c4dc8e45ae52ccd4ac58e4135c22982dfe7d34231db33ec81b908'} \n"
     ]
    }
   ],
   "source": [
    "print(trans_Jun_Oct[0]['asset_events'][0] , \"\\n\") # 1st transaction of the 1st block"
   ],
   "metadata": {
    "collapsed": false,
    "ExecuteTime": {
     "end_time": "2023-12-12T15:21:59.627379Z",
     "start_time": "2023-12-12T15:21:59.622469Z"
    }
   },
   "id": "4ab0ae76a9169e38"
  },
  {
   "cell_type": "markdown",
   "source": [
    "### Extracting keys for the column names"
   ],
   "metadata": {
    "collapsed": false
   },
   "id": "68e11712c403ae15"
  },
  {
   "cell_type": "code",
   "execution_count": 27,
   "outputs": [
    {
     "name": "stdout",
     "output_type": "stream",
     "text": [
      "event_type\n",
      "order_hash\n",
      "chain\n",
      "protocol_address\n",
      "closing_date\n",
      "nft\n",
      "nft.identifier\n",
      "nft.collection\n",
      "nft.contract\n",
      "nft.token_standard\n",
      "nft.name\n",
      "nft.description\n",
      "nft.image_url\n",
      "nft.metadata_url\n",
      "nft.created_at\n",
      "nft.updated_at\n",
      "nft.is_disabled\n",
      "nft.is_nsfw\n",
      "quantity\n",
      "seller\n",
      "buyer\n",
      "payment\n",
      "payment.quantity\n",
      "payment.token_address\n",
      "payment.decimals\n",
      "payment.symbol\n",
      "transaction\n",
      "None\n"
     ]
    }
   ],
   "source": [
    "print(extract_and_print_keys_from_dict(trans_Jun_Oct[0]['asset_events'][0])) #extracts all the keys from a nested dictionary"
   ],
   "metadata": {
    "collapsed": false,
    "ExecuteTime": {
     "end_time": "2023-12-12T15:22:07.920561Z",
     "start_time": "2023-12-12T15:22:07.912285Z"
    }
   },
   "id": "1a5d5406d23248ea"
  },
  {
   "cell_type": "markdown",
   "source": [
    "### Printing values for a selected column"
   ],
   "metadata": {
    "collapsed": false
   },
   "id": "84c9d5945676ffcd"
  },
  {
   "cell_type": "code",
   "outputs": [
    {
     "name": "stdout",
     "output_type": "stream",
     "text": [
      "[1698664475, 1698664379, 1698656531, 1698637343, 1698621599, 1698609563, 1698596903, 1698593051, 1698575735, 1698574943, 1698538427, 1698523523, 1698501443, 1698496463, 1698487643, 1698453251, 1698441419, 1698441311, 1698440675, 1698416279, 1698377255, 1698358403, 1698358367, 1698337955, 1698336575, 1698331643, 1698328691, 1698328559, 1698327947, 1698327947, 1698327947, 1698327467, 1698327371, 1698287423, 1698287291, 1698285863, 1698261935, 1698240923, 1698225791, 1698174239, 1698162551, 1698161975, 1698118343, 1698105179, 1698072779, 1698037163, 1698026075, 1697965979, 1697965907, 1697939855]\n"
     ]
    }
   ],
   "source": [
    "dates = list_of(trans_Jun_Oct, 0, 'closing_date') # The method that prints out values for a selected parameter\n",
    "print(dates)"
   ],
   "metadata": {
    "collapsed": false,
    "ExecuteTime": {
     "end_time": "2023-12-12T11:40:19.758148Z",
     "start_time": "2023-12-12T11:40:19.755145Z"
    }
   },
   "id": "e828278c8c2a77b2",
   "execution_count": 8
  },
  {
   "cell_type": "markdown",
   "source": [
    "### Extracting transactions from the json file"
   ],
   "metadata": {
    "collapsed": false
   },
   "id": "4a6850b0b2d401e7"
  },
  {
   "cell_type": "code",
   "outputs": [],
   "source": [
    "# Extract list of transactions from transaction blocks and append to a list\n",
    "list_of_transactions_Jun_clean = extract_asset_events(trans_Jun_Oct)"
   ],
   "metadata": {
    "collapsed": false,
    "ExecuteTime": {
     "end_time": "2023-12-12T15:22:14.256521Z",
     "start_time": "2023-12-12T15:22:14.251774Z"
    }
   },
   "id": "af478c470b75f1a",
   "execution_count": 28
  },
  {
   "cell_type": "markdown",
   "source": [
    "### Appending data to a dataframe"
   ],
   "metadata": {
    "collapsed": false
   },
   "id": "178d9eb0f638f9a6"
  },
  {
   "cell_type": "code",
   "outputs": [],
   "source": [
    "df = pd.DataFrame.from_records(list_of_transactions_Jun_clean)\n",
    "print(df.head())"
   ],
   "metadata": {
    "collapsed": false,
    "ExecuteTime": {
     "end_time": "2023-12-12T11:38:18.689564Z",
     "start_time": "2023-12-12T11:38:18.670812Z"
    }
   },
   "id": "3eb9c597d32a263f",
   "execution_count": 6
  },
  {
   "cell_type": "markdown",
   "source": [
    "### 2 ways of checking the transaction lenght"
   ],
   "metadata": {
    "collapsed": false
   },
   "id": "34df835a77db67ed"
  },
  {
   "cell_type": "code",
   "outputs": [
    {
     "name": "stdout",
     "output_type": "stream",
     "text": [
      "Total number of transactions:  434\n",
      "Number of transactions is:  434\n"
     ]
    }
   ],
   "source": [
    "print('Total number of transactions: ', len(list_of_transactions_Jun_clean)) # How many transactions are in the json file\n",
    "print(\"Number of transactions is: \", how_long(trans_Jun_Oct))"
   ],
   "metadata": {
    "collapsed": false,
    "ExecuteTime": {
     "end_time": "2023-12-12T15:22:16.418371Z",
     "start_time": "2023-12-12T15:22:16.414750Z"
    }
   },
   "id": "3885b265d48082c2",
   "execution_count": 29
  },
  {
   "cell_type": "markdown",
   "source": [
    "## Run for maultiple collections from January 2020"
   ],
   "metadata": {
    "collapsed": false
   },
   "id": "ea5e1406a6974ad3"
  },
  {
   "cell_type": "code",
   "execution_count": 13,
   "outputs": [],
   "source": [
    "# Not included: (sandbox = this is land), (ens = Ethereum name service not important), (decentraland = land again), (rarible = 1bln trans), (nonplayablecoin = 1 coin)\n",
    "data = \"boredapeyachtclub, cryptopunks, mutant-ape-yacht-club, dreadfulz, azuki, otherdeed, art-blocks, clonex, proof-moonbirds, doodles-official, bored-ape-kennel-club, pudgypenguins, terraforms, meebits, beanzofficial, cool-cats-nft, degods, mechminds, rare-apepes, thecaptainz, milady,    0n1-force, world-of-women-nft, opepen-edition, paralellalpha, cryptoadz-by-gremplin, lootproject, sewerpass, superrare, mfers, goblintownwtf, vv-checks, topia-worlds, hapeprime, renga, invisiblefriends,  sorare, mekaverse, adidasoriginals, thepotatoz, fluf, emblem-vault, pxnghostdivision, nakamigos, karafuru\"\n",
    "\n",
    "words = data.split(',') # Returns a list\n",
    "collection_list = ['' + word.strip() + '' for word in words] # I split it at , and then append to the list"
   ],
   "metadata": {
    "collapsed": false,
    "ExecuteTime": {
     "end_time": "2023-12-12T14:54:27.512503Z",
     "start_time": "2023-12-12T14:54:27.507918Z"
    }
   },
   "id": "cc35953498224c48"
  },
  {
   "cell_type": "code",
   "execution_count": 22,
   "outputs": [],
   "source": [
    "after = '2020-01-01 01:00:00' # 1st of January 2020 01:00:00 am\n",
    "before = '2023-12-01 01:00:00' # 1st of December 2023 01:00:00 am\n",
    "event_type = 'sale' # Other types: all, cancel, redemption, transfer"
   ],
   "metadata": {
    "collapsed": false,
    "ExecuteTime": {
     "end_time": "2023-12-12T15:16:29.935978Z",
     "start_time": "2023-12-12T15:16:29.930274Z"
    }
   },
   "id": "dbbd5ecdc8e631c1"
  },
  {
   "cell_type": "code",
   "execution_count": null,
   "outputs": [],
   "source": [
    "for collection in collection_list:\n",
    "    get_opsea_trans_by_collec(collection, before, after, event_type, collection)"
   ],
   "metadata": {
    "collapsed": false
   },
   "id": "855328cc2241533"
  }
 ],
 "metadata": {
  "kernelspec": {
   "display_name": "Python 3",
   "language": "python",
   "name": "python3"
  },
  "language_info": {
   "codemirror_mode": {
    "name": "ipython",
    "version": 2
   },
   "file_extension": ".py",
   "mimetype": "text/x-python",
   "name": "python",
   "nbconvert_exporter": "python",
   "pygments_lexer": "ipython2",
   "version": "2.7.6"
  }
 },
 "nbformat": 4,
 "nbformat_minor": 5
}
