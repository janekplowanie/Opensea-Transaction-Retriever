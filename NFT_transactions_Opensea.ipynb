{
 "cells": [
  {
   "cell_type": "code",
   "execution_count": 19,
   "outputs": [],
   "source": [
    "import json\n",
    "import pandas as pd\n",
    "from useful_functions import get_opsea_trans_by_collec, extract_asset_events, combine_json_files, get_traits_collection, get_nft_traits"
   ],
   "metadata": {
    "collapsed": false,
    "ExecuteTime": {
     "end_time": "2023-12-12T15:12:44.018876Z",
     "start_time": "2023-12-12T15:12:44.012789Z"
    }
   },
   "id": "79193caaece06328"
  },
  {
   "cell_type": "markdown",
   "source": [
    "### 0. Parameter Specification"
   ],
   "metadata": {
    "collapsed": false
   },
   "id": "f08ea1aeea90aa04"
  },
  {
   "cell_type": "code",
   "outputs": [],
   "source": [
    "data = \"boredapeyachtclub, mutant-ape-yacht-club, bored-ape-kennel-club\"\n",
    "\n",
    "words = data.split(',')  # Returns a list\n",
    "collection_list = ['' + word.strip() + '' for word in words]  # I split it at , and then append to the list\n",
    "after = '2020-01-01 01:00:00'  # 1st of January 2020 01:00:00 am\n",
    "before = '2023-12-01 01:00:00'  # 1st of December 2023 01:00:00 am\n",
    "event_type = 'sale'  # Other types: all, cancel, redemption, transfer"
   ],
   "metadata": {
    "collapsed": false
   },
   "id": "3cfaa4f2c8f17821"
  },
  {
   "cell_type": "markdown",
   "source": [
    "### 1. Downloading transactions"
   ],
   "metadata": {
    "collapsed": false
   },
   "id": "3c2f5a2accd209e0"
  },
  {
   "cell_type": "code",
   "outputs": [],
   "source": [
    "for collection in collection_list:\n",
    "    get_opsea_trans_by_collec(collection, before, after, event_type, collection)"
   ],
   "metadata": {
    "collapsed": false
   },
   "id": "b79665017355d413"
  },
  {
   "cell_type": "markdown",
   "source": [
    "### 2. Combine the JSON files fo transactions into one"
   ],
   "metadata": {
    "collapsed": false
   },
   "id": "b2d58f7593c5748"
  },
  {
   "cell_type": "code",
   "outputs": [],
   "source": [
    "# Combine the JSON files into one\n",
    "combine_json_files(collection_list, 'combined_transactions')"
   ],
   "metadata": {
    "collapsed": false
   },
   "id": "453701ff873cc012"
  },
  {
   "cell_type": "markdown",
   "source": [
    "### 3. Add to a dataframe"
   ],
   "metadata": {
    "collapsed": false
   },
   "id": "ebf5c826781eeeba"
  },
  {
   "cell_type": "code",
   "outputs": [],
   "source": [
    "with open('Transaction_files/combined_transactions.json') as z:\n",
    "    trans_3years = json.load(z)"
   ],
   "metadata": {
    "collapsed": false
   },
   "id": "c6d3d32a432d2ebc"
  },
  {
   "cell_type": "code",
   "outputs": [],
   "source": [
    "# Extract list of transactions from transaction blocks and append to a list\n",
    "list_of_transactions_clean = extract_asset_events(trans_3years)"
   ],
   "metadata": {
    "collapsed": false
   },
   "id": "e57ca3ffbf18590b"
  },
  {
   "cell_type": "code",
   "outputs": [],
   "source": [
    "df = pd.json_normalize(list_of_transactions_clean)\n",
    "df.head()  # 28 columns"
   ],
   "metadata": {
    "collapsed": false
   },
   "id": "c9620508575d9f2d"
  },
  {
   "cell_type": "markdown",
   "source": [
    "### 4. Number of unique NFTs"
   ],
   "metadata": {
    "collapsed": false
   },
   "id": "49a47e1d79f9f2f0"
  },
  {
   "cell_type": "code",
   "outputs": [],
   "source": [
    "df[\"nft.metadata_url\"].nunique(), df[\"nft.identifier\"].nunique()"
   ],
   "metadata": {
    "collapsed": false
   },
   "id": "86469f432c50f3"
  },
  {
   "cell_type": "markdown",
   "source": [
    "### 5. Extracting traits from metadata_url for every transaction"
   ],
   "metadata": {
    "collapsed": false
   },
   "id": "c9d5e853cd28bf76"
  },
  {
   "cell_type": "code",
   "outputs": [],
   "source": [
    "# Get DataFrame with added nft.traits column\n",
    "df_test = get_nft_traits(df)"
   ],
   "metadata": {
    "collapsed": false
   },
   "id": "700876865462f616",
   "execution_count": 20
  },
  {
   "cell_type": "code",
   "outputs": [
    {
     "data": {
      "text/plain": "    event_type                                         order_hash     chain  \\\n0         sale                                                     ethereum   \n1         sale  0x0212be13a51073ecbc646121ca52f6e165b3186bd68c...  ethereum   \n2         sale                                                     ethereum   \n3         sale                                                     ethereum   \n4         sale                                                     ethereum   \n..         ...                                                ...       ...   \n995       sale                                                     ethereum   \n996       sale                                                     ethereum   \n997       sale                                                     ethereum   \n998       sale                                                     ethereum   \n999       sale                                                     ethereum   \n\n                               protocol_address  closing_date  quantity  \\\n0                                                  1701390995         1   \n1    0x00000000000000adc04c56bf30ac9d3c0aaf14dc    1701387335         1   \n2                                                  1701385463         1   \n3                                                  1701383255         1   \n4                                                  1701383243         1   \n..                                          ...           ...       ...   \n995                                                1700963327         1   \n996                                                1700963327         1   \n997                                                1700963327         1   \n998                                                1700963327         1   \n999                                                1700963315         1   \n\n                                         seller  \\\n0    0xa1bf766e566c06214fb47b9c904abe30241dd169   \n1    0xbad6f3f82774b9bcb6306cfd0a057cd97e19537a   \n2    0x29469395eaf6f95920e59f858042f0e28d98a20b   \n3    0x29469395eaf6f95920e59f858042f0e28d98a20b   \n4    0x29469395eaf6f95920e59f858042f0e28d98a20b   \n..                                          ...   \n995  0x29469395eaf6f95920e59f858042f0e28d98a20b   \n996  0x29469395eaf6f95920e59f858042f0e28d98a20b   \n997  0x29469395eaf6f95920e59f858042f0e28d98a20b   \n998  0x29469395eaf6f95920e59f858042f0e28d98a20b   \n999  0x29469395eaf6f95920e59f858042f0e28d98a20b   \n\n                                          buyer  \\\n0    0x9afef7dac35f070dc3976f0597b8c872f6b19d1d   \n1    0xc581fb52dd9fa6ff22f5cf4d39a9a3cedd88c320   \n2    0x9afef7dac35f070dc3976f0597b8c872f6b19d1d   \n3    0x9afef7dac35f070dc3976f0597b8c872f6b19d1d   \n4    0x9afef7dac35f070dc3976f0597b8c872f6b19d1d   \n..                                          ...   \n995  0x7df70b612040c682d1cb2e32017446e230fcd747   \n996  0x7df70b612040c682d1cb2e32017446e230fcd747   \n997  0x7df70b612040c682d1cb2e32017446e230fcd747   \n998  0x7df70b612040c682d1cb2e32017446e230fcd747   \n999  0x7df70b612040c682d1cb2e32017446e230fcd747   \n\n                                           transaction  event_timestamp  ...  \\\n0    0x454bdec62afebc65fec573f4a6a0ac606f3bb903f98b...       1701390995  ...   \n1    0x92790770deece651a5cfd8aebde1bf6ade02addceb36...       1701387335  ...   \n2    0xe535a3cd666eda46c1177ffa105113d7db94f16fd53c...       1701385463  ...   \n3    0xc42f9f6361bec8725583a69003ed719af712026bec1a...       1701383255  ...   \n4    0xb8c73a3969be361c5636c7f1eb7106429651ba6d14c3...       1701383243  ...   \n..                                                 ...              ...  ...   \n995  0x5586162846e1b2083acdab4ec5e126bf17e232abdc76...       1700963327  ...   \n996  0x3ba3e6a800aa2a08ad845583eebe112f4227b657f429...       1700963327  ...   \n997  0xca05fa56a1a34c8ae4dbbc97713b0a2dabbd28c43ccb...       1700963327  ...   \n998  0xa89a142f8346cd318130037bb8cdf91eeead5cfe7603...       1700963327  ...   \n999  0x940c2953e4c8003211a311d7471f54a69b05b8a4c898...       1700963315  ...   \n\n                 nft.updated_at nft.is_disabled nft.is_nsfw  \\\n0    2024-01-31T04:52:58.986817           False       False   \n1    2024-02-20T03:05:37.763086           False       False   \n2    2024-01-23T21:32:52.085494           False       False   \n3    2024-02-24T14:46:13.408259           False       False   \n4    2024-02-15T00:00:37.770995           False       False   \n..                          ...             ...         ...   \n995  2024-03-01T19:28:26.910412            True       False   \n996  2024-02-29T14:54:15.737037           False       False   \n997  2024-02-07T14:32:37.770910           False       False   \n998  2024-02-07T14:33:38.893576           False       False   \n999  2024-02-27T04:48:25.734663           False       False   \n\n        payment.quantity                       payment.token_address  \\\n0    5470000000000000000  0xc02aaa39b223fe8d0a0e5c4f27ead9083c756cc2   \n1    5640000000000000000  0x0000000000000000000000000000000000000000   \n2    5470000000000000000  0xc02aaa39b223fe8d0a0e5c4f27ead9083c756cc2   \n3    5470000000000000000  0xc02aaa39b223fe8d0a0e5c4f27ead9083c756cc2   \n4    5470000000000000000  0xc02aaa39b223fe8d0a0e5c4f27ead9083c756cc2   \n..                   ...                                         ...   \n995  5800000000000000000  0xc02aaa39b223fe8d0a0e5c4f27ead9083c756cc2   \n996  5800000000000000000  0xc02aaa39b223fe8d0a0e5c4f27ead9083c756cc2   \n997  5800000000000000000  0xc02aaa39b223fe8d0a0e5c4f27ead9083c756cc2   \n998  5800000000000000000  0xc02aaa39b223fe8d0a0e5c4f27ead9083c756cc2   \n999  5800000000000000000  0xc02aaa39b223fe8d0a0e5c4f27ead9083c756cc2   \n\n     payment.decimals payment.symbol nft payment  \\\n0                18.0           WETH NaN     NaN   \n1                18.0            ETH NaN     NaN   \n2                18.0           WETH NaN     NaN   \n3                18.0           WETH NaN     NaN   \n4                18.0           WETH NaN     NaN   \n..                ...            ...  ..     ...   \n995              18.0           WETH NaN     NaN   \n996              18.0           WETH NaN     NaN   \n997              18.0           WETH NaN     NaN   \n998              18.0           WETH NaN     NaN   \n999              18.0           WETH NaN     NaN   \n\n                                            nft.traits  \n0    [{'trait_type': 'Background', 'value': 'M1 Gra...  \n1    [{'trait_type': 'Background', 'value': 'M1 Arm...  \n2    [{'trait_type': 'Background', 'value': 'M1 Aqu...  \n3    [{'trait_type': 'Background', 'value': 'M1 Arm...  \n4    [{'trait_type': 'Background', 'value': 'M1 Ora...  \n..                                                 ...  \n995  [{'trait_type': 'Background', 'value': 'M1 Arm...  \n996  [{'trait_type': 'Background', 'value': 'M1 Blu...  \n997  [{'trait_type': 'Background', 'value': 'M1 Yel...  \n998  [{'trait_type': 'Background', 'value': 'M1 Arm...  \n999  [{'trait_type': 'Background', 'value': 'M1 Ora...  \n\n[1000 rows x 29 columns]",
      "text/html": "<div>\n<style scoped>\n    .dataframe tbody tr th:only-of-type {\n        vertical-align: middle;\n    }\n\n    .dataframe tbody tr th {\n        vertical-align: top;\n    }\n\n    .dataframe thead th {\n        text-align: right;\n    }\n</style>\n<table border=\"1\" class=\"dataframe\">\n  <thead>\n    <tr style=\"text-align: right;\">\n      <th></th>\n      <th>event_type</th>\n      <th>order_hash</th>\n      <th>chain</th>\n      <th>protocol_address</th>\n      <th>closing_date</th>\n      <th>quantity</th>\n      <th>seller</th>\n      <th>buyer</th>\n      <th>transaction</th>\n      <th>event_timestamp</th>\n      <th>...</th>\n      <th>nft.updated_at</th>\n      <th>nft.is_disabled</th>\n      <th>nft.is_nsfw</th>\n      <th>payment.quantity</th>\n      <th>payment.token_address</th>\n      <th>payment.decimals</th>\n      <th>payment.symbol</th>\n      <th>nft</th>\n      <th>payment</th>\n      <th>nft.traits</th>\n    </tr>\n  </thead>\n  <tbody>\n    <tr>\n      <th>0</th>\n      <td>sale</td>\n      <td></td>\n      <td>ethereum</td>\n      <td></td>\n      <td>1701390995</td>\n      <td>1</td>\n      <td>0xa1bf766e566c06214fb47b9c904abe30241dd169</td>\n      <td>0x9afef7dac35f070dc3976f0597b8c872f6b19d1d</td>\n      <td>0x454bdec62afebc65fec573f4a6a0ac606f3bb903f98b...</td>\n      <td>1701390995</td>\n      <td>...</td>\n      <td>2024-01-31T04:52:58.986817</td>\n      <td>False</td>\n      <td>False</td>\n      <td>5470000000000000000</td>\n      <td>0xc02aaa39b223fe8d0a0e5c4f27ead9083c756cc2</td>\n      <td>18.0</td>\n      <td>WETH</td>\n      <td>NaN</td>\n      <td>NaN</td>\n      <td>[{'trait_type': 'Background', 'value': 'M1 Gra...</td>\n    </tr>\n    <tr>\n      <th>1</th>\n      <td>sale</td>\n      <td>0x0212be13a51073ecbc646121ca52f6e165b3186bd68c...</td>\n      <td>ethereum</td>\n      <td>0x00000000000000adc04c56bf30ac9d3c0aaf14dc</td>\n      <td>1701387335</td>\n      <td>1</td>\n      <td>0xbad6f3f82774b9bcb6306cfd0a057cd97e19537a</td>\n      <td>0xc581fb52dd9fa6ff22f5cf4d39a9a3cedd88c320</td>\n      <td>0x92790770deece651a5cfd8aebde1bf6ade02addceb36...</td>\n      <td>1701387335</td>\n      <td>...</td>\n      <td>2024-02-20T03:05:37.763086</td>\n      <td>False</td>\n      <td>False</td>\n      <td>5640000000000000000</td>\n      <td>0x0000000000000000000000000000000000000000</td>\n      <td>18.0</td>\n      <td>ETH</td>\n      <td>NaN</td>\n      <td>NaN</td>\n      <td>[{'trait_type': 'Background', 'value': 'M1 Arm...</td>\n    </tr>\n    <tr>\n      <th>2</th>\n      <td>sale</td>\n      <td></td>\n      <td>ethereum</td>\n      <td></td>\n      <td>1701385463</td>\n      <td>1</td>\n      <td>0x29469395eaf6f95920e59f858042f0e28d98a20b</td>\n      <td>0x9afef7dac35f070dc3976f0597b8c872f6b19d1d</td>\n      <td>0xe535a3cd666eda46c1177ffa105113d7db94f16fd53c...</td>\n      <td>1701385463</td>\n      <td>...</td>\n      <td>2024-01-23T21:32:52.085494</td>\n      <td>False</td>\n      <td>False</td>\n      <td>5470000000000000000</td>\n      <td>0xc02aaa39b223fe8d0a0e5c4f27ead9083c756cc2</td>\n      <td>18.0</td>\n      <td>WETH</td>\n      <td>NaN</td>\n      <td>NaN</td>\n      <td>[{'trait_type': 'Background', 'value': 'M1 Aqu...</td>\n    </tr>\n    <tr>\n      <th>3</th>\n      <td>sale</td>\n      <td></td>\n      <td>ethereum</td>\n      <td></td>\n      <td>1701383255</td>\n      <td>1</td>\n      <td>0x29469395eaf6f95920e59f858042f0e28d98a20b</td>\n      <td>0x9afef7dac35f070dc3976f0597b8c872f6b19d1d</td>\n      <td>0xc42f9f6361bec8725583a69003ed719af712026bec1a...</td>\n      <td>1701383255</td>\n      <td>...</td>\n      <td>2024-02-24T14:46:13.408259</td>\n      <td>False</td>\n      <td>False</td>\n      <td>5470000000000000000</td>\n      <td>0xc02aaa39b223fe8d0a0e5c4f27ead9083c756cc2</td>\n      <td>18.0</td>\n      <td>WETH</td>\n      <td>NaN</td>\n      <td>NaN</td>\n      <td>[{'trait_type': 'Background', 'value': 'M1 Arm...</td>\n    </tr>\n    <tr>\n      <th>4</th>\n      <td>sale</td>\n      <td></td>\n      <td>ethereum</td>\n      <td></td>\n      <td>1701383243</td>\n      <td>1</td>\n      <td>0x29469395eaf6f95920e59f858042f0e28d98a20b</td>\n      <td>0x9afef7dac35f070dc3976f0597b8c872f6b19d1d</td>\n      <td>0xb8c73a3969be361c5636c7f1eb7106429651ba6d14c3...</td>\n      <td>1701383243</td>\n      <td>...</td>\n      <td>2024-02-15T00:00:37.770995</td>\n      <td>False</td>\n      <td>False</td>\n      <td>5470000000000000000</td>\n      <td>0xc02aaa39b223fe8d0a0e5c4f27ead9083c756cc2</td>\n      <td>18.0</td>\n      <td>WETH</td>\n      <td>NaN</td>\n      <td>NaN</td>\n      <td>[{'trait_type': 'Background', 'value': 'M1 Ora...</td>\n    </tr>\n    <tr>\n      <th>...</th>\n      <td>...</td>\n      <td>...</td>\n      <td>...</td>\n      <td>...</td>\n      <td>...</td>\n      <td>...</td>\n      <td>...</td>\n      <td>...</td>\n      <td>...</td>\n      <td>...</td>\n      <td>...</td>\n      <td>...</td>\n      <td>...</td>\n      <td>...</td>\n      <td>...</td>\n      <td>...</td>\n      <td>...</td>\n      <td>...</td>\n      <td>...</td>\n      <td>...</td>\n      <td>...</td>\n    </tr>\n    <tr>\n      <th>995</th>\n      <td>sale</td>\n      <td></td>\n      <td>ethereum</td>\n      <td></td>\n      <td>1700963327</td>\n      <td>1</td>\n      <td>0x29469395eaf6f95920e59f858042f0e28d98a20b</td>\n      <td>0x7df70b612040c682d1cb2e32017446e230fcd747</td>\n      <td>0x5586162846e1b2083acdab4ec5e126bf17e232abdc76...</td>\n      <td>1700963327</td>\n      <td>...</td>\n      <td>2024-03-01T19:28:26.910412</td>\n      <td>True</td>\n      <td>False</td>\n      <td>5800000000000000000</td>\n      <td>0xc02aaa39b223fe8d0a0e5c4f27ead9083c756cc2</td>\n      <td>18.0</td>\n      <td>WETH</td>\n      <td>NaN</td>\n      <td>NaN</td>\n      <td>[{'trait_type': 'Background', 'value': 'M1 Arm...</td>\n    </tr>\n    <tr>\n      <th>996</th>\n      <td>sale</td>\n      <td></td>\n      <td>ethereum</td>\n      <td></td>\n      <td>1700963327</td>\n      <td>1</td>\n      <td>0x29469395eaf6f95920e59f858042f0e28d98a20b</td>\n      <td>0x7df70b612040c682d1cb2e32017446e230fcd747</td>\n      <td>0x3ba3e6a800aa2a08ad845583eebe112f4227b657f429...</td>\n      <td>1700963327</td>\n      <td>...</td>\n      <td>2024-02-29T14:54:15.737037</td>\n      <td>False</td>\n      <td>False</td>\n      <td>5800000000000000000</td>\n      <td>0xc02aaa39b223fe8d0a0e5c4f27ead9083c756cc2</td>\n      <td>18.0</td>\n      <td>WETH</td>\n      <td>NaN</td>\n      <td>NaN</td>\n      <td>[{'trait_type': 'Background', 'value': 'M1 Blu...</td>\n    </tr>\n    <tr>\n      <th>997</th>\n      <td>sale</td>\n      <td></td>\n      <td>ethereum</td>\n      <td></td>\n      <td>1700963327</td>\n      <td>1</td>\n      <td>0x29469395eaf6f95920e59f858042f0e28d98a20b</td>\n      <td>0x7df70b612040c682d1cb2e32017446e230fcd747</td>\n      <td>0xca05fa56a1a34c8ae4dbbc97713b0a2dabbd28c43ccb...</td>\n      <td>1700963327</td>\n      <td>...</td>\n      <td>2024-02-07T14:32:37.770910</td>\n      <td>False</td>\n      <td>False</td>\n      <td>5800000000000000000</td>\n      <td>0xc02aaa39b223fe8d0a0e5c4f27ead9083c756cc2</td>\n      <td>18.0</td>\n      <td>WETH</td>\n      <td>NaN</td>\n      <td>NaN</td>\n      <td>[{'trait_type': 'Background', 'value': 'M1 Yel...</td>\n    </tr>\n    <tr>\n      <th>998</th>\n      <td>sale</td>\n      <td></td>\n      <td>ethereum</td>\n      <td></td>\n      <td>1700963327</td>\n      <td>1</td>\n      <td>0x29469395eaf6f95920e59f858042f0e28d98a20b</td>\n      <td>0x7df70b612040c682d1cb2e32017446e230fcd747</td>\n      <td>0xa89a142f8346cd318130037bb8cdf91eeead5cfe7603...</td>\n      <td>1700963327</td>\n      <td>...</td>\n      <td>2024-02-07T14:33:38.893576</td>\n      <td>False</td>\n      <td>False</td>\n      <td>5800000000000000000</td>\n      <td>0xc02aaa39b223fe8d0a0e5c4f27ead9083c756cc2</td>\n      <td>18.0</td>\n      <td>WETH</td>\n      <td>NaN</td>\n      <td>NaN</td>\n      <td>[{'trait_type': 'Background', 'value': 'M1 Arm...</td>\n    </tr>\n    <tr>\n      <th>999</th>\n      <td>sale</td>\n      <td></td>\n      <td>ethereum</td>\n      <td></td>\n      <td>1700963315</td>\n      <td>1</td>\n      <td>0x29469395eaf6f95920e59f858042f0e28d98a20b</td>\n      <td>0x7df70b612040c682d1cb2e32017446e230fcd747</td>\n      <td>0x940c2953e4c8003211a311d7471f54a69b05b8a4c898...</td>\n      <td>1700963315</td>\n      <td>...</td>\n      <td>2024-02-27T04:48:25.734663</td>\n      <td>False</td>\n      <td>False</td>\n      <td>5800000000000000000</td>\n      <td>0xc02aaa39b223fe8d0a0e5c4f27ead9083c756cc2</td>\n      <td>18.0</td>\n      <td>WETH</td>\n      <td>NaN</td>\n      <td>NaN</td>\n      <td>[{'trait_type': 'Background', 'value': 'M1 Ora...</td>\n    </tr>\n  </tbody>\n</table>\n<p>1000 rows × 29 columns</p>\n</div>"
     },
     "execution_count": 21,
     "metadata": {},
     "output_type": "execute_result"
    }
   ],
   "source": [
    "df_test"
   ],
   "metadata": {
    "collapsed": false
   },
   "id": "83ef4bb3af6cb8f8",
   "execution_count": 21
  },
  {
   "cell_type": "markdown",
   "source": [
    "### 6. Getting traits statistics for a collection"
   ],
   "metadata": {
    "collapsed": false
   },
   "id": "6906ce437f1a2724"
  },
  {
   "cell_type": "code",
   "outputs": [],
   "source": [
    "for collection in collection_list:\n",
    "    get_traits_collection(collection)"
   ],
   "metadata": {
    "collapsed": false
   },
   "id": "607057361d5e144e",
   "execution_count": 3
  },
  {
   "cell_type": "code",
   "outputs": [],
   "source": [
    "with open('Collection_traits/bored-ape-kennel-club_traits.json') as z:\n",
    "    traits_bakc = json.load(z)"
   ],
   "metadata": {
    "collapsed": false
   },
   "id": "bcebc01e43e9387a",
   "execution_count": 4
  },
  {
   "cell_type": "code",
   "outputs": [
    {
     "data": {
      "text/plain": "dict_keys(['categories', 'counts'])"
     },
     "execution_count": 21,
     "metadata": {},
     "output_type": "execute_result"
    }
   ],
   "source": [
    "traits_bakc.keys()"
   ],
   "metadata": {
    "collapsed": false
   },
   "id": "64822fd898302cf7",
   "execution_count": 21
  },
  {
   "cell_type": "code",
   "outputs": [
    {
     "data": {
      "text/plain": "{'Background': {'Outhouse': 2413,\n  'SS Monke Biz': 2337,\n  'Swamp': 2426,\n  'Club Exterior': 1640,\n  'Bar': 786},\n 'Fur': {'Radioactive': 188,\n  'Brown': 1522,\n  'Tan': 2325,\n  'Robot': 383,\n  'Black': 1568,\n  'Zombie': 390,\n  'Noise': 181,\n  'Pink': 1008,\n  'Death Bot': 261,\n  'Galaxy': 221,\n  'Mega Death Bot': 171,\n  'Cheetah': 611,\n  'Cyberpunk': 271,\n  'Trippy': 110,\n  'DMT': 294,\n  'Solid Gold': 98},\n 'Neck': {'Japan Bandana': 110,\n  'Christmas Wreath': 181,\n  'Plaid Bowtie': 197,\n  'BAYC Collar': 907,\n  'Glow Necklace': 168,\n  'Red BAYC Bandana': 55,\n  'Whiskey Barrel': 84,\n  'Camo Bandana': 117,\n  'Pink Collar': 281,\n  'Spiked Collar': 134,\n  'Pinstripe Bandana': 180,\n  'Red Collar With Bone': 260,\n  'Life Preserver': 143,\n  'Ribbon': 165,\n  'Black BAYC Bandana': 129,\n  'Hawaiian Bandana': 221,\n  'Beer Can Necklace': 199,\n  'Lei': 85,\n  'Golden Bone Necklace': 197,\n  'Flamingo Bandana': 114,\n  'Gold Links': 178,\n  'USA Bandana': 97,\n  'Japanese Bandana': 92},\n 'Mouth': {'Hot Dog': 471,\n  'Bone': 298,\n  'Smiling': 1774,\n  'Diamond Teeth': 120,\n  'Cigar': 188,\n  'Beer Can': 300,\n  'Slippers': 260,\n  'Frog Legs': 262,\n  'Tennis Ball': 265,\n  'Golden Hot Dog': 83,\n  'Drooling': 199,\n  'Growl': 210,\n  'Ape Hand': 284,\n  'Cyberjaw': 249,\n  'Kazoo': 164,\n  'Goofball': 370,\n  'Foaming': 180,\n  'Gold Teeth': 137,\n  'Red Raybeam': 108,\n  'Rainbow Teeth': 134,\n  'Rose': 245,\n  'Fish': 307,\n  'Loogie': 204,\n  'Bored': 350,\n  'Cigarette': 233,\n  'Cute Smile': 303,\n  'Confused': 205,\n  'Happy': 221,\n  'Bubblegum': 120,\n  'Bloody': 315,\n  'Heavy Drooling': 190,\n  'Blep': 178,\n  'Stache': 172,\n  'Bloody Fangs': 181,\n  'Panting': 201,\n  'Fire Breath': 121},\n 'Eyes': {'Happy': 1296,\n  'Hypnotized': 180,\n  'Hero Mask': 132,\n  'Cyberpunk Visor': 110,\n  'X Eyes': 193,\n  'Pilot Goggles': 189,\n  'Closed': 1694,\n  'Mystic Eye': 154,\n  'Bloodshot': 339,\n  'Confused': 310,\n  'Zombie': 236,\n  'Heart Eyes': 304,\n  'Shutter Shades': 192,\n  'Whatever': 355,\n  'Suspicious': 351,\n  'Sunglasses': 302,\n  'Cyborg': 68,\n  'Radioactive': 170,\n  'Anime': 395,\n  'Sad': 389,\n  'Goofy': 365,\n  'Angry': 323,\n  'Wide': 337,\n  'Holographic Visor': 114,\n  'Laser': 72,\n  'Robot': 238,\n  'Cyberware': 68,\n  'Glowing Red': 147,\n  '3D Glasses': 306,\n  'Blue Beams': 64,\n  'Snorkel Gear': 93,\n  'Cyclops': 116},\n 'Head': {'Pimp Hat': 69,\n  'Rat': 131,\n  'Beer Helmet': 160,\n  'Purple Headband': 196,\n  'White Headband': 219,\n  'Bow': 266,\n  'Missile Launcher': 237,\n  'Halo': 136,\n  'Banana Peel': 282,\n  'BAYC Flipped Brim Hat': 183,\n  'Swamp Turtle': 61,\n  'Sushi Chef Headband': 131,\n  'BAYC Logo Hat Red': 80,\n  'Fez': 271,\n  'Earbuds': 177,\n  'Hermit Crab': 132,\n  'Bird': 219,\n  'Bowler': 205,\n  'BAYC Logo Hat Black': 128,\n  'Spinner Hat': 115,\n  'Santa Hat': 130,\n  'Cowboy Hat': 269,\n  'Rain Hat': 145,\n  'Beanie': 384,\n  'Tie': 202,\n  \"Trippy Captain's Hat\": 51,\n  \"Pirate Captain's Hat\": 143,\n  \"Sea Captain's Hat\": 298,\n  \"Fisherman's Hat\": 198,\n  'Shrunken Head': 86,\n  \"King's Crown\": 62,\n  'Party Hat': 33},\n 'Feet': {'Rollerblades': 180,\n  'Rain Boots': 350,\n  'Cast': 450,\n  'Flask': 302,\n  'Cyberpunk Boots': 130,\n  'Old Laces': 243,\n  'Fresh Laces': 236,\n  'High Tops': 280,\n  'Gold Kicks': 102,\n  'Kicks': 236,\n  'Flippers': 275,\n  'Pink Combat Boots': 205,\n  '80s Kicks': 93,\n  'Combat Boots': 326,\n  'Leg Knife': 236,\n  'Boots': 368,\n  'Space Boots': 139},\n 'Back': {'Basketball Hoop': 235,\n  'Service Vest': 430,\n  'Camo Pack': 280,\n  'Beer Saddle': 333,\n  'Rocket Launcher': 154,\n  'Fishing Lures': 174,\n  'Jetpack': 200,\n  'Beer Kegs': 399,\n  'Doggie Pack': 148,\n  'Demon Wings': 78,\n  'Cyberpunk Pack': 170,\n  'Blue Pack': 395,\n  'Ninja Kunai': 185,\n  'Mega Rocket Launcher': 118,\n  'Toilet Paper Dispenser': 111,\n  'Space Pack': 57}}"
     },
     "execution_count": 22,
     "metadata": {},
     "output_type": "execute_result"
    }
   ],
   "source": [
    "traits_bakc[\"counts\"]"
   ],
   "metadata": {
    "collapsed": false
   },
   "id": "a7b771566c60dc50",
   "execution_count": 22
  },
  {
   "cell_type": "code",
   "outputs": [],
   "source": [
    "df_traits = pd.DataFrame(traits_bakc[\"counts\"])"
   ],
   "metadata": {
    "collapsed": false
   },
   "id": "244a5fa00118ec8a",
   "execution_count": 25
  },
  {
   "cell_type": "code",
   "outputs": [
    {
     "data": {
      "text/plain": "                        Background  Fur  Neck  Mouth  Eyes  Head  Feet   Back\nOuthouse                    2413.0  NaN   NaN    NaN   NaN   NaN   NaN    NaN\nSS Monke Biz                2337.0  NaN   NaN    NaN   NaN   NaN   NaN    NaN\nSwamp                       2426.0  NaN   NaN    NaN   NaN   NaN   NaN    NaN\nClub Exterior               1640.0  NaN   NaN    NaN   NaN   NaN   NaN    NaN\nBar                          786.0  NaN   NaN    NaN   NaN   NaN   NaN    NaN\n...                            ...  ...   ...    ...   ...   ...   ...    ...\nBlue Pack                      NaN  NaN   NaN    NaN   NaN   NaN   NaN  395.0\nNinja Kunai                    NaN  NaN   NaN    NaN   NaN   NaN   NaN  185.0\nMega Rocket Launcher           NaN  NaN   NaN    NaN   NaN   NaN   NaN  118.0\nToilet Paper Dispenser         NaN  NaN   NaN    NaN   NaN   NaN   NaN  111.0\nSpace Pack                     NaN  NaN   NaN    NaN   NaN   NaN   NaN   57.0\n\n[172 rows x 8 columns]",
      "text/html": "<div>\n<style scoped>\n    .dataframe tbody tr th:only-of-type {\n        vertical-align: middle;\n    }\n\n    .dataframe tbody tr th {\n        vertical-align: top;\n    }\n\n    .dataframe thead th {\n        text-align: right;\n    }\n</style>\n<table border=\"1\" class=\"dataframe\">\n  <thead>\n    <tr style=\"text-align: right;\">\n      <th></th>\n      <th>Background</th>\n      <th>Fur</th>\n      <th>Neck</th>\n      <th>Mouth</th>\n      <th>Eyes</th>\n      <th>Head</th>\n      <th>Feet</th>\n      <th>Back</th>\n    </tr>\n  </thead>\n  <tbody>\n    <tr>\n      <th>Outhouse</th>\n      <td>2413.0</td>\n      <td>NaN</td>\n      <td>NaN</td>\n      <td>NaN</td>\n      <td>NaN</td>\n      <td>NaN</td>\n      <td>NaN</td>\n      <td>NaN</td>\n    </tr>\n    <tr>\n      <th>SS Monke Biz</th>\n      <td>2337.0</td>\n      <td>NaN</td>\n      <td>NaN</td>\n      <td>NaN</td>\n      <td>NaN</td>\n      <td>NaN</td>\n      <td>NaN</td>\n      <td>NaN</td>\n    </tr>\n    <tr>\n      <th>Swamp</th>\n      <td>2426.0</td>\n      <td>NaN</td>\n      <td>NaN</td>\n      <td>NaN</td>\n      <td>NaN</td>\n      <td>NaN</td>\n      <td>NaN</td>\n      <td>NaN</td>\n    </tr>\n    <tr>\n      <th>Club Exterior</th>\n      <td>1640.0</td>\n      <td>NaN</td>\n      <td>NaN</td>\n      <td>NaN</td>\n      <td>NaN</td>\n      <td>NaN</td>\n      <td>NaN</td>\n      <td>NaN</td>\n    </tr>\n    <tr>\n      <th>Bar</th>\n      <td>786.0</td>\n      <td>NaN</td>\n      <td>NaN</td>\n      <td>NaN</td>\n      <td>NaN</td>\n      <td>NaN</td>\n      <td>NaN</td>\n      <td>NaN</td>\n    </tr>\n    <tr>\n      <th>...</th>\n      <td>...</td>\n      <td>...</td>\n      <td>...</td>\n      <td>...</td>\n      <td>...</td>\n      <td>...</td>\n      <td>...</td>\n      <td>...</td>\n    </tr>\n    <tr>\n      <th>Blue Pack</th>\n      <td>NaN</td>\n      <td>NaN</td>\n      <td>NaN</td>\n      <td>NaN</td>\n      <td>NaN</td>\n      <td>NaN</td>\n      <td>NaN</td>\n      <td>395.0</td>\n    </tr>\n    <tr>\n      <th>Ninja Kunai</th>\n      <td>NaN</td>\n      <td>NaN</td>\n      <td>NaN</td>\n      <td>NaN</td>\n      <td>NaN</td>\n      <td>NaN</td>\n      <td>NaN</td>\n      <td>185.0</td>\n    </tr>\n    <tr>\n      <th>Mega Rocket Launcher</th>\n      <td>NaN</td>\n      <td>NaN</td>\n      <td>NaN</td>\n      <td>NaN</td>\n      <td>NaN</td>\n      <td>NaN</td>\n      <td>NaN</td>\n      <td>118.0</td>\n    </tr>\n    <tr>\n      <th>Toilet Paper Dispenser</th>\n      <td>NaN</td>\n      <td>NaN</td>\n      <td>NaN</td>\n      <td>NaN</td>\n      <td>NaN</td>\n      <td>NaN</td>\n      <td>NaN</td>\n      <td>111.0</td>\n    </tr>\n    <tr>\n      <th>Space Pack</th>\n      <td>NaN</td>\n      <td>NaN</td>\n      <td>NaN</td>\n      <td>NaN</td>\n      <td>NaN</td>\n      <td>NaN</td>\n      <td>NaN</td>\n      <td>57.0</td>\n    </tr>\n  </tbody>\n</table>\n<p>172 rows × 8 columns</p>\n</div>"
     },
     "execution_count": 26,
     "metadata": {},
     "output_type": "execute_result"
    }
   ],
   "source": [
    "df_traits"
   ],
   "metadata": {
    "collapsed": false
   },
   "id": "5ca087f999dcb268",
   "execution_count": 26
  }
 ],
 "metadata": {
  "kernelspec": {
   "display_name": "Python 3",
   "language": "python",
   "name": "python3"
  },
  "language_info": {
   "codemirror_mode": {
    "name": "ipython",
    "version": 2
   },
   "file_extension": ".py",
   "mimetype": "text/x-python",
   "name": "python",
   "nbconvert_exporter": "python",
   "pygments_lexer": "ipython2",
   "version": "2.7.6"
  }
 },
 "nbformat": 4,
 "nbformat_minor": 5
}
