{
 "cells": [
  {
   "cell_type": "code",
   "execution_count": 2,
   "outputs": [],
   "source": [
    "import json\n",
    "import pandas as pd\n",
    "from useful_functions import get_opsea_trans_by_collec, extract_asset_events, combine_json_files, get_traits_collection, get_nft_traits"
   ],
   "metadata": {
    "collapsed": false,
    "ExecuteTime": {
     "end_time": "2024-03-14T01:04:32.240453Z",
     "start_time": "2024-03-14T01:04:31.877489Z"
    }
   },
   "id": "79193caaece06328"
  },
  {
   "cell_type": "markdown",
   "source": [
    "### 0. Parameter Specification"
   ],
   "metadata": {
    "collapsed": false
   },
   "id": "f08ea1aeea90aa04"
  },
  {
   "cell_type": "code",
   "outputs": [],
   "source": [
    "data = \"boredapeyachtclub, mutant-ape-yacht-club, bored-ape-kennel-club\"\n",
    "\n",
    "words = data.split(',')  # Returns a list\n",
    "collection_list = ['' + word.strip() + '' for word in words]  # I split it at , and then append to the list\n",
    "after = '2020-01-01 01:00:00'  # 1st of January 2020 01:00:00 am\n",
    "before = '2023-12-01 01:00:00'  # 1st of December 2023 01:00:00 am\n",
    "event_type = 'sale'  # Other types: all, cancel, redemption, transfer"
   ],
   "metadata": {
    "collapsed": false,
    "ExecuteTime": {
     "end_time": "2024-03-14T01:04:33.997831Z",
     "start_time": "2024-03-14T01:04:33.995276Z"
    }
   },
   "id": "3cfaa4f2c8f17821",
   "execution_count": 3
  },
  {
   "cell_type": "markdown",
   "source": [
    "### 1. Downloading transactions"
   ],
   "metadata": {
    "collapsed": false
   },
   "id": "3c2f5a2accd209e0"
  },
  {
   "cell_type": "code",
   "outputs": [],
   "source": [
    "for collection in collection_list:\n",
    "    get_opsea_trans_by_collec(collection, before, after, event_type, collection)"
   ],
   "metadata": {
    "collapsed": false
   },
   "id": "b79665017355d413"
  },
  {
   "cell_type": "markdown",
   "source": [
    "### 2. Combine the JSON files fo transactions into one"
   ],
   "metadata": {
    "collapsed": false
   },
   "id": "b2d58f7593c5748"
  },
  {
   "cell_type": "code",
   "outputs": [],
   "source": [
    "# Combine the JSON files into one\n",
    "combine_json_files(collection_list, 'combined_transactions')"
   ],
   "metadata": {
    "collapsed": false
   },
   "id": "453701ff873cc012"
  },
  {
   "cell_type": "markdown",
   "source": [
    "### 3. Add to a dataframe"
   ],
   "metadata": {
    "collapsed": false
   },
   "id": "ebf5c826781eeeba"
  },
  {
   "cell_type": "code",
   "outputs": [],
   "source": [
    "with open('Transaction_files/combined_transactions.json') as z:\n",
    "    trans_3years = json.load(z)"
   ],
   "metadata": {
    "collapsed": false,
    "ExecuteTime": {
     "end_time": "2024-03-14T01:04:54.509801Z",
     "start_time": "2024-03-14T01:04:53.400434Z"
    }
   },
   "id": "c6d3d32a432d2ebc",
   "execution_count": 4
  },
  {
   "cell_type": "code",
   "outputs": [],
   "source": [
    "# Extract list of transactions from transaction blocks and append to a list\n",
    "list_of_transactions_clean = extract_asset_events(trans_3years)"
   ],
   "metadata": {
    "collapsed": false,
    "ExecuteTime": {
     "end_time": "2024-03-14T01:04:55.940397Z",
     "start_time": "2024-03-14T01:04:55.932809Z"
    }
   },
   "id": "e57ca3ffbf18590b",
   "execution_count": 5
  },
  {
   "cell_type": "code",
   "outputs": [
    {
     "data": {
      "text/plain": "  event_type order_hash     chain protocol_address  closing_date  quantity  \\\n0       sale             ethereum                     1701378215         1   \n1       sale             ethereum                     1701378179         1   \n2       sale             ethereum                     1701378179         1   \n3       sale             ethereum                     1701378179         1   \n4       sale             ethereum                     1701378179         1   \n\n                                       seller  \\\n0  0x29469395eaf6f95920e59f858042f0e28d98a20b   \n1  0x29469395eaf6f95920e59f858042f0e28d98a20b   \n2  0x29469395eaf6f95920e59f858042f0e28d98a20b   \n3  0x29469395eaf6f95920e59f858042f0e28d98a20b   \n4  0x29469395eaf6f95920e59f858042f0e28d98a20b   \n\n                                        buyer  \\\n0  0xae7fca4f38a28fe3580d42d7a56190ff4b80dc65   \n1  0x458dbf62e68463fe0b14c0f8dd69e695d23ca0cb   \n2  0x9afef7dac35f070dc3976f0597b8c872f6b19d1d   \n3  0x458dbf62e68463fe0b14c0f8dd69e695d23ca0cb   \n4  0x458dbf62e68463fe0b14c0f8dd69e695d23ca0cb   \n\n                                         transaction  event_timestamp  ...  \\\n0  0xb085fc8e1fa7518ced3c411a9184551138db03c75a53...       1701378215  ...   \n1  0x46667400bc0225903e71d4f16f1625b239c72617a326...       1701378179  ...   \n2  0x998eac1b78861ce9ba700003b21582f3d31d4d9b12e1...       1701378179  ...   \n3  0x50f53f1b2900bbdb10fa54e29817eb0a12f21739d8c3...       1701378179  ...   \n4  0x157175e7dee4ed8269415be4cf7c52fbbaa3eb113656...       1701378179  ...   \n\n                                     nft.opensea_url  \\\n0  https://opensea.io/assets/ethereum/0xbc4ca0eda...   \n1  https://opensea.io/assets/ethereum/0xbc4ca0eda...   \n2  https://opensea.io/assets/ethereum/0xbc4ca0eda...   \n3  https://opensea.io/assets/ethereum/0xbc4ca0eda...   \n4  https://opensea.io/assets/ethereum/0xbc4ca0eda...   \n\n               nft.updated_at nft.is_disabled nft.is_nsfw  \\\n0  2024-01-13T02:50:25.797011           False       False   \n1  2023-12-27T06:22:13.050808           False       False   \n2  2023-12-02T07:21:27.507469           False       False   \n3  2024-01-26T08:08:15.693777           False       False   \n4  2024-01-26T17:09:27.131954           False       False   \n\n       payment.quantity                       payment.token_address  \\\n0  28250000000000000000  0xc02aaa39b223fe8d0a0e5c4f27ead9083c756cc2   \n1  28300000000000000000  0xc02aaa39b223fe8d0a0e5c4f27ead9083c756cc2   \n2  28300000000000000000  0xc02aaa39b223fe8d0a0e5c4f27ead9083c756cc2   \n3  28300000000000000000  0xc02aaa39b223fe8d0a0e5c4f27ead9083c756cc2   \n4  28300000000000000000  0xc02aaa39b223fe8d0a0e5c4f27ead9083c756cc2   \n\n  payment.decimals payment.symbol nft payment  \n0             18.0           WETH NaN     NaN  \n1             18.0           WETH NaN     NaN  \n2             18.0           WETH NaN     NaN  \n3             18.0           WETH NaN     NaN  \n4             18.0           WETH NaN     NaN  \n\n[5 rows x 28 columns]",
      "text/html": "<div>\n<style scoped>\n    .dataframe tbody tr th:only-of-type {\n        vertical-align: middle;\n    }\n\n    .dataframe tbody tr th {\n        vertical-align: top;\n    }\n\n    .dataframe thead th {\n        text-align: right;\n    }\n</style>\n<table border=\"1\" class=\"dataframe\">\n  <thead>\n    <tr style=\"text-align: right;\">\n      <th></th>\n      <th>event_type</th>\n      <th>order_hash</th>\n      <th>chain</th>\n      <th>protocol_address</th>\n      <th>closing_date</th>\n      <th>quantity</th>\n      <th>seller</th>\n      <th>buyer</th>\n      <th>transaction</th>\n      <th>event_timestamp</th>\n      <th>...</th>\n      <th>nft.opensea_url</th>\n      <th>nft.updated_at</th>\n      <th>nft.is_disabled</th>\n      <th>nft.is_nsfw</th>\n      <th>payment.quantity</th>\n      <th>payment.token_address</th>\n      <th>payment.decimals</th>\n      <th>payment.symbol</th>\n      <th>nft</th>\n      <th>payment</th>\n    </tr>\n  </thead>\n  <tbody>\n    <tr>\n      <th>0</th>\n      <td>sale</td>\n      <td></td>\n      <td>ethereum</td>\n      <td></td>\n      <td>1701378215</td>\n      <td>1</td>\n      <td>0x29469395eaf6f95920e59f858042f0e28d98a20b</td>\n      <td>0xae7fca4f38a28fe3580d42d7a56190ff4b80dc65</td>\n      <td>0xb085fc8e1fa7518ced3c411a9184551138db03c75a53...</td>\n      <td>1701378215</td>\n      <td>...</td>\n      <td>https://opensea.io/assets/ethereum/0xbc4ca0eda...</td>\n      <td>2024-01-13T02:50:25.797011</td>\n      <td>False</td>\n      <td>False</td>\n      <td>28250000000000000000</td>\n      <td>0xc02aaa39b223fe8d0a0e5c4f27ead9083c756cc2</td>\n      <td>18.0</td>\n      <td>WETH</td>\n      <td>NaN</td>\n      <td>NaN</td>\n    </tr>\n    <tr>\n      <th>1</th>\n      <td>sale</td>\n      <td></td>\n      <td>ethereum</td>\n      <td></td>\n      <td>1701378179</td>\n      <td>1</td>\n      <td>0x29469395eaf6f95920e59f858042f0e28d98a20b</td>\n      <td>0x458dbf62e68463fe0b14c0f8dd69e695d23ca0cb</td>\n      <td>0x46667400bc0225903e71d4f16f1625b239c72617a326...</td>\n      <td>1701378179</td>\n      <td>...</td>\n      <td>https://opensea.io/assets/ethereum/0xbc4ca0eda...</td>\n      <td>2023-12-27T06:22:13.050808</td>\n      <td>False</td>\n      <td>False</td>\n      <td>28300000000000000000</td>\n      <td>0xc02aaa39b223fe8d0a0e5c4f27ead9083c756cc2</td>\n      <td>18.0</td>\n      <td>WETH</td>\n      <td>NaN</td>\n      <td>NaN</td>\n    </tr>\n    <tr>\n      <th>2</th>\n      <td>sale</td>\n      <td></td>\n      <td>ethereum</td>\n      <td></td>\n      <td>1701378179</td>\n      <td>1</td>\n      <td>0x29469395eaf6f95920e59f858042f0e28d98a20b</td>\n      <td>0x9afef7dac35f070dc3976f0597b8c872f6b19d1d</td>\n      <td>0x998eac1b78861ce9ba700003b21582f3d31d4d9b12e1...</td>\n      <td>1701378179</td>\n      <td>...</td>\n      <td>https://opensea.io/assets/ethereum/0xbc4ca0eda...</td>\n      <td>2023-12-02T07:21:27.507469</td>\n      <td>False</td>\n      <td>False</td>\n      <td>28300000000000000000</td>\n      <td>0xc02aaa39b223fe8d0a0e5c4f27ead9083c756cc2</td>\n      <td>18.0</td>\n      <td>WETH</td>\n      <td>NaN</td>\n      <td>NaN</td>\n    </tr>\n    <tr>\n      <th>3</th>\n      <td>sale</td>\n      <td></td>\n      <td>ethereum</td>\n      <td></td>\n      <td>1701378179</td>\n      <td>1</td>\n      <td>0x29469395eaf6f95920e59f858042f0e28d98a20b</td>\n      <td>0x458dbf62e68463fe0b14c0f8dd69e695d23ca0cb</td>\n      <td>0x50f53f1b2900bbdb10fa54e29817eb0a12f21739d8c3...</td>\n      <td>1701378179</td>\n      <td>...</td>\n      <td>https://opensea.io/assets/ethereum/0xbc4ca0eda...</td>\n      <td>2024-01-26T08:08:15.693777</td>\n      <td>False</td>\n      <td>False</td>\n      <td>28300000000000000000</td>\n      <td>0xc02aaa39b223fe8d0a0e5c4f27ead9083c756cc2</td>\n      <td>18.0</td>\n      <td>WETH</td>\n      <td>NaN</td>\n      <td>NaN</td>\n    </tr>\n    <tr>\n      <th>4</th>\n      <td>sale</td>\n      <td></td>\n      <td>ethereum</td>\n      <td></td>\n      <td>1701378179</td>\n      <td>1</td>\n      <td>0x29469395eaf6f95920e59f858042f0e28d98a20b</td>\n      <td>0x458dbf62e68463fe0b14c0f8dd69e695d23ca0cb</td>\n      <td>0x157175e7dee4ed8269415be4cf7c52fbbaa3eb113656...</td>\n      <td>1701378179</td>\n      <td>...</td>\n      <td>https://opensea.io/assets/ethereum/0xbc4ca0eda...</td>\n      <td>2024-01-26T17:09:27.131954</td>\n      <td>False</td>\n      <td>False</td>\n      <td>28300000000000000000</td>\n      <td>0xc02aaa39b223fe8d0a0e5c4f27ead9083c756cc2</td>\n      <td>18.0</td>\n      <td>WETH</td>\n      <td>NaN</td>\n      <td>NaN</td>\n    </tr>\n  </tbody>\n</table>\n<p>5 rows × 28 columns</p>\n</div>"
     },
     "execution_count": 6,
     "metadata": {},
     "output_type": "execute_result"
    }
   ],
   "source": [
    "df = pd.json_normalize(list_of_transactions_clean)\n",
    "df.head()  # 28 columns"
   ],
   "metadata": {
    "collapsed": false,
    "ExecuteTime": {
     "end_time": "2024-03-14T01:04:58.677961Z",
     "start_time": "2024-03-14T01:04:56.734196Z"
    }
   },
   "id": "c9620508575d9f2d",
   "execution_count": 6
  },
  {
   "cell_type": "markdown",
   "source": [
    "### 4. Number of unique NFTs"
   ],
   "metadata": {
    "collapsed": false
   },
   "id": "49a47e1d79f9f2f0"
  },
  {
   "cell_type": "code",
   "outputs": [
    {
     "data": {
      "text/plain": "(30860, 15644)"
     },
     "execution_count": 8,
     "metadata": {},
     "output_type": "execute_result"
    }
   ],
   "source": [
    "df[\"nft.metadata_url\"].nunique(), df[\"nft.identifier\"].nunique() # Only urls are truly unique 30860 is the correct number"
   ],
   "metadata": {
    "collapsed": false,
    "ExecuteTime": {
     "end_time": "2024-03-14T01:07:02.561032Z",
     "start_time": "2024-03-14T01:07:02.437028Z"
    }
   },
   "id": "86469f432c50f3",
   "execution_count": 8
  },
  {
   "cell_type": "markdown",
   "source": [
    "### 5. Extracting traits from metadata_url for every transaction"
   ],
   "metadata": {
    "collapsed": false
   },
   "id": "c9d5e853cd28bf76"
  },
  {
   "cell_type": "code",
   "outputs": [],
   "source": [
    "# Get DataFrame with added nft.traits column\n",
    "df = get_nft_traits(df)"
   ],
   "metadata": {
    "collapsed": false
   },
   "id": "fbb775424640ef2a"
  },
  {
   "cell_type": "code",
   "outputs": [],
   "source": [
    "df.head()"
   ],
   "metadata": {
    "collapsed": false,
    "ExecuteTime": {
     "end_time": "2024-03-14T01:08:55.898631Z",
     "start_time": "2024-03-14T01:08:55.898567Z"
    }
   },
   "id": "83ef4bb3af6cb8f8",
   "execution_count": null
  },
  {
   "cell_type": "markdown",
   "source": [
    "### 6. Getting traits statistics for a collection"
   ],
   "metadata": {
    "collapsed": false
   },
   "id": "6906ce437f1a2724"
  },
  {
   "cell_type": "code",
   "outputs": [],
   "source": [
    "for collection in collection_list:\n",
    "    get_traits_collection(collection)"
   ],
   "metadata": {
    "collapsed": false
   },
   "id": "607057361d5e144e",
   "execution_count": 3
  },
  {
   "cell_type": "code",
   "outputs": [],
   "source": [
    "with open('Collection_traits/bored-ape-kennel-club_traits.json') as z:\n",
    "    traits_bakc = json.load(z)"
   ],
   "metadata": {
    "collapsed": false
   },
   "id": "bcebc01e43e9387a",
   "execution_count": 4
  },
  {
   "cell_type": "code",
   "outputs": [
    {
     "data": {
      "text/plain": "dict_keys(['categories', 'counts'])"
     },
     "execution_count": 21,
     "metadata": {},
     "output_type": "execute_result"
    }
   ],
   "source": [
    "traits_bakc.keys()"
   ],
   "metadata": {
    "collapsed": false
   },
   "id": "64822fd898302cf7",
   "execution_count": 21
  },
  {
   "cell_type": "code",
   "outputs": [
    {
     "data": {
      "text/plain": "{'Background': {'Outhouse': 2413,\n  'SS Monke Biz': 2337,\n  'Swamp': 2426,\n  'Club Exterior': 1640,\n  'Bar': 786},\n 'Fur': {'Radioactive': 188,\n  'Brown': 1522,\n  'Tan': 2325,\n  'Robot': 383,\n  'Black': 1568,\n  'Zombie': 390,\n  'Noise': 181,\n  'Pink': 1008,\n  'Death Bot': 261,\n  'Galaxy': 221,\n  'Mega Death Bot': 171,\n  'Cheetah': 611,\n  'Cyberpunk': 271,\n  'Trippy': 110,\n  'DMT': 294,\n  'Solid Gold': 98},\n 'Neck': {'Japan Bandana': 110,\n  'Christmas Wreath': 181,\n  'Plaid Bowtie': 197,\n  'BAYC Collar': 907,\n  'Glow Necklace': 168,\n  'Red BAYC Bandana': 55,\n  'Whiskey Barrel': 84,\n  'Camo Bandana': 117,\n  'Pink Collar': 281,\n  'Spiked Collar': 134,\n  'Pinstripe Bandana': 180,\n  'Red Collar With Bone': 260,\n  'Life Preserver': 143,\n  'Ribbon': 165,\n  'Black BAYC Bandana': 129,\n  'Hawaiian Bandana': 221,\n  'Beer Can Necklace': 199,\n  'Lei': 85,\n  'Golden Bone Necklace': 197,\n  'Flamingo Bandana': 114,\n  'Gold Links': 178,\n  'USA Bandana': 97,\n  'Japanese Bandana': 92},\n 'Mouth': {'Hot Dog': 471,\n  'Bone': 298,\n  'Smiling': 1774,\n  'Diamond Teeth': 120,\n  'Cigar': 188,\n  'Beer Can': 300,\n  'Slippers': 260,\n  'Frog Legs': 262,\n  'Tennis Ball': 265,\n  'Golden Hot Dog': 83,\n  'Drooling': 199,\n  'Growl': 210,\n  'Ape Hand': 284,\n  'Cyberjaw': 249,\n  'Kazoo': 164,\n  'Goofball': 370,\n  'Foaming': 180,\n  'Gold Teeth': 137,\n  'Red Raybeam': 108,\n  'Rainbow Teeth': 134,\n  'Rose': 245,\n  'Fish': 307,\n  'Loogie': 204,\n  'Bored': 350,\n  'Cigarette': 233,\n  'Cute Smile': 303,\n  'Confused': 205,\n  'Happy': 221,\n  'Bubblegum': 120,\n  'Bloody': 315,\n  'Heavy Drooling': 190,\n  'Blep': 178,\n  'Stache': 172,\n  'Bloody Fangs': 181,\n  'Panting': 201,\n  'Fire Breath': 121},\n 'Eyes': {'Happy': 1296,\n  'Hypnotized': 180,\n  'Hero Mask': 132,\n  'Cyberpunk Visor': 110,\n  'X Eyes': 193,\n  'Pilot Goggles': 189,\n  'Closed': 1694,\n  'Mystic Eye': 154,\n  'Bloodshot': 339,\n  'Confused': 310,\n  'Zombie': 236,\n  'Heart Eyes': 304,\n  'Shutter Shades': 192,\n  'Whatever': 355,\n  'Suspicious': 351,\n  'Sunglasses': 302,\n  'Cyborg': 68,\n  'Radioactive': 170,\n  'Anime': 395,\n  'Sad': 389,\n  'Goofy': 365,\n  'Angry': 323,\n  'Wide': 337,\n  'Holographic Visor': 114,\n  'Laser': 72,\n  'Robot': 238,\n  'Cyberware': 68,\n  'Glowing Red': 147,\n  '3D Glasses': 306,\n  'Blue Beams': 64,\n  'Snorkel Gear': 93,\n  'Cyclops': 116},\n 'Head': {'Pimp Hat': 69,\n  'Rat': 131,\n  'Beer Helmet': 160,\n  'Purple Headband': 196,\n  'White Headband': 219,\n  'Bow': 266,\n  'Missile Launcher': 237,\n  'Halo': 136,\n  'Banana Peel': 282,\n  'BAYC Flipped Brim Hat': 183,\n  'Swamp Turtle': 61,\n  'Sushi Chef Headband': 131,\n  'BAYC Logo Hat Red': 80,\n  'Fez': 271,\n  'Earbuds': 177,\n  'Hermit Crab': 132,\n  'Bird': 219,\n  'Bowler': 205,\n  'BAYC Logo Hat Black': 128,\n  'Spinner Hat': 115,\n  'Santa Hat': 130,\n  'Cowboy Hat': 269,\n  'Rain Hat': 145,\n  'Beanie': 384,\n  'Tie': 202,\n  \"Trippy Captain's Hat\": 51,\n  \"Pirate Captain's Hat\": 143,\n  \"Sea Captain's Hat\": 298,\n  \"Fisherman's Hat\": 198,\n  'Shrunken Head': 86,\n  \"King's Crown\": 62,\n  'Party Hat': 33},\n 'Feet': {'Rollerblades': 180,\n  'Rain Boots': 350,\n  'Cast': 450,\n  'Flask': 302,\n  'Cyberpunk Boots': 130,\n  'Old Laces': 243,\n  'Fresh Laces': 236,\n  'High Tops': 280,\n  'Gold Kicks': 102,\n  'Kicks': 236,\n  'Flippers': 275,\n  'Pink Combat Boots': 205,\n  '80s Kicks': 93,\n  'Combat Boots': 326,\n  'Leg Knife': 236,\n  'Boots': 368,\n  'Space Boots': 139},\n 'Back': {'Basketball Hoop': 235,\n  'Service Vest': 430,\n  'Camo Pack': 280,\n  'Beer Saddle': 333,\n  'Rocket Launcher': 154,\n  'Fishing Lures': 174,\n  'Jetpack': 200,\n  'Beer Kegs': 399,\n  'Doggie Pack': 148,\n  'Demon Wings': 78,\n  'Cyberpunk Pack': 170,\n  'Blue Pack': 395,\n  'Ninja Kunai': 185,\n  'Mega Rocket Launcher': 118,\n  'Toilet Paper Dispenser': 111,\n  'Space Pack': 57}}"
     },
     "execution_count": 22,
     "metadata": {},
     "output_type": "execute_result"
    }
   ],
   "source": [
    "traits_bakc[\"counts\"]"
   ],
   "metadata": {
    "collapsed": false
   },
   "id": "a7b771566c60dc50",
   "execution_count": 22
  },
  {
   "cell_type": "code",
   "outputs": [],
   "source": [
    "df_traits = pd.DataFrame(traits_bakc[\"counts\"])"
   ],
   "metadata": {
    "collapsed": false
   },
   "id": "244a5fa00118ec8a",
   "execution_count": 25
  },
  {
   "cell_type": "code",
   "outputs": [
    {
     "data": {
      "text/plain": "                        Background  Fur  Neck  Mouth  Eyes  Head  Feet   Back\nOuthouse                    2413.0  NaN   NaN    NaN   NaN   NaN   NaN    NaN\nSS Monke Biz                2337.0  NaN   NaN    NaN   NaN   NaN   NaN    NaN\nSwamp                       2426.0  NaN   NaN    NaN   NaN   NaN   NaN    NaN\nClub Exterior               1640.0  NaN   NaN    NaN   NaN   NaN   NaN    NaN\nBar                          786.0  NaN   NaN    NaN   NaN   NaN   NaN    NaN\n...                            ...  ...   ...    ...   ...   ...   ...    ...\nBlue Pack                      NaN  NaN   NaN    NaN   NaN   NaN   NaN  395.0\nNinja Kunai                    NaN  NaN   NaN    NaN   NaN   NaN   NaN  185.0\nMega Rocket Launcher           NaN  NaN   NaN    NaN   NaN   NaN   NaN  118.0\nToilet Paper Dispenser         NaN  NaN   NaN    NaN   NaN   NaN   NaN  111.0\nSpace Pack                     NaN  NaN   NaN    NaN   NaN   NaN   NaN   57.0\n\n[172 rows x 8 columns]",
      "text/html": "<div>\n<style scoped>\n    .dataframe tbody tr th:only-of-type {\n        vertical-align: middle;\n    }\n\n    .dataframe tbody tr th {\n        vertical-align: top;\n    }\n\n    .dataframe thead th {\n        text-align: right;\n    }\n</style>\n<table border=\"1\" class=\"dataframe\">\n  <thead>\n    <tr style=\"text-align: right;\">\n      <th></th>\n      <th>Background</th>\n      <th>Fur</th>\n      <th>Neck</th>\n      <th>Mouth</th>\n      <th>Eyes</th>\n      <th>Head</th>\n      <th>Feet</th>\n      <th>Back</th>\n    </tr>\n  </thead>\n  <tbody>\n    <tr>\n      <th>Outhouse</th>\n      <td>2413.0</td>\n      <td>NaN</td>\n      <td>NaN</td>\n      <td>NaN</td>\n      <td>NaN</td>\n      <td>NaN</td>\n      <td>NaN</td>\n      <td>NaN</td>\n    </tr>\n    <tr>\n      <th>SS Monke Biz</th>\n      <td>2337.0</td>\n      <td>NaN</td>\n      <td>NaN</td>\n      <td>NaN</td>\n      <td>NaN</td>\n      <td>NaN</td>\n      <td>NaN</td>\n      <td>NaN</td>\n    </tr>\n    <tr>\n      <th>Swamp</th>\n      <td>2426.0</td>\n      <td>NaN</td>\n      <td>NaN</td>\n      <td>NaN</td>\n      <td>NaN</td>\n      <td>NaN</td>\n      <td>NaN</td>\n      <td>NaN</td>\n    </tr>\n    <tr>\n      <th>Club Exterior</th>\n      <td>1640.0</td>\n      <td>NaN</td>\n      <td>NaN</td>\n      <td>NaN</td>\n      <td>NaN</td>\n      <td>NaN</td>\n      <td>NaN</td>\n      <td>NaN</td>\n    </tr>\n    <tr>\n      <th>Bar</th>\n      <td>786.0</td>\n      <td>NaN</td>\n      <td>NaN</td>\n      <td>NaN</td>\n      <td>NaN</td>\n      <td>NaN</td>\n      <td>NaN</td>\n      <td>NaN</td>\n    </tr>\n    <tr>\n      <th>...</th>\n      <td>...</td>\n      <td>...</td>\n      <td>...</td>\n      <td>...</td>\n      <td>...</td>\n      <td>...</td>\n      <td>...</td>\n      <td>...</td>\n    </tr>\n    <tr>\n      <th>Blue Pack</th>\n      <td>NaN</td>\n      <td>NaN</td>\n      <td>NaN</td>\n      <td>NaN</td>\n      <td>NaN</td>\n      <td>NaN</td>\n      <td>NaN</td>\n      <td>395.0</td>\n    </tr>\n    <tr>\n      <th>Ninja Kunai</th>\n      <td>NaN</td>\n      <td>NaN</td>\n      <td>NaN</td>\n      <td>NaN</td>\n      <td>NaN</td>\n      <td>NaN</td>\n      <td>NaN</td>\n      <td>185.0</td>\n    </tr>\n    <tr>\n      <th>Mega Rocket Launcher</th>\n      <td>NaN</td>\n      <td>NaN</td>\n      <td>NaN</td>\n      <td>NaN</td>\n      <td>NaN</td>\n      <td>NaN</td>\n      <td>NaN</td>\n      <td>118.0</td>\n    </tr>\n    <tr>\n      <th>Toilet Paper Dispenser</th>\n      <td>NaN</td>\n      <td>NaN</td>\n      <td>NaN</td>\n      <td>NaN</td>\n      <td>NaN</td>\n      <td>NaN</td>\n      <td>NaN</td>\n      <td>111.0</td>\n    </tr>\n    <tr>\n      <th>Space Pack</th>\n      <td>NaN</td>\n      <td>NaN</td>\n      <td>NaN</td>\n      <td>NaN</td>\n      <td>NaN</td>\n      <td>NaN</td>\n      <td>NaN</td>\n      <td>57.0</td>\n    </tr>\n  </tbody>\n</table>\n<p>172 rows × 8 columns</p>\n</div>"
     },
     "execution_count": 26,
     "metadata": {},
     "output_type": "execute_result"
    }
   ],
   "source": [
    "df_traits.head()"
   ],
   "metadata": {
    "collapsed": false
   },
   "id": "5ca087f999dcb268",
   "execution_count": 26
  }
 ],
 "metadata": {
  "kernelspec": {
   "display_name": "Python 3",
   "language": "python",
   "name": "python3"
  },
  "language_info": {
   "codemirror_mode": {
    "name": "ipython",
    "version": 2
   },
   "file_extension": ".py",
   "mimetype": "text/x-python",
   "name": "python",
   "nbconvert_exporter": "python",
   "pygments_lexer": "ipython2",
   "version": "2.7.6"
  }
 },
 "nbformat": 4,
 "nbformat_minor": 5
}
