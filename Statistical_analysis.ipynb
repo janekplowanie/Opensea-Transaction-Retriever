{
 "cells": [
  {
   "cell_type": "code",
   "execution_count": 1,
   "id": "initial_id",
   "metadata": {
    "collapsed": true,
    "ExecuteTime": {
     "end_time": "2024-04-04T14:56:59.523434Z",
     "start_time": "2024-04-04T14:56:59.016526Z"
    }
   },
   "outputs": [],
   "source": [
    "import json\n",
    "import pandas as pd\n",
    "import numpy as np\n",
    "import matplotlib.pyplot as plt"
   ]
  },
  {
   "cell_type": "code",
   "outputs": [],
   "source": [
    "with open('Transactions_with_traits/df_bakc_traits.json') as a, \\\n",
    "        open('Transactions_with_traits/df_bayc_traits.json') as b: \\\n",
    "        #open('Transactions_with_traits/df_mayc_traits.json') as c:\n",
    "    df_bakc_t = pd.read_json(a)\n",
    "    df_bayc_t = pd.read_json(b)"
   ],
   "metadata": {
    "collapsed": false,
    "ExecuteTime": {
     "end_time": "2024-04-04T14:57:08.573374Z",
     "start_time": "2024-04-04T14:57:06.886138Z"
    }
   },
   "id": "99497f318f441f5c",
   "execution_count": 2
  },
  {
   "cell_type": "code",
   "outputs": [
    {
     "name": "stdout",
     "output_type": "stream",
     "text": [
      "5.875639964778469e+18 0.0 4.2e+21\n",
      "4.078384526157912e+19 0.0 8e+22\n"
     ]
    }
   ],
   "source": [
    "print(df_bakc_t[\"payment.quantity\"].mean(), df_bakc_t[\"payment.quantity\"].min(), df_bakc_t[\"payment.quantity\"].max())\n",
    "print(df_bayc_t['payment.quantity'].mean(), df_bayc_t[\"payment.quantity\"].min() ,df_bayc_t['payment.quantity'].max())"
   ],
   "metadata": {
    "collapsed": false,
    "ExecuteTime": {
     "end_time": "2024-04-04T16:37:18.235913Z",
     "start_time": "2024-04-04T16:37:18.228836Z"
    }
   },
   "id": "587af95091ae9b1e",
   "execution_count": 43
  },
  {
   "cell_type": "code",
   "outputs": [
    {
     "data": {
      "text/plain": "  event_type                                         order_hash     chain  \\\n0       sale                                                     ethereum   \n1       sale                                                     ethereum   \n2       sale  0x3e285bb5fcba79790b67cf6c79ee4ad757aa2d316e04...  ethereum   \n3       sale                                                     ethereum   \n4       sale                                                     ethereum   \n\n                             protocol_address  closing_date  quantity  \\\n0                                                1701388595         1   \n1                                                1701387863         1   \n2  0x00000000000000adc04c56bf30ac9d3c0aaf14dc    1701380603         1   \n3                                                1701377891         1   \n4                                                1701375743         1   \n\n                                       seller  \\\n0  0x535e7039c7a7bb3afec86a6257c21b29700ae059   \n1  0xc88e8bb5c13eed87d47f2c0de501a9a40852f366   \n2  0xbeec10ca4e095b55e6d5141a5787c4d491ab4841   \n3  0x21b97b91623b5b55fc01693450f2e1b517d730c5   \n4  0x5970d8f947a727570d180678b6195a646ed7411b   \n\n                                        buyer  \\\n0  0x29469395eaf6f95920e59f858042f0e28d98a20b   \n1  0x29469395eaf6f95920e59f858042f0e28d98a20b   \n2  0xdcae2e2f0b01e24745f0dae90c5c59eecc4fd40a   \n3  0x2c2ed4b3876c442fee80bee76ce0ee2ca2a512af   \n4  0xd15b4867e19373eed79ffe9b8a75321a34bcad4f   \n\n                                         transaction  event_timestamp  ...  \\\n0  0x592896b5a2474a9239ce73ad6a091dbe12e9c764b05a...       1701388595  ...   \n1  0x4fccb31faa23a6cb63db0ebc1eac1649c94a9f2f8a6e...       1701387863  ...   \n2  0x5ba95767d3c2e2a278a5b520ed19d36e2f4366e38f0e...       1701380603  ...   \n3  0xd1113c94e97847dda3426b9f76013f778919c4ba2c51...       1701377891  ...   \n4  0x88c5bc1b6c9a97bdd27d5a215b8bd028f035cb308beb...       1701375743  ...   \n\n   nft.is_disabled nft.is_nsfw payment.quantity  \\\n0              0.0         0.0     1.630000e+18   \n1              0.0         0.0     1.630000e+18   \n2              0.0         0.0     1.787800e+18   \n3              0.0         0.0     1.630000e+18   \n4              0.0         0.0     1.630000e+18   \n\n                        payment.token_address  payment.decimals  \\\n0  0xc02aaa39b223fe8d0a0e5c4f27ead9083c756cc2              18.0   \n1  0xc02aaa39b223fe8d0a0e5c4f27ead9083c756cc2              18.0   \n2  0x0000000000000000000000000000000000000000              18.0   \n3  0xc02aaa39b223fe8d0a0e5c4f27ead9083c756cc2              18.0   \n4  0x0000000000000000000000000000000000000000              18.0   \n\n   payment.symbol payment nft  \\\n0            WETH     NaN NaN   \n1            WETH     NaN NaN   \n2             ETH     NaN NaN   \n3            WETH     NaN NaN   \n4             ETH     NaN NaN   \n\n                                          nft.traits rarity_score  \n0  [{'trait_type': 'Background', 'value': 'Swamp'...   102.569353  \n1  [{'trait_type': 'Background', 'value': 'SS Mon...    63.915162  \n2  [{'trait_type': 'Background', 'value': 'SS Mon...   189.029610  \n3  [{'trait_type': 'Background', 'value': 'Club E...   225.351722  \n4  [{'trait_type': 'Background', 'value': 'SS Mon...   223.270514  \n\n[5 rows x 30 columns]",
      "text/html": "<div>\n<style scoped>\n    .dataframe tbody tr th:only-of-type {\n        vertical-align: middle;\n    }\n\n    .dataframe tbody tr th {\n        vertical-align: top;\n    }\n\n    .dataframe thead th {\n        text-align: right;\n    }\n</style>\n<table border=\"1\" class=\"dataframe\">\n  <thead>\n    <tr style=\"text-align: right;\">\n      <th></th>\n      <th>event_type</th>\n      <th>order_hash</th>\n      <th>chain</th>\n      <th>protocol_address</th>\n      <th>closing_date</th>\n      <th>quantity</th>\n      <th>seller</th>\n      <th>buyer</th>\n      <th>transaction</th>\n      <th>event_timestamp</th>\n      <th>...</th>\n      <th>nft.is_disabled</th>\n      <th>nft.is_nsfw</th>\n      <th>payment.quantity</th>\n      <th>payment.token_address</th>\n      <th>payment.decimals</th>\n      <th>payment.symbol</th>\n      <th>payment</th>\n      <th>nft</th>\n      <th>nft.traits</th>\n      <th>rarity_score</th>\n    </tr>\n  </thead>\n  <tbody>\n    <tr>\n      <th>0</th>\n      <td>sale</td>\n      <td></td>\n      <td>ethereum</td>\n      <td></td>\n      <td>1701388595</td>\n      <td>1</td>\n      <td>0x535e7039c7a7bb3afec86a6257c21b29700ae059</td>\n      <td>0x29469395eaf6f95920e59f858042f0e28d98a20b</td>\n      <td>0x592896b5a2474a9239ce73ad6a091dbe12e9c764b05a...</td>\n      <td>1701388595</td>\n      <td>...</td>\n      <td>0.0</td>\n      <td>0.0</td>\n      <td>1.630000e+18</td>\n      <td>0xc02aaa39b223fe8d0a0e5c4f27ead9083c756cc2</td>\n      <td>18.0</td>\n      <td>WETH</td>\n      <td>NaN</td>\n      <td>NaN</td>\n      <td>[{'trait_type': 'Background', 'value': 'Swamp'...</td>\n      <td>102.569353</td>\n    </tr>\n    <tr>\n      <th>1</th>\n      <td>sale</td>\n      <td></td>\n      <td>ethereum</td>\n      <td></td>\n      <td>1701387863</td>\n      <td>1</td>\n      <td>0xc88e8bb5c13eed87d47f2c0de501a9a40852f366</td>\n      <td>0x29469395eaf6f95920e59f858042f0e28d98a20b</td>\n      <td>0x4fccb31faa23a6cb63db0ebc1eac1649c94a9f2f8a6e...</td>\n      <td>1701387863</td>\n      <td>...</td>\n      <td>0.0</td>\n      <td>0.0</td>\n      <td>1.630000e+18</td>\n      <td>0xc02aaa39b223fe8d0a0e5c4f27ead9083c756cc2</td>\n      <td>18.0</td>\n      <td>WETH</td>\n      <td>NaN</td>\n      <td>NaN</td>\n      <td>[{'trait_type': 'Background', 'value': 'SS Mon...</td>\n      <td>63.915162</td>\n    </tr>\n    <tr>\n      <th>2</th>\n      <td>sale</td>\n      <td>0x3e285bb5fcba79790b67cf6c79ee4ad757aa2d316e04...</td>\n      <td>ethereum</td>\n      <td>0x00000000000000adc04c56bf30ac9d3c0aaf14dc</td>\n      <td>1701380603</td>\n      <td>1</td>\n      <td>0xbeec10ca4e095b55e6d5141a5787c4d491ab4841</td>\n      <td>0xdcae2e2f0b01e24745f0dae90c5c59eecc4fd40a</td>\n      <td>0x5ba95767d3c2e2a278a5b520ed19d36e2f4366e38f0e...</td>\n      <td>1701380603</td>\n      <td>...</td>\n      <td>0.0</td>\n      <td>0.0</td>\n      <td>1.787800e+18</td>\n      <td>0x0000000000000000000000000000000000000000</td>\n      <td>18.0</td>\n      <td>ETH</td>\n      <td>NaN</td>\n      <td>NaN</td>\n      <td>[{'trait_type': 'Background', 'value': 'SS Mon...</td>\n      <td>189.029610</td>\n    </tr>\n    <tr>\n      <th>3</th>\n      <td>sale</td>\n      <td></td>\n      <td>ethereum</td>\n      <td></td>\n      <td>1701377891</td>\n      <td>1</td>\n      <td>0x21b97b91623b5b55fc01693450f2e1b517d730c5</td>\n      <td>0x2c2ed4b3876c442fee80bee76ce0ee2ca2a512af</td>\n      <td>0xd1113c94e97847dda3426b9f76013f778919c4ba2c51...</td>\n      <td>1701377891</td>\n      <td>...</td>\n      <td>0.0</td>\n      <td>0.0</td>\n      <td>1.630000e+18</td>\n      <td>0xc02aaa39b223fe8d0a0e5c4f27ead9083c756cc2</td>\n      <td>18.0</td>\n      <td>WETH</td>\n      <td>NaN</td>\n      <td>NaN</td>\n      <td>[{'trait_type': 'Background', 'value': 'Club E...</td>\n      <td>225.351722</td>\n    </tr>\n    <tr>\n      <th>4</th>\n      <td>sale</td>\n      <td></td>\n      <td>ethereum</td>\n      <td></td>\n      <td>1701375743</td>\n      <td>1</td>\n      <td>0x5970d8f947a727570d180678b6195a646ed7411b</td>\n      <td>0xd15b4867e19373eed79ffe9b8a75321a34bcad4f</td>\n      <td>0x88c5bc1b6c9a97bdd27d5a215b8bd028f035cb308beb...</td>\n      <td>1701375743</td>\n      <td>...</td>\n      <td>0.0</td>\n      <td>0.0</td>\n      <td>1.630000e+18</td>\n      <td>0x0000000000000000000000000000000000000000</td>\n      <td>18.0</td>\n      <td>ETH</td>\n      <td>NaN</td>\n      <td>NaN</td>\n      <td>[{'trait_type': 'Background', 'value': 'SS Mon...</td>\n      <td>223.270514</td>\n    </tr>\n  </tbody>\n</table>\n<p>5 rows × 30 columns</p>\n</div>"
     },
     "execution_count": 11,
     "metadata": {},
     "output_type": "execute_result"
    }
   ],
   "source": [
    "df_bakc_t.head()"
   ],
   "metadata": {
    "collapsed": false,
    "ExecuteTime": {
     "end_time": "2024-04-04T15:20:03.371356Z",
     "start_time": "2024-04-04T15:20:03.352738Z"
    }
   },
   "id": "c62e85895216b641",
   "execution_count": 11
  },
  {
   "cell_type": "code",
   "outputs": [
    {
     "data": {
      "text/plain": "   nft.identifier  rarity_score  payment.quantity\n0          8706.0    102.569353      1.630000e+18\n1          3575.0     63.915162      1.630000e+18\n2          9056.0    189.029610      1.787800e+18\n3          2031.0    225.351722      1.630000e+18\n4          6623.0    223.270514      1.630000e+18",
      "text/html": "<div>\n<style scoped>\n    .dataframe tbody tr th:only-of-type {\n        vertical-align: middle;\n    }\n\n    .dataframe tbody tr th {\n        vertical-align: top;\n    }\n\n    .dataframe thead th {\n        text-align: right;\n    }\n</style>\n<table border=\"1\" class=\"dataframe\">\n  <thead>\n    <tr style=\"text-align: right;\">\n      <th></th>\n      <th>nft.identifier</th>\n      <th>rarity_score</th>\n      <th>payment.quantity</th>\n    </tr>\n  </thead>\n  <tbody>\n    <tr>\n      <th>0</th>\n      <td>8706.0</td>\n      <td>102.569353</td>\n      <td>1.630000e+18</td>\n    </tr>\n    <tr>\n      <th>1</th>\n      <td>3575.0</td>\n      <td>63.915162</td>\n      <td>1.630000e+18</td>\n    </tr>\n    <tr>\n      <th>2</th>\n      <td>9056.0</td>\n      <td>189.029610</td>\n      <td>1.787800e+18</td>\n    </tr>\n    <tr>\n      <th>3</th>\n      <td>2031.0</td>\n      <td>225.351722</td>\n      <td>1.630000e+18</td>\n    </tr>\n    <tr>\n      <th>4</th>\n      <td>6623.0</td>\n      <td>223.270514</td>\n      <td>1.630000e+18</td>\n    </tr>\n  </tbody>\n</table>\n</div>"
     },
     "execution_count": 25,
     "metadata": {},
     "output_type": "execute_result"
    }
   ],
   "source": [
    "df_bakc_t.loc[:,[\"nft.identifier\", \"rarity_score\", \"payment.quantity\"]].head()"
   ],
   "metadata": {
    "collapsed": false,
    "ExecuteTime": {
     "end_time": "2024-04-04T15:54:45.578966Z",
     "start_time": "2024-04-04T15:54:45.570395Z"
    }
   },
   "id": "cc804aa42c19a4fc",
   "execution_count": 25
  },
  {
   "cell_type": "code",
   "outputs": [],
   "source": [
    "grouped = df_bakc_t.groupby('nft.metadata_url')  # print(grouped.ngroups) number of unique groups"
   ],
   "metadata": {
    "collapsed": false,
    "ExecuteTime": {
     "end_time": "2024-04-04T15:35:36.422154Z",
     "start_time": "2024-04-04T15:35:36.418153Z"
    }
   },
   "id": "1267d2cd2403a629",
   "execution_count": 18
  },
  {
   "cell_type": "code",
   "outputs": [],
   "source": [
    "grouped_mean = df_bakc_t.loc[:,['nft.metadata_url', \"rarity_score\", \"payment.quantity\"]].groupby(['nft.metadata_url']).mean()"
   ],
   "metadata": {
    "collapsed": false,
    "ExecuteTime": {
     "end_time": "2024-04-04T16:26:29.908439Z",
     "start_time": "2024-04-04T16:26:29.892656Z"
    }
   },
   "id": "862563c893b76cb7",
   "execution_count": 41
  },
  {
   "cell_type": "code",
   "outputs": [
    {
     "name": "stdout",
     "output_type": "stream",
     "text": [
      "0.02546769413651004\n"
     ]
    }
   ],
   "source": [
    "correlation = grouped_mean['rarity_score'].corr(grouped_mean['payment.quantity'])\n",
    "print(correlation)"
   ],
   "metadata": {
    "collapsed": false,
    "ExecuteTime": {
     "end_time": "2024-04-04T16:26:43.575743Z",
     "start_time": "2024-04-04T16:26:43.569458Z"
    }
   },
   "id": "e1bb64c3e337701b",
   "execution_count": 42
  },
  {
   "cell_type": "code",
   "outputs": [
    {
     "data": {
      "text/plain": "nft.metadata_url\nhttps://ipfs.io/ipfs/QmTDcCdt3yb6mZitzWBmQr65AW6Wska295Dg9nbEYpSUDR/10      227.052217\nhttps://ipfs.io/ipfs/QmTDcCdt3yb6mZitzWBmQr65AW6Wska295Dg9nbEYpSUDR/100     364.252353\nhttps://ipfs.io/ipfs/QmTDcCdt3yb6mZitzWBmQr65AW6Wska295Dg9nbEYpSUDR/1002    278.177910\nhttps://ipfs.io/ipfs/QmTDcCdt3yb6mZitzWBmQr65AW6Wska295Dg9nbEYpSUDR/1003    196.457768\nhttps://ipfs.io/ipfs/QmTDcCdt3yb6mZitzWBmQr65AW6Wska295Dg9nbEYpSUDR/1004    136.351727\n                                                                               ...    \nhttps://ipfs.io/ipfs/QmTDcCdt3yb6mZitzWBmQr65AW6Wska295Dg9nbEYpSUDR/9994    222.851511\nhttps://ipfs.io/ipfs/QmTDcCdt3yb6mZitzWBmQr65AW6Wska295Dg9nbEYpSUDR/9995    165.900368\nhttps://ipfs.io/ipfs/QmTDcCdt3yb6mZitzWBmQr65AW6Wska295Dg9nbEYpSUDR/9996    268.458862\nhttps://ipfs.io/ipfs/QmTDcCdt3yb6mZitzWBmQr65AW6Wska295Dg9nbEYpSUDR/9997    217.791512\nhttps://ipfs.io/ipfs/QmTDcCdt3yb6mZitzWBmQr65AW6Wska295Dg9nbEYpSUDR/9998    206.293568\nName: rarity_score, Length: 7113, dtype: float64"
     },
     "execution_count": 34,
     "metadata": {},
     "output_type": "execute_result"
    }
   ],
   "source": [
    "df_bakc_t.groupby(['nft.metadata_url'])['rarity_score'].mean()"
   ],
   "metadata": {
    "collapsed": false,
    "ExecuteTime": {
     "end_time": "2024-04-04T16:16:45.248754Z",
     "start_time": "2024-04-04T16:16:45.231894Z"
    }
   },
   "id": "c12da13148301440",
   "execution_count": 34
  },
  {
   "cell_type": "code",
   "outputs": [],
   "source": [
    "first_transactions = df_bakc_t.groupby('nft.metadata_url').first()\n",
    "last_transactions = df_bakc_t.groupby('nft.metadata_url').last()\n",
    "\n",
    "# Calculate the return for each NFT\n",
    "first_prices = first_transactions['payment.quantity']\n",
    "last_prices = last_transactions['payment.quantity']\n",
    "returns = ((last_prices - first_prices) / first_prices) * 100\n",
    "returns_df = pd.DataFrame({'nft.metadata_url': returns.index, 'percentage_return': returns.values})"
   ],
   "metadata": {
    "collapsed": false,
    "ExecuteTime": {
     "end_time": "2024-04-04T16:39:03.399279Z",
     "start_time": "2024-04-04T16:39:03.246598Z"
    }
   },
   "id": "e92e500a90d24a39",
   "execution_count": 44
  },
  {
   "cell_type": "code",
   "outputs": [
    {
     "data": {
      "text/plain": "nft.metadata_url\nhttps://ipfs.io/ipfs/QmTDcCdt3yb6mZitzWBmQr65AW6Wska295Dg9nbEYpSUDR/10      3.500000e+18\nhttps://ipfs.io/ipfs/QmTDcCdt3yb6mZitzWBmQr65AW6Wska295Dg9nbEYpSUDR/100     7.100000e+18\nhttps://ipfs.io/ipfs/QmTDcCdt3yb6mZitzWBmQr65AW6Wska295Dg9nbEYpSUDR/1002    8.000000e+18\nhttps://ipfs.io/ipfs/QmTDcCdt3yb6mZitzWBmQr65AW6Wska295Dg9nbEYpSUDR/1003    7.750000e+18\nhttps://ipfs.io/ipfs/QmTDcCdt3yb6mZitzWBmQr65AW6Wska295Dg9nbEYpSUDR/1004    5.750000e+18\n                                                                                ...     \nhttps://ipfs.io/ipfs/QmTDcCdt3yb6mZitzWBmQr65AW6Wska295Dg9nbEYpSUDR/9994    1.233300e+19\nhttps://ipfs.io/ipfs/QmTDcCdt3yb6mZitzWBmQr65AW6Wska295Dg9nbEYpSUDR/9995    1.640000e+18\nhttps://ipfs.io/ipfs/QmTDcCdt3yb6mZitzWBmQr65AW6Wska295Dg9nbEYpSUDR/9996    5.500000e+18\nhttps://ipfs.io/ipfs/QmTDcCdt3yb6mZitzWBmQr65AW6Wska295Dg9nbEYpSUDR/9997    3.400000e+19\nhttps://ipfs.io/ipfs/QmTDcCdt3yb6mZitzWBmQr65AW6Wska295Dg9nbEYpSUDR/9998    3.942000e+18\nName: payment.quantity, Length: 7113, dtype: float64"
     },
     "execution_count": 49,
     "metadata": {},
     "output_type": "execute_result"
    }
   ],
   "source": [
    "first_prices"
   ],
   "metadata": {
    "collapsed": false,
    "ExecuteTime": {
     "end_time": "2024-04-04T16:42:06.134639Z",
     "start_time": "2024-04-04T16:42:06.129603Z"
    }
   },
   "id": "ebc2fa8a7aabac00",
   "execution_count": 49
  },
  {
   "cell_type": "code",
   "outputs": [
    {
     "name": "stdout",
     "output_type": "stream",
     "text": [
      "-100.0 inf inf\n"
     ]
    }
   ],
   "source": [
    "# Display the DataFrame with the percentage_return column\n",
    "returns_df\n",
    "print(returns_df[\"percentage_return\"].min(), returns_df[\"percentage_return\"].mean(),  returns_df[\"percentage_return\"].max())"
   ],
   "metadata": {
    "collapsed": false,
    "ExecuteTime": {
     "end_time": "2024-04-04T16:40:26.453143Z",
     "start_time": "2024-04-04T16:40:26.449696Z"
    }
   },
   "id": "4ecfcb783881be88",
   "execution_count": 46
  },
  {
   "cell_type": "code",
   "outputs": [],
   "source": [
    "# Iterate over each group\n",
    "for url, group in grouped:\n",
    "    # Extract traits for the current NFT\n",
    "    # Each group corresponds to transactions associated with a unique NFT metadata URL\n",
    "    traits = extract_traits(url)\n",
    "\n",
    "    # Assign the extracted traits to the corresponding rows in the original DataFrame\n",
    "    transactions.loc[group.index, 'nft.traits'] = len(group.index) * [[traits]]"
   ],
   "metadata": {
    "collapsed": false
   },
   "id": "3c81ec2546ed739d"
  }
 ],
 "metadata": {
  "kernelspec": {
   "display_name": "Python 3",
   "language": "python",
   "name": "python3"
  },
  "language_info": {
   "codemirror_mode": {
    "name": "ipython",
    "version": 2
   },
   "file_extension": ".py",
   "mimetype": "text/x-python",
   "name": "python",
   "nbconvert_exporter": "python",
   "pygments_lexer": "ipython2",
   "version": "2.7.6"
  }
 },
 "nbformat": 4,
 "nbformat_minor": 5
}
