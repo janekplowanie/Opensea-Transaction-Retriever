{
 "cells": [
  {
   "cell_type": "code",
   "source": [
    "import json\n",
    "import pandas as pd\n",
    "from functions_and_methods import get_opsea_trans_by_collec, combine_json_files, get_traits_collection, get_nft_traits, calculate_rarity_scores, add_rarity_score"
   ],
   "metadata": {
    "collapsed": false,
    "ExecuteTime": {
     "end_time": "2024-04-21T15:21:16.169266Z",
     "start_time": "2024-04-21T15:21:15.832254Z"
    }
   },
   "id": "79193caaece06328",
   "outputs": [],
   "execution_count": 1
  },
  {
   "cell_type": "markdown",
   "source": [
    "### 0. Parameter Specification"
   ],
   "metadata": {
    "collapsed": false
   },
   "id": "f08ea1aeea90aa04"
  },
  {
   "cell_type": "code",
   "source": [
    "data = \"boredapeyachtclub, mutant-ape-yacht-club, bored-ape-kennel-club\"\n",
    "\n",
    "words = data.split(',')  # Returns a list\n",
    "collection_list = ['' + word.strip() + '' for word in words]  # I split it at , and then append to the list\n",
    "after = '2020-01-01 01:00:00'  # 1st of January 2020 01:00:00 am\n",
    "before = '2023-12-01 01:00:00'  # 1st of December 2023 01:00:00 am\n",
    "event_type = 'sale'  # Other types: all, cancel, redemption, transfer"
   ],
   "metadata": {
    "collapsed": false,
    "ExecuteTime": {
     "end_time": "2024-04-21T15:21:17.783197Z",
     "start_time": "2024-04-21T15:21:17.780008Z"
    }
   },
   "id": "3cfaa4f2c8f17821",
   "outputs": [],
   "execution_count": 2
  },
  {
   "cell_type": "markdown",
   "source": [
    "### 1. Downloading transactions"
   ],
   "metadata": {
    "collapsed": false
   },
   "id": "3c2f5a2accd209e0"
  },
  {
   "cell_type": "code",
   "outputs": [],
   "source": [
    "for collection in collection_list:\n",
    "    get_opsea_trans_by_collec(collection, before, after, event_type, collection)"
   ],
   "metadata": {
    "collapsed": false
   },
   "id": "b79665017355d413",
   "execution_count": null
  },
  {
   "cell_type": "markdown",
   "source": [
    "### 2. Combine the JSON files fo transactions into one"
   ],
   "metadata": {
    "collapsed": false
   },
   "id": "b2d58f7593c5748"
  },
  {
   "cell_type": "code",
   "outputs": [],
   "source": [
    "# Combine the JSON files into one\n",
    "combine_json_files(collection_list, 'combined_transactions')"
   ],
   "metadata": {
    "collapsed": false
   },
   "id": "453701ff873cc012",
   "execution_count": null
  },
  {
   "cell_type": "markdown",
   "source": [
    "### 3. Add to a dataframe"
   ],
   "metadata": {
    "collapsed": false
   },
   "id": "ebf5c826781eeeba"
  },
  {
   "cell_type": "code",
   "outputs": [],
   "source": [
    "with open('Transaction_files/combined_transactions.json') as z:\n",
    "    trans_3years = json.load(z)"
   ],
   "metadata": {
    "collapsed": false,
    "ExecuteTime": {
     "end_time": "2024-03-14T01:04:54.509801Z",
     "start_time": "2024-03-14T01:04:53.400434Z"
    }
   },
   "id": "c6d3d32a432d2ebc",
   "execution_count": 4
  },
  {
   "cell_type": "code",
   "outputs": [
    {
     "data": {
      "text/plain": "  event_type order_hash     chain protocol_address  closing_date  quantity  \\\n0       sale             ethereum                     1701378215         1   \n1       sale             ethereum                     1701378179         1   \n2       sale             ethereum                     1701378179         1   \n3       sale             ethereum                     1701378179         1   \n4       sale             ethereum                     1701378179         1   \n\n                                       seller  \\\n0  0x29469395eaf6f95920e59f858042f0e28d98a20b   \n1  0x29469395eaf6f95920e59f858042f0e28d98a20b   \n2  0x29469395eaf6f95920e59f858042f0e28d98a20b   \n3  0x29469395eaf6f95920e59f858042f0e28d98a20b   \n4  0x29469395eaf6f95920e59f858042f0e28d98a20b   \n\n                                        buyer  \\\n0  0xae7fca4f38a28fe3580d42d7a56190ff4b80dc65   \n1  0x458dbf62e68463fe0b14c0f8dd69e695d23ca0cb   \n2  0x9afef7dac35f070dc3976f0597b8c872f6b19d1d   \n3  0x458dbf62e68463fe0b14c0f8dd69e695d23ca0cb   \n4  0x458dbf62e68463fe0b14c0f8dd69e695d23ca0cb   \n\n                                         transaction  event_timestamp  ...  \\\n0  0xb085fc8e1fa7518ced3c411a9184551138db03c75a53...       1701378215  ...   \n1  0x46667400bc0225903e71d4f16f1625b239c72617a326...       1701378179  ...   \n2  0x998eac1b78861ce9ba700003b21582f3d31d4d9b12e1...       1701378179  ...   \n3  0x50f53f1b2900bbdb10fa54e29817eb0a12f21739d8c3...       1701378179  ...   \n4  0x157175e7dee4ed8269415be4cf7c52fbbaa3eb113656...       1701378179  ...   \n\n                                     nft.opensea_url  \\\n0  https://opensea.io/assets/ethereum/0xbc4ca0eda...   \n1  https://opensea.io/assets/ethereum/0xbc4ca0eda...   \n2  https://opensea.io/assets/ethereum/0xbc4ca0eda...   \n3  https://opensea.io/assets/ethereum/0xbc4ca0eda...   \n4  https://opensea.io/assets/ethereum/0xbc4ca0eda...   \n\n               nft.updated_at nft.is_disabled nft.is_nsfw  \\\n0  2024-01-13T02:50:25.797011           False       False   \n1  2023-12-27T06:22:13.050808           False       False   \n2  2023-12-02T07:21:27.507469           False       False   \n3  2024-01-26T08:08:15.693777           False       False   \n4  2024-01-26T17:09:27.131954           False       False   \n\n       payment.quantity                       payment.token_address  \\\n0  28250000000000000000  0xc02aaa39b223fe8d0a0e5c4f27ead9083c756cc2   \n1  28300000000000000000  0xc02aaa39b223fe8d0a0e5c4f27ead9083c756cc2   \n2  28300000000000000000  0xc02aaa39b223fe8d0a0e5c4f27ead9083c756cc2   \n3  28300000000000000000  0xc02aaa39b223fe8d0a0e5c4f27ead9083c756cc2   \n4  28300000000000000000  0xc02aaa39b223fe8d0a0e5c4f27ead9083c756cc2   \n\n  payment.decimals payment.symbol nft payment  \n0             18.0           WETH NaN     NaN  \n1             18.0           WETH NaN     NaN  \n2             18.0           WETH NaN     NaN  \n3             18.0           WETH NaN     NaN  \n4             18.0           WETH NaN     NaN  \n\n[5 rows x 28 columns]",
      "text/html": "<div>\n<style scoped>\n    .dataframe tbody tr th:only-of-type {\n        vertical-align: middle;\n    }\n\n    .dataframe tbody tr th {\n        vertical-align: top;\n    }\n\n    .dataframe thead th {\n        text-align: right;\n    }\n</style>\n<table border=\"1\" class=\"dataframe\">\n  <thead>\n    <tr style=\"text-align: right;\">\n      <th></th>\n      <th>event_type</th>\n      <th>order_hash</th>\n      <th>chain</th>\n      <th>protocol_address</th>\n      <th>closing_date</th>\n      <th>quantity</th>\n      <th>seller</th>\n      <th>buyer</th>\n      <th>transaction</th>\n      <th>event_timestamp</th>\n      <th>...</th>\n      <th>nft.opensea_url</th>\n      <th>nft.updated_at</th>\n      <th>nft.is_disabled</th>\n      <th>nft.is_nsfw</th>\n      <th>payment.quantity</th>\n      <th>payment.token_address</th>\n      <th>payment.decimals</th>\n      <th>payment.symbol</th>\n      <th>nft</th>\n      <th>payment</th>\n    </tr>\n  </thead>\n  <tbody>\n    <tr>\n      <th>0</th>\n      <td>sale</td>\n      <td></td>\n      <td>ethereum</td>\n      <td></td>\n      <td>1701378215</td>\n      <td>1</td>\n      <td>0x29469395eaf6f95920e59f858042f0e28d98a20b</td>\n      <td>0xae7fca4f38a28fe3580d42d7a56190ff4b80dc65</td>\n      <td>0xb085fc8e1fa7518ced3c411a9184551138db03c75a53...</td>\n      <td>1701378215</td>\n      <td>...</td>\n      <td>https://opensea.io/assets/ethereum/0xbc4ca0eda...</td>\n      <td>2024-01-13T02:50:25.797011</td>\n      <td>False</td>\n      <td>False</td>\n      <td>28250000000000000000</td>\n      <td>0xc02aaa39b223fe8d0a0e5c4f27ead9083c756cc2</td>\n      <td>18.0</td>\n      <td>WETH</td>\n      <td>NaN</td>\n      <td>NaN</td>\n    </tr>\n    <tr>\n      <th>1</th>\n      <td>sale</td>\n      <td></td>\n      <td>ethereum</td>\n      <td></td>\n      <td>1701378179</td>\n      <td>1</td>\n      <td>0x29469395eaf6f95920e59f858042f0e28d98a20b</td>\n      <td>0x458dbf62e68463fe0b14c0f8dd69e695d23ca0cb</td>\n      <td>0x46667400bc0225903e71d4f16f1625b239c72617a326...</td>\n      <td>1701378179</td>\n      <td>...</td>\n      <td>https://opensea.io/assets/ethereum/0xbc4ca0eda...</td>\n      <td>2023-12-27T06:22:13.050808</td>\n      <td>False</td>\n      <td>False</td>\n      <td>28300000000000000000</td>\n      <td>0xc02aaa39b223fe8d0a0e5c4f27ead9083c756cc2</td>\n      <td>18.0</td>\n      <td>WETH</td>\n      <td>NaN</td>\n      <td>NaN</td>\n    </tr>\n    <tr>\n      <th>2</th>\n      <td>sale</td>\n      <td></td>\n      <td>ethereum</td>\n      <td></td>\n      <td>1701378179</td>\n      <td>1</td>\n      <td>0x29469395eaf6f95920e59f858042f0e28d98a20b</td>\n      <td>0x9afef7dac35f070dc3976f0597b8c872f6b19d1d</td>\n      <td>0x998eac1b78861ce9ba700003b21582f3d31d4d9b12e1...</td>\n      <td>1701378179</td>\n      <td>...</td>\n      <td>https://opensea.io/assets/ethereum/0xbc4ca0eda...</td>\n      <td>2023-12-02T07:21:27.507469</td>\n      <td>False</td>\n      <td>False</td>\n      <td>28300000000000000000</td>\n      <td>0xc02aaa39b223fe8d0a0e5c4f27ead9083c756cc2</td>\n      <td>18.0</td>\n      <td>WETH</td>\n      <td>NaN</td>\n      <td>NaN</td>\n    </tr>\n    <tr>\n      <th>3</th>\n      <td>sale</td>\n      <td></td>\n      <td>ethereum</td>\n      <td></td>\n      <td>1701378179</td>\n      <td>1</td>\n      <td>0x29469395eaf6f95920e59f858042f0e28d98a20b</td>\n      <td>0x458dbf62e68463fe0b14c0f8dd69e695d23ca0cb</td>\n      <td>0x50f53f1b2900bbdb10fa54e29817eb0a12f21739d8c3...</td>\n      <td>1701378179</td>\n      <td>...</td>\n      <td>https://opensea.io/assets/ethereum/0xbc4ca0eda...</td>\n      <td>2024-01-26T08:08:15.693777</td>\n      <td>False</td>\n      <td>False</td>\n      <td>28300000000000000000</td>\n      <td>0xc02aaa39b223fe8d0a0e5c4f27ead9083c756cc2</td>\n      <td>18.0</td>\n      <td>WETH</td>\n      <td>NaN</td>\n      <td>NaN</td>\n    </tr>\n    <tr>\n      <th>4</th>\n      <td>sale</td>\n      <td></td>\n      <td>ethereum</td>\n      <td></td>\n      <td>1701378179</td>\n      <td>1</td>\n      <td>0x29469395eaf6f95920e59f858042f0e28d98a20b</td>\n      <td>0x458dbf62e68463fe0b14c0f8dd69e695d23ca0cb</td>\n      <td>0x157175e7dee4ed8269415be4cf7c52fbbaa3eb113656...</td>\n      <td>1701378179</td>\n      <td>...</td>\n      <td>https://opensea.io/assets/ethereum/0xbc4ca0eda...</td>\n      <td>2024-01-26T17:09:27.131954</td>\n      <td>False</td>\n      <td>False</td>\n      <td>28300000000000000000</td>\n      <td>0xc02aaa39b223fe8d0a0e5c4f27ead9083c756cc2</td>\n      <td>18.0</td>\n      <td>WETH</td>\n      <td>NaN</td>\n      <td>NaN</td>\n    </tr>\n  </tbody>\n</table>\n<p>5 rows × 28 columns</p>\n</div>"
     },
     "execution_count": 6,
     "metadata": {},
     "output_type": "execute_result"
    }
   ],
   "source": [
    "df = pd.json_normalize(trans_3years)\n",
    "df.head()  # 28 columns"
   ],
   "metadata": {
    "collapsed": false,
    "ExecuteTime": {
     "end_time": "2024-03-14T01:04:58.677961Z",
     "start_time": "2024-03-14T01:04:56.734196Z"
    }
   },
   "id": "c9620508575d9f2d",
   "execution_count": 6
  },
  {
   "cell_type": "markdown",
   "source": [
    "### 4. Number of unique NFTs"
   ],
   "metadata": {
    "collapsed": false
   },
   "id": "49a47e1d79f9f2f0"
  },
  {
   "cell_type": "code",
   "outputs": [
    {
     "data": {
      "text/plain": "(30860, 15644)"
     },
     "execution_count": 8,
     "metadata": {},
     "output_type": "execute_result"
    }
   ],
   "source": [
    "df[\"nft.metadata_url\"].nunique(), df[\"nft.identifier\"].nunique() # Only urls are truly unique 30860 is the correct number"
   ],
   "metadata": {
    "collapsed": false,
    "ExecuteTime": {
     "end_time": "2024-03-14T01:07:02.561032Z",
     "start_time": "2024-03-14T01:07:02.437028Z"
    }
   },
   "id": "86469f432c50f3",
   "execution_count": 8
  },
  {
   "cell_type": "markdown",
   "source": [
    "### 5. Extracting traits from metadata_url for every transaction"
   ],
   "metadata": {
    "collapsed": false
   },
   "id": "c9d5e853cd28bf76"
  },
  {
   "cell_type": "code",
   "outputs": [],
   "source": [
    "# Get DataFrame with added nft.traits column\n",
    "df = get_nft_traits(df)"
   ],
   "metadata": {
    "collapsed": false
   },
   "id": "fbb775424640ef2a",
   "execution_count": null
  },
  {
   "cell_type": "code",
   "outputs": [],
   "source": [
    "df.to_json('Transactions_with_traits/combined_transactions_traits.json', orient='records')"
   ],
   "metadata": {
    "collapsed": false
   },
   "id": "7c46c357746164e7",
   "execution_count": null
  },
  {
   "metadata": {
    "ExecuteTime": {
     "end_time": "2024-04-21T15:35:08.356632Z",
     "start_time": "2024-04-21T15:35:07.888028Z"
    }
   },
   "cell_type": "code",
   "source": [
    "with open('Transactions_with_traits/df_bakc_traits.json') as a:\n",
    "    bakc_t = json.load(a)"
   ],
   "id": "68c28d5305c3cea4",
   "outputs": [],
   "execution_count": 9
  },
  {
   "metadata": {
    "ExecuteTime": {
     "end_time": "2024-04-21T15:35:26.009025Z",
     "start_time": "2024-04-21T15:35:26.006179Z"
    }
   },
   "cell_type": "code",
   "source": "bakc_t[0]",
   "id": "dec96623292a3d0",
   "outputs": [
    {
     "data": {
      "text/plain": [
       "{'event_type': 'sale',\n",
       " 'order_hash': '',\n",
       " 'chain': 'ethereum',\n",
       " 'protocol_address': '',\n",
       " 'closing_date': 1701388595,\n",
       " 'quantity': 1,\n",
       " 'seller': '0x535e7039c7a7bb3afec86a6257c21b29700ae059',\n",
       " 'buyer': '0x29469395eaf6f95920e59f858042f0e28d98a20b',\n",
       " 'transaction': '0x592896b5a2474a9239ce73ad6a091dbe12e9c764b05a78b7c2f75ddd95c5439a',\n",
       " 'event_timestamp': 1701388595,\n",
       " 'nft.identifier': '8706',\n",
       " 'nft.collection': 'bored-ape-kennel-club',\n",
       " 'nft.contract': '0xba30e5f9bb24caa003e9f2f0497ad287fdf95623',\n",
       " 'nft.token_standard': 'erc721',\n",
       " 'nft.name': None,\n",
       " 'nft.description': None,\n",
       " 'nft.image_url': 'https://ipfs.io/ipfs/QmawLSmZz3xjafo2RqV9mzbxM6pD4e69oqiWSu6wDaSAZL',\n",
       " 'nft.metadata_url': 'https://ipfs.io/ipfs/QmTDcCdt3yb6mZitzWBmQr65AW6Wska295Dg9nbEYpSUDR/8706',\n",
       " 'nft.opensea_url': 'https://opensea.io/assets/ethereum/0xba30e5f9bb24caa003e9f2f0497ad287fdf95623/8706',\n",
       " 'nft.updated_at': '2023-12-03T23:10:02.002232',\n",
       " 'nft.is_disabled': False,\n",
       " 'nft.is_nsfw': False,\n",
       " 'payment.quantity': '1630000000000000000',\n",
       " 'payment.token_address': '0xc02aaa39b223fe8d0a0e5c4f27ead9083c756cc2',\n",
       " 'payment.decimals': 18.0,\n",
       " 'payment.symbol': 'WETH',\n",
       " 'payment': None,\n",
       " 'nft': None,\n",
       " 'nft.traits': [{'trait_type': 'Background', 'value': 'Swamp'},\n",
       "  {'trait_type': 'Fur', 'value': 'Black'},\n",
       "  {'trait_type': 'Mouth', 'value': 'Beer Can'},\n",
       "  {'trait_type': 'Eyes', 'value': 'Happy'},\n",
       "  {'trait_type': 'Head', 'value': 'Purple Headband'}],\n",
       " 'rarity_score': 102.56935344135518}"
      ]
     },
     "execution_count": 11,
     "metadata": {},
     "output_type": "execute_result"
    }
   ],
   "execution_count": 11
  },
  {
   "metadata": {
    "ExecuteTime": {
     "end_time": "2024-04-21T15:36:09.143933Z",
     "start_time": "2024-04-21T15:36:09.087586Z"
    }
   },
   "cell_type": "code",
   "source": [
    "# extracting traits from a list of dictionaries \n",
    "for item in bakc_t:\n",
    "    if 'nft.traits' in item and item['nft.traits']:\n",
    "        item['nft.traits'] = [trait for sublist in item['nft.traits'] for trait in sublist]"
   ],
   "id": "c9a617116f434b47",
   "outputs": [],
   "execution_count": 12
  },
  {
   "metadata": {
    "ExecuteTime": {
     "end_time": "2024-04-21T15:36:10.247508Z",
     "start_time": "2024-04-21T15:36:10.243640Z"
    }
   },
   "cell_type": "code",
   "source": "bakc_t[0]",
   "id": "ba1d86d75d4e9e1f",
   "outputs": [
    {
     "data": {
      "text/plain": [
       "{'event_type': 'sale',\n",
       " 'order_hash': '',\n",
       " 'chain': 'ethereum',\n",
       " 'protocol_address': '',\n",
       " 'closing_date': 1701388595,\n",
       " 'quantity': 1,\n",
       " 'seller': '0x535e7039c7a7bb3afec86a6257c21b29700ae059',\n",
       " 'buyer': '0x29469395eaf6f95920e59f858042f0e28d98a20b',\n",
       " 'transaction': '0x592896b5a2474a9239ce73ad6a091dbe12e9c764b05a78b7c2f75ddd95c5439a',\n",
       " 'event_timestamp': 1701388595,\n",
       " 'nft.identifier': '8706',\n",
       " 'nft.collection': 'bored-ape-kennel-club',\n",
       " 'nft.contract': '0xba30e5f9bb24caa003e9f2f0497ad287fdf95623',\n",
       " 'nft.token_standard': 'erc721',\n",
       " 'nft.name': None,\n",
       " 'nft.description': None,\n",
       " 'nft.image_url': 'https://ipfs.io/ipfs/QmawLSmZz3xjafo2RqV9mzbxM6pD4e69oqiWSu6wDaSAZL',\n",
       " 'nft.metadata_url': 'https://ipfs.io/ipfs/QmTDcCdt3yb6mZitzWBmQr65AW6Wska295Dg9nbEYpSUDR/8706',\n",
       " 'nft.opensea_url': 'https://opensea.io/assets/ethereum/0xba30e5f9bb24caa003e9f2f0497ad287fdf95623/8706',\n",
       " 'nft.updated_at': '2023-12-03T23:10:02.002232',\n",
       " 'nft.is_disabled': False,\n",
       " 'nft.is_nsfw': False,\n",
       " 'payment.quantity': '1630000000000000000',\n",
       " 'payment.token_address': '0xc02aaa39b223fe8d0a0e5c4f27ead9083c756cc2',\n",
       " 'payment.decimals': 18.0,\n",
       " 'payment.symbol': 'WETH',\n",
       " 'payment': None,\n",
       " 'nft': None,\n",
       " 'nft.traits': ['trait_type',\n",
       "  'value',\n",
       "  'trait_type',\n",
       "  'value',\n",
       "  'trait_type',\n",
       "  'value',\n",
       "  'trait_type',\n",
       "  'value',\n",
       "  'trait_type',\n",
       "  'value'],\n",
       " 'rarity_score': 102.56935344135518}"
      ]
     },
     "execution_count": 13,
     "metadata": {},
     "output_type": "execute_result"
    }
   ],
   "execution_count": 13
  },
  {
   "cell_type": "markdown",
   "source": [
    "### 6. Getting traits statistics for a collection"
   ],
   "metadata": {
    "collapsed": false
   },
   "id": "6906ce437f1a2724"
  },
  {
   "cell_type": "code",
   "source": [
    "for collection in collection_list:\n",
    "    get_traits_collection(collection)"
   ],
   "metadata": {
    "collapsed": false,
    "ExecuteTime": {
     "end_time": "2024-04-21T15:21:40.608585Z",
     "start_time": "2024-04-21T15:21:39.880270Z"
    }
   },
   "id": "607057361d5e144e",
   "outputs": [],
   "execution_count": 3
  },
  {
   "cell_type": "code",
   "source": [
    "with open('Collection_traits/bored-ape-kennel-club_traits.json') as z:\n",
    "    traits_bakc = json.load(z)"
   ],
   "metadata": {
    "collapsed": false,
    "ExecuteTime": {
     "end_time": "2024-04-21T15:21:46.504786Z",
     "start_time": "2024-04-21T15:21:46.502806Z"
    }
   },
   "id": "bcebc01e43e9387a",
   "outputs": [],
   "execution_count": 4
  },
  {
   "cell_type": "code",
   "source": [
    "traits_bakc.keys()"
   ],
   "metadata": {
    "collapsed": false,
    "ExecuteTime": {
     "end_time": "2024-04-21T15:21:51.996756Z",
     "start_time": "2024-04-21T15:21:51.992246Z"
    }
   },
   "id": "64822fd898302cf7",
   "outputs": [
    {
     "data": {
      "text/plain": [
       "dict_keys(['Background', 'Fur', 'Neck', 'Mouth', 'Eyes', 'Head', 'Feet', 'Back'])"
      ]
     },
     "execution_count": 5,
     "metadata": {},
     "output_type": "execute_result"
    }
   ],
   "execution_count": 5
  },
  {
   "cell_type": "markdown",
   "source": [
    "### 7. Calculating trait scores"
   ],
   "metadata": {
    "collapsed": false
   },
   "id": "72ceb35c1154a09d"
  },
  {
   "cell_type": "code",
   "source": [
    "# Example usage:\n",
    "total_nfts_bakc = 10000 # 9602 minted\n",
    "rarity_scores_bakc = calculate_rarity_scores(traits_bakc, total_nfts_bakc)"
   ],
   "metadata": {
    "collapsed": false,
    "ExecuteTime": {
     "end_time": "2024-04-21T15:24:46.664236Z",
     "start_time": "2024-04-21T15:24:46.661996Z"
    }
   },
   "id": "177b2515a96cee96",
   "outputs": [],
   "execution_count": 7
  },
  {
   "metadata": {
    "ExecuteTime": {
     "end_time": "2024-04-21T15:25:00.274523Z",
     "start_time": "2024-04-21T15:25:00.269423Z"
    }
   },
   "cell_type": "code",
   "source": "rarity_scores_bakc",
   "id": "670ed5419a207da1",
   "outputs": [
    {
     "data": {
      "text/plain": [
       "{'Background': {'Outhouse': 4.144218814753419,\n",
       "  'SS Monke Biz': 4.278990158322636,\n",
       "  'Swamp': 4.122011541632316,\n",
       "  'Club Exterior': 6.097560975609756,\n",
       "  'Bar': 12.72264631043257},\n",
       " 'Fur': {'Radioactive': 53.191489361702125,\n",
       "  'Brown': 6.570302233902759,\n",
       "  'Tan': 4.301075268817204,\n",
       "  'Robot': 26.109660574412533,\n",
       "  'Black': 6.377551020408164,\n",
       "  'Zombie': 25.641025641025642,\n",
       "  'Noise': 55.24861878453038,\n",
       "  'Pink': 9.920634920634921,\n",
       "  'Death Bot': 38.314176245210724,\n",
       "  'Galaxy': 45.24886877828054,\n",
       "  'Mega Death Bot': 58.47953216374269,\n",
       "  'Cheetah': 16.366612111292962,\n",
       "  'Cyberpunk': 36.90036900369004,\n",
       "  'Trippy': 90.90909090909092,\n",
       "  'DMT': 34.013605442176875,\n",
       "  'Solid Gold': 102.04081632653062},\n",
       " 'Neck': {'Japan Bandana': 90.90909090909092,\n",
       "  'Christmas Wreath': 55.24861878453038,\n",
       "  'Plaid Bowtie': 50.76142131979696,\n",
       "  'BAYC Collar': 11.025358324145534,\n",
       "  'Glow Necklace': 59.523809523809526,\n",
       "  'Red BAYC Bandana': 181.81818181818184,\n",
       "  'Whiskey Barrel': 119.04761904761905,\n",
       "  'Camo Bandana': 85.47008547008546,\n",
       "  'Pink Collar': 35.587188612099645,\n",
       "  'Spiked Collar': 74.6268656716418,\n",
       "  'Pinstripe Bandana': 55.55555555555556,\n",
       "  'Red Collar With Bone': 38.46153846153846,\n",
       "  'Life Preserver': 69.93006993006993,\n",
       "  'Ribbon': 60.6060606060606,\n",
       "  'Black BAYC Bandana': 77.51937984496124,\n",
       "  'Hawaiian Bandana': 45.24886877828054,\n",
       "  'Beer Can Necklace': 50.25125628140703,\n",
       "  'Lei': 117.6470588235294,\n",
       "  'Golden Bone Necklace': 50.76142131979696,\n",
       "  'Flamingo Bandana': 87.71929824561403,\n",
       "  'Gold Links': 56.17977528089888,\n",
       "  'USA Bandana': 103.09278350515464,\n",
       "  'Japanese Bandana': 108.69565217391305},\n",
       " 'Mouth': {'Hot Dog': 21.231422505307854,\n",
       "  'Bone': 33.557046979865774,\n",
       "  'Smiling': 5.636978579481398,\n",
       "  'Diamond Teeth': 83.33333333333333,\n",
       "  'Cigar': 53.191489361702125,\n",
       "  'Beer Can': 33.333333333333336,\n",
       "  'Slippers': 38.46153846153846,\n",
       "  'Frog Legs': 38.167938931297705,\n",
       "  'Tennis Ball': 37.735849056603776,\n",
       "  'Golden Hot Dog': 120.48192771084337,\n",
       "  'Drooling': 50.25125628140703,\n",
       "  'Growl': 47.61904761904761,\n",
       "  'Ape Hand': 35.2112676056338,\n",
       "  'Cyberjaw': 40.16064257028113,\n",
       "  'Kazoo': 60.975609756097555,\n",
       "  'Goofball': 27.027027027027028,\n",
       "  'Foaming': 55.55555555555556,\n",
       "  'Gold Teeth': 72.99270072992701,\n",
       "  'Red Raybeam': 92.59259259259258,\n",
       "  'Rainbow Teeth': 74.6268656716418,\n",
       "  'Rose': 40.816326530612244,\n",
       "  'Fish': 32.57328990228013,\n",
       "  'Loogie': 49.01960784313725,\n",
       "  'Bored': 28.57142857142857,\n",
       "  'Cigarette': 42.918454935622314,\n",
       "  'Cute Smile': 33.003300330033,\n",
       "  'Confused': 48.78048780487805,\n",
       "  'Happy': 45.24886877828054,\n",
       "  'Bubblegum': 83.33333333333333,\n",
       "  'Bloody': 31.746031746031747,\n",
       "  'Heavy Drooling': 52.631578947368425,\n",
       "  'Blep': 56.17977528089888,\n",
       "  'Stache': 58.13953488372093,\n",
       "  'Bloody Fangs': 55.24861878453038,\n",
       "  'Panting': 49.75124378109453,\n",
       "  'Fire Breath': 82.64462809917356},\n",
       " 'Eyes': {'Happy': 7.71604938271605,\n",
       "  'Hypnotized': 55.55555555555556,\n",
       "  'Hero Mask': 75.75757575757576,\n",
       "  'Cyberpunk Visor': 90.90909090909092,\n",
       "  'X Eyes': 51.81347150259067,\n",
       "  'Pilot Goggles': 52.91005291005291,\n",
       "  'Closed': 5.90318772136954,\n",
       "  'Mystic Eye': 64.93506493506493,\n",
       "  'Bloodshot': 29.498525073746315,\n",
       "  'Confused': 32.25806451612903,\n",
       "  'Zombie': 42.37288135593221,\n",
       "  'Heart Eyes': 32.89473684210526,\n",
       "  'Shutter Shades': 52.083333333333336,\n",
       "  'Whatever': 28.169014084507044,\n",
       "  'Suspicious': 28.49002849002849,\n",
       "  'Sunglasses': 33.11258278145695,\n",
       "  'Cyborg': 147.05882352941177,\n",
       "  'Radioactive': 58.8235294117647,\n",
       "  'Anime': 25.31645569620253,\n",
       "  'Sad': 25.706940874035993,\n",
       "  'Goofy': 27.397260273972606,\n",
       "  'Angry': 30.959752321981423,\n",
       "  'Wide': 29.673590504451038,\n",
       "  'Holographic Visor': 87.71929824561403,\n",
       "  'Laser': 138.88888888888889,\n",
       "  'Robot': 42.016806722689076,\n",
       "  'Cyberware': 147.05882352941177,\n",
       "  'Glowing Red': 68.02721088435375,\n",
       "  '3D Glasses': 32.67973856209151,\n",
       "  'Blue Beams': 156.25,\n",
       "  'Snorkel Gear': 107.52688172043011,\n",
       "  'Cyclops': 86.20689655172414},\n",
       " 'Head': {'Pimp Hat': 144.92753623188406,\n",
       "  'Rat': 76.33587786259541,\n",
       "  'Beer Helmet': 62.5,\n",
       "  'Purple Headband': 51.02040816326531,\n",
       "  'White Headband': 45.662100456621005,\n",
       "  'Bow': 37.59398496240602,\n",
       "  'Missile Launcher': 42.19409282700422,\n",
       "  'Halo': 73.52941176470588,\n",
       "  'Banana Peel': 35.46099290780142,\n",
       "  'BAYC Flipped Brim Hat': 54.6448087431694,\n",
       "  'Swamp Turtle': 163.93442622950818,\n",
       "  'Sushi Chef Headband': 76.33587786259541,\n",
       "  'BAYC Logo Hat Red': 125.0,\n",
       "  'Fez': 36.90036900369004,\n",
       "  'Earbuds': 56.497175141242934,\n",
       "  'Hermit Crab': 75.75757575757576,\n",
       "  'Bird': 45.662100456621005,\n",
       "  'Bowler': 48.78048780487805,\n",
       "  'BAYC Logo Hat Black': 78.125,\n",
       "  'Spinner Hat': 86.95652173913044,\n",
       "  'Santa Hat': 76.92307692307692,\n",
       "  'Cowboy Hat': 37.174721189591075,\n",
       "  'Rain Hat': 68.9655172413793,\n",
       "  'Beanie': 26.041666666666668,\n",
       "  'Tie': 49.504950495049506,\n",
       "  \"Trippy Captain's Hat\": 196.078431372549,\n",
       "  \"Pirate Captain's Hat\": 69.93006993006993,\n",
       "  \"Sea Captain's Hat\": 33.557046979865774,\n",
       "  \"Fisherman's Hat\": 50.5050505050505,\n",
       "  'Shrunken Head': 116.27906976744185,\n",
       "  \"King's Crown\": 161.29032258064515,\n",
       "  'Party Hat': 303.03030303030306},\n",
       " 'Feet': {'Rollerblades': 55.55555555555556,\n",
       "  'Rain Boots': 28.57142857142857,\n",
       "  'Cast': 22.22222222222222,\n",
       "  'Flask': 33.11258278145695,\n",
       "  'Cyberpunk Boots': 76.92307692307692,\n",
       "  'Old Laces': 41.1522633744856,\n",
       "  'Fresh Laces': 42.37288135593221,\n",
       "  'High Tops': 35.714285714285715,\n",
       "  'Gold Kicks': 98.0392156862745,\n",
       "  'Kicks': 42.37288135593221,\n",
       "  'Flippers': 36.36363636363637,\n",
       "  'Pink Combat Boots': 48.78048780487805,\n",
       "  '80s Kicks': 107.52688172043011,\n",
       "  'Combat Boots': 30.674846625766875,\n",
       "  'Leg Knife': 42.37288135593221,\n",
       "  'Boots': 27.17391304347826,\n",
       "  'Space Boots': 71.94244604316548},\n",
       " 'Back': {'Basketball Hoop': 42.5531914893617,\n",
       "  'Service Vest': 23.255813953488374,\n",
       "  'Camo Pack': 35.714285714285715,\n",
       "  'Beer Saddle': 30.030030030030026,\n",
       "  'Rocket Launcher': 64.93506493506493,\n",
       "  'Fishing Lures': 57.4712643678161,\n",
       "  'Jetpack': 50.0,\n",
       "  'Beer Kegs': 25.06265664160401,\n",
       "  'Doggie Pack': 67.56756756756756,\n",
       "  'Demon Wings': 128.2051282051282,\n",
       "  'Cyberpunk Pack': 58.8235294117647,\n",
       "  'Blue Pack': 25.31645569620253,\n",
       "  'Ninja Kunai': 54.054054054054056,\n",
       "  'Mega Rocket Launcher': 84.74576271186442,\n",
       "  'Toilet Paper Dispenser': 90.09009009009009,\n",
       "  'Space Pack': 175.43859649122805}}"
      ]
     },
     "execution_count": 8,
     "metadata": {},
     "output_type": "execute_result"
    }
   ],
   "execution_count": 8
  },
  {
   "metadata": {},
   "cell_type": "markdown",
   "source": "### 8. Calculating overall rairty score",
   "id": "235d487f3835dc05"
  },
  {
   "metadata": {},
   "cell_type": "code",
   "outputs": [],
   "execution_count": null,
   "source": "add_rarity_score(bakc_t, rarity_scores_bakc)",
   "id": "21f2f4f61564e0c9"
  }
 ],
 "metadata": {
  "kernelspec": {
   "display_name": "Python 3",
   "language": "python",
   "name": "python3"
  },
  "language_info": {
   "codemirror_mode": {
    "name": "ipython",
    "version": 2
   },
   "file_extension": ".py",
   "mimetype": "text/x-python",
   "name": "python",
   "nbconvert_exporter": "python",
   "pygments_lexer": "ipython2",
   "version": "2.7.6"
  }
 },
 "nbformat": 4,
 "nbformat_minor": 5
}
